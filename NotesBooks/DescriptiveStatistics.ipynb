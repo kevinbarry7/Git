{
 "cells": [
  {
   "cell_type": "markdown",
   "metadata": {},
   "source": [
    "<h3>Descriptive Statistics</h3>\n",
    "\n",
    "Notebook version of:\n",
    "https://rcompanion.org/handbook/C_02.html"
   ]
  },
  {
   "cell_type": "markdown",
   "metadata": {},
   "source": [
    "Define data using inline text"
   ]
  },
  {
   "cell_type": "code",
   "execution_count": 29,
   "metadata": {},
   "outputs": [],
   "source": [
    "Input = (\"\n",
    "Instructor  Location  Attendees\n",
    "Ren         North      7\n",
    "Ren         North     22\n",
    "Ren         North      6\n",
    "Ren         North     15\n",
    "Ren         South     12\n",
    "Ren         South     13\n",
    "Ren         South     14\n",
    "Ren         South     16\n",
    "Stimpy      North     18\n",
    "Stimpy      North     17\n",
    "Stimpy      North     15\n",
    "Stimpy      North      9\n",
    "Stimpy      South     15\n",
    "Stimpy      South     11\n",
    "Stimpy      South     19\n",
    "Stimpy      South     23\n",
    "\")"
   ]
  },
  {
   "cell_type": "code",
   "execution_count": 30,
   "metadata": {},
   "outputs": [
    {
     "name": "stdout",
     "output_type": "stream",
     "text": [
      "[1] \"\\nInstructor  Location  Attendees\\nRen         North      7\\nRen         North     22\\nRen         North      6\\nRen         North     15\\nRen         South     12\\nRen         South     13\\nRen         South     14\\nRen         South     16\\nStimpy      North     18\\nStimpy      North     17\\nStimpy      North     15\\nStimpy      North      9\\nStimpy      South     15\\nStimpy      South     11\\nStimpy      South     19\\nStimpy      South     23\\n\"\n"
     ]
    }
   ],
   "source": [
    "print(Input)"
   ]
  },
  {
   "cell_type": "markdown",
   "metadata": {},
   "source": [
    "Read data into a data frame"
   ]
  },
  {
   "cell_type": "code",
   "execution_count": 31,
   "metadata": {},
   "outputs": [],
   "source": [
    "Data = read.table(textConnection(Input), header=TRUE)"
   ]
  },
  {
   "cell_type": "markdown",
   "metadata": {},
   "source": [
    "Will output data frame called Data"
   ]
  },
  {
   "cell_type": "code",
   "execution_count": 32,
   "metadata": {},
   "outputs": [
    {
     "data": {
      "text/html": [
       "<table>\n",
       "<caption>A data.frame: 16 × 3</caption>\n",
       "<thead>\n",
       "\t<tr><th scope=col>Instructor</th><th scope=col>Location</th><th scope=col>Attendees</th></tr>\n",
       "\t<tr><th scope=col>&lt;fct&gt;</th><th scope=col>&lt;fct&gt;</th><th scope=col>&lt;int&gt;</th></tr>\n",
       "</thead>\n",
       "<tbody>\n",
       "\t<tr><td>Ren   </td><td>North</td><td> 7</td></tr>\n",
       "\t<tr><td>Ren   </td><td>North</td><td>22</td></tr>\n",
       "\t<tr><td>Ren   </td><td>North</td><td> 6</td></tr>\n",
       "\t<tr><td>Ren   </td><td>North</td><td>15</td></tr>\n",
       "\t<tr><td>Ren   </td><td>South</td><td>12</td></tr>\n",
       "\t<tr><td>Ren   </td><td>South</td><td>13</td></tr>\n",
       "\t<tr><td>Ren   </td><td>South</td><td>14</td></tr>\n",
       "\t<tr><td>Ren   </td><td>South</td><td>16</td></tr>\n",
       "\t<tr><td>Stimpy</td><td>North</td><td>18</td></tr>\n",
       "\t<tr><td>Stimpy</td><td>North</td><td>17</td></tr>\n",
       "\t<tr><td>Stimpy</td><td>North</td><td>15</td></tr>\n",
       "\t<tr><td>Stimpy</td><td>North</td><td> 9</td></tr>\n",
       "\t<tr><td>Stimpy</td><td>South</td><td>15</td></tr>\n",
       "\t<tr><td>Stimpy</td><td>South</td><td>11</td></tr>\n",
       "\t<tr><td>Stimpy</td><td>South</td><td>19</td></tr>\n",
       "\t<tr><td>Stimpy</td><td>South</td><td>23</td></tr>\n",
       "</tbody>\n",
       "</table>\n"
      ],
      "text/latex": [
       "A data.frame: 16 × 3\n",
       "\\begin{tabular}{lll}\n",
       " Instructor & Location & Attendees\\\\\n",
       " <fct> & <fct> & <int>\\\\\n",
       "\\hline\n",
       "\t Ren    & North &  7\\\\\n",
       "\t Ren    & North & 22\\\\\n",
       "\t Ren    & North &  6\\\\\n",
       "\t Ren    & North & 15\\\\\n",
       "\t Ren    & South & 12\\\\\n",
       "\t Ren    & South & 13\\\\\n",
       "\t Ren    & South & 14\\\\\n",
       "\t Ren    & South & 16\\\\\n",
       "\t Stimpy & North & 18\\\\\n",
       "\t Stimpy & North & 17\\\\\n",
       "\t Stimpy & North & 15\\\\\n",
       "\t Stimpy & North &  9\\\\\n",
       "\t Stimpy & South & 15\\\\\n",
       "\t Stimpy & South & 11\\\\\n",
       "\t Stimpy & South & 19\\\\\n",
       "\t Stimpy & South & 23\\\\\n",
       "\\end{tabular}\n"
      ],
      "text/markdown": [
       "\n",
       "A data.frame: 16 × 3\n",
       "\n",
       "| Instructor &lt;fct&gt; | Location &lt;fct&gt; | Attendees &lt;int&gt; |\n",
       "|---|---|---|\n",
       "| Ren    | North |  7 |\n",
       "| Ren    | North | 22 |\n",
       "| Ren    | North |  6 |\n",
       "| Ren    | North | 15 |\n",
       "| Ren    | South | 12 |\n",
       "| Ren    | South | 13 |\n",
       "| Ren    | South | 14 |\n",
       "| Ren    | South | 16 |\n",
       "| Stimpy | North | 18 |\n",
       "| Stimpy | North | 17 |\n",
       "| Stimpy | North | 15 |\n",
       "| Stimpy | North |  9 |\n",
       "| Stimpy | South | 15 |\n",
       "| Stimpy | South | 11 |\n",
       "| Stimpy | South | 19 |\n",
       "| Stimpy | South | 23 |\n",
       "\n"
      ],
      "text/plain": [
       "   Instructor Location Attendees\n",
       "1  Ren        North     7       \n",
       "2  Ren        North    22       \n",
       "3  Ren        North     6       \n",
       "4  Ren        North    15       \n",
       "5  Ren        South    12       \n",
       "6  Ren        South    13       \n",
       "7  Ren        South    14       \n",
       "8  Ren        South    16       \n",
       "9  Stimpy     North    18       \n",
       "10 Stimpy     North    17       \n",
       "11 Stimpy     North    15       \n",
       "12 Stimpy     North     9       \n",
       "13 Stimpy     South    15       \n",
       "14 Stimpy     South    11       \n",
       "15 Stimpy     South    19       \n",
       "16 Stimpy     South    23       "
      ]
     },
     "metadata": {},
     "output_type": "display_data"
    }
   ],
   "source": [
    "Data"
   ]
  },
  {
   "cell_type": "markdown",
   "metadata": {},
   "source": [
    "Shows the structure of the data frame"
   ]
  },
  {
   "cell_type": "code",
   "execution_count": 33,
   "metadata": {},
   "outputs": [
    {
     "name": "stdout",
     "output_type": "stream",
     "text": [
      "'data.frame':\t16 obs. of  3 variables:\n",
      " $ Instructor: Factor w/ 2 levels \"Ren\",\"Stimpy\": 1 1 1 1 1 1 1 1 2 2 ...\n",
      " $ Location  : Factor w/ 2 levels \"North\",\"South\": 1 1 1 1 2 2 2 2 1 1 ...\n",
      " $ Attendees : int  7 22 6 15 12 13 14 16 18 17 ...\n"
     ]
    }
   ],
   "source": [
    "str(Data)"
   ]
  },
  {
   "cell_type": "markdown",
   "metadata": {},
   "source": [
    "Summarizes variables in the data frame"
   ]
  },
  {
   "cell_type": "code",
   "execution_count": 34,
   "metadata": {},
   "outputs": [
    {
     "data": {
      "text/plain": [
       "  Instructor  Location   Attendees    \n",
       " Ren   :8    North:8   Min.   : 6.00  \n",
       " Stimpy:8    South:8   1st Qu.:11.75  \n",
       "                       Median :15.00  \n",
       "                       Mean   :14.50  \n",
       "                       3rd Qu.:17.25  \n",
       "                       Max.   :23.00  "
      ]
     },
     "metadata": {},
     "output_type": "display_data"
    }
   ],
   "source": [
    "summary(Data)"
   ]
  },
  {
   "cell_type": "markdown",
   "metadata": {},
   "source": [
    "The sum of a variable can be found with the sum function"
   ]
  },
  {
   "cell_type": "code",
   "execution_count": 35,
   "metadata": {},
   "outputs": [
    {
     "data": {
      "text/html": [
       "232"
      ],
      "text/latex": [
       "232"
      ],
      "text/markdown": [
       "232"
      ],
      "text/plain": [
       "[1] 232"
      ]
     },
     "metadata": {},
     "output_type": "display_data"
    }
   ],
   "source": [
    "sum(Data$Attendees)"
   ]
  },
  {
   "cell_type": "markdown",
   "metadata": {},
   "source": [
    "The number of observations can be found with the length function"
   ]
  },
  {
   "cell_type": "code",
   "execution_count": 36,
   "metadata": {},
   "outputs": [
    {
     "data": {
      "text/html": [
       "16"
      ],
      "text/latex": [
       "16"
      ],
      "text/markdown": [
       "16"
      ],
      "text/plain": [
       "[1] 16"
      ]
     },
     "metadata": {},
     "output_type": "display_data"
    }
   ],
   "source": [
    "length(Data$Attendees)"
   ]
  },
  {
   "cell_type": "markdown",
   "metadata": {},
   "source": [
    "<h4>Statistics of location for interval/ratio data</h4>"
   ]
  },
  {
   "cell_type": "markdown",
   "metadata": {},
   "source": [
    "<u>Mean</u>\n",
    "\n",
    "The <b>mean</b> is the arithmetic average, and is a common statistic used with interval/ratio data.  It is simply the sum of the values divided by the number of values."
   ]
  },
  {
   "cell_type": "code",
   "execution_count": 37,
   "metadata": {},
   "outputs": [
    {
     "data": {
      "text/html": [
       "14.5"
      ],
      "text/latex": [
       "14.5"
      ],
      "text/markdown": [
       "14.5"
      ],
      "text/plain": [
       "[1] 14.5"
      ]
     },
     "metadata": {},
     "output_type": "display_data"
    },
    {
     "data": {
      "text/html": [
       "14.5"
      ],
      "text/latex": [
       "14.5"
      ],
      "text/markdown": [
       "14.5"
      ],
      "text/plain": [
       "[1] 14.5"
      ]
     },
     "metadata": {},
     "output_type": "display_data"
    }
   ],
   "source": [
    "# compute the mean manually\n",
    "sum(Data$Attendees) / length(Data$Attendees)\n",
    "\n",
    "# compute the mean using built-in function\n",
    "mean(Data$Attendees)"
   ]
  },
  {
   "cell_type": "markdown",
   "metadata": {},
   "source": [
    "Watch out for skewed data when reporting mean values"
   ]
  },
  {
   "cell_type": "code",
   "execution_count": 38,
   "metadata": {},
   "outputs": [
    {
     "data": {
      "text/html": [
       "233300"
      ],
      "text/latex": [
       "233300"
      ],
      "text/markdown": [
       "233300"
      ],
      "text/plain": [
       "[1] 233300"
      ]
     },
     "metadata": {},
     "output_type": "display_data"
    }
   ],
   "source": [
    "Income = c(49000, 44000, 25000, 18000, 32000, 47000, 37000, 45000, 36000, 2000000)\n",
    "mean(Income)"
   ]
  },
  {
   "cell_type": "markdown",
   "metadata": {},
   "source": [
    "<u>Median</u>\n",
    "\n",
    "The <b>median</b> is defined as the value below which are 50% of the observations. "
   ]
  },
  {
   "cell_type": "code",
   "execution_count": 39,
   "metadata": {},
   "outputs": [
    {
     "data": {
      "text/html": [
       "15"
      ],
      "text/latex": [
       "15"
      ],
      "text/markdown": [
       "15"
      ],
      "text/plain": [
       "[1] 15"
      ]
     },
     "metadata": {},
     "output_type": "display_data"
    }
   ],
   "source": [
    "median(Data$Attendees)"
   ]
  },
  {
   "cell_type": "code",
   "execution_count": 40,
   "metadata": {},
   "outputs": [
    {
     "data": {
      "text/html": [
       "40500"
      ],
      "text/latex": [
       "40500"
      ],
      "text/markdown": [
       "40500"
      ],
      "text/plain": [
       "[1] 40500"
      ]
     },
     "metadata": {},
     "output_type": "display_data"
    }
   ],
   "source": [
    "median(Income)"
   ]
  },
  {
   "cell_type": "markdown",
   "metadata": {},
   "source": [
    "<u>Mode</u>\n",
    "\n",
    "The <b>mode</b> is simply the value which occurs most frequently. \n",
    "\n",
    "The <i>Mode</i> function can be found in the package <i>DescTools</i>."
   ]
  },
  {
   "cell_type": "code",
   "execution_count": 41,
   "metadata": {},
   "outputs": [
    {
     "data": {
      "text/html": [
       "15"
      ],
      "text/latex": [
       "15"
      ],
      "text/markdown": [
       "15"
      ],
      "text/plain": [
       "[1] 15\n",
       "attr(,\"freq\")\n",
       "[1] 3"
      ]
     },
     "metadata": {},
     "output_type": "display_data"
    }
   ],
   "source": [
    "library(DescTools)\n",
    "Mode(Data$Attendees)"
   ]
  },
  {
   "cell_type": "markdown",
   "metadata": {},
   "source": [
    "<h4>Statistics of variation for interval/ratio data</h4>"
   ]
  },
  {
   "cell_type": "markdown",
   "metadata": {},
   "source": [
    "<u>Standard Deviation</u>\n",
    "\n",
    "The <b>standard deviation</b> is a measure of variation which is commonly used with interval/ratio data.  It’s a measurement of how close the observations in the data set are to the mean. \n",
    "\n",
    "There’s a handy rule of thumb that—for normally distributed data—68% of data points fall within the mean ± 1 standard deviation, 95% of data points fall within the mean ± 2 standard deviations, and 99.7% of data points fall within the mean ± 3 standard deviations."
   ]
  },
  {
   "cell_type": "code",
   "execution_count": 42,
   "metadata": {},
   "outputs": [
    {
     "data": {
      "text/html": [
       "4.83045891539648"
      ],
      "text/latex": [
       "4.83045891539648"
      ],
      "text/markdown": [
       "4.83045891539648"
      ],
      "text/plain": [
       "[1] 4.830459"
      ]
     },
     "metadata": {},
     "output_type": "display_data"
    }
   ],
   "source": [
    "sd(Data$Attendees)"
   ]
  },
  {
   "cell_type": "markdown",
   "metadata": {},
   "source": [
    "<u>Standard error of the mean</u>\n",
    "\n",
    "<b>Standard error of the mean</b> is a measure that estimates how close a calculated mean is likely to be to the true mean of that population.  It is commonly used in tables or plots where multiple means are presented together."
   ]
  },
  {
   "cell_type": "code",
   "execution_count": 43,
   "metadata": {},
   "outputs": [
    {
     "data": {
      "text/html": [
       "1.20761472884912"
      ],
      "text/latex": [
       "1.20761472884912"
      ],
      "text/markdown": [
       "1.20761472884912"
      ],
      "text/plain": [
       "[1] 1.207615"
      ]
     },
     "metadata": {},
     "output_type": "display_data"
    }
   ],
   "source": [
    "sd(Data$Attendees) / sqrt(length(Data$Attendees))"
   ]
  },
  {
   "cell_type": "markdown",
   "metadata": {},
   "source": [
    "It can also be found in the output for the <i>describe</i> function in the <i>psych</i> package, labelled <i>se</i>."
   ]
  },
  {
   "cell_type": "code",
   "execution_count": 44,
   "metadata": {},
   "outputs": [
    {
     "data": {
      "text/html": [
       "<table>\n",
       "<caption>A psych: 1 × 13</caption>\n",
       "<thead>\n",
       "\t<tr><th></th><th scope=col>vars</th><th scope=col>n</th><th scope=col>mean</th><th scope=col>sd</th><th scope=col>median</th><th scope=col>trimmed</th><th scope=col>mad</th><th scope=col>min</th><th scope=col>max</th><th scope=col>range</th><th scope=col>skew</th><th scope=col>kurtosis</th><th scope=col>se</th></tr>\n",
       "\t<tr><th></th><th scope=col>&lt;dbl&gt;</th><th scope=col>&lt;dbl&gt;</th><th scope=col>&lt;dbl&gt;</th><th scope=col>&lt;dbl&gt;</th><th scope=col>&lt;dbl&gt;</th><th scope=col>&lt;dbl&gt;</th><th scope=col>&lt;dbl&gt;</th><th scope=col>&lt;dbl&gt;</th><th scope=col>&lt;dbl&gt;</th><th scope=col>&lt;dbl&gt;</th><th scope=col>&lt;dbl&gt;</th><th scope=col>&lt;dbl&gt;</th><th scope=col>&lt;dbl&gt;</th></tr>\n",
       "</thead>\n",
       "<tbody>\n",
       "\t<tr><th scope=row>X1</th><td>1</td><td>16</td><td>14.5</td><td>4.830459</td><td>15</td><td>14.5</td><td>4.4478</td><td>6</td><td>23</td><td>17</td><td>-0.04158877</td><td>-0.8783418</td><td>1.207615</td></tr>\n",
       "</tbody>\n",
       "</table>\n"
      ],
      "text/latex": [
       "A psych: 1 × 13\n",
       "\\begin{tabular}{r|lllllllllllll}\n",
       "  & vars & n & mean & sd & median & trimmed & mad & min & max & range & skew & kurtosis & se\\\\\n",
       "  & <dbl> & <dbl> & <dbl> & <dbl> & <dbl> & <dbl> & <dbl> & <dbl> & <dbl> & <dbl> & <dbl> & <dbl> & <dbl>\\\\\n",
       "\\hline\n",
       "\tX1 & 1 & 16 & 14.5 & 4.830459 & 15 & 14.5 & 4.4478 & 6 & 23 & 17 & -0.04158877 & -0.8783418 & 1.207615\\\\\n",
       "\\end{tabular}\n"
      ],
      "text/markdown": [
       "\n",
       "A psych: 1 × 13\n",
       "\n",
       "| <!--/--> | vars &lt;dbl&gt; | n &lt;dbl&gt; | mean &lt;dbl&gt; | sd &lt;dbl&gt; | median &lt;dbl&gt; | trimmed &lt;dbl&gt; | mad &lt;dbl&gt; | min &lt;dbl&gt; | max &lt;dbl&gt; | range &lt;dbl&gt; | skew &lt;dbl&gt; | kurtosis &lt;dbl&gt; | se &lt;dbl&gt; |\n",
       "|---|---|---|---|---|---|---|---|---|---|---|---|---|---|\n",
       "| X1 | 1 | 16 | 14.5 | 4.830459 | 15 | 14.5 | 4.4478 | 6 | 23 | 17 | -0.04158877 | -0.8783418 | 1.207615 |\n",
       "\n"
      ],
      "text/plain": [
       "   vars n  mean sd       median trimmed mad    min max range skew       \n",
       "X1 1    16 14.5 4.830459 15     14.5    4.4478 6   23  17    -0.04158877\n",
       "   kurtosis   se      \n",
       "X1 -0.8783418 1.207615"
      ]
     },
     "metadata": {},
     "output_type": "display_data"
    }
   ],
   "source": [
    "library(psych)\n",
    "describe(Data$Attendees)"
   ]
  },
  {
   "cell_type": "markdown",
   "metadata": {},
   "source": [
    "<u>Five-number summary, quartiles, percentiles</u>\n",
    "\n",
    "The median is the same as the 50th percentile, because 50% of values fall below this value.  Other percentiles for a data set can be identified to provide more information.  Typically, the 0th, 25th, 50th, 75th, and 100th percentiles are reported.  This is sometimes called the five-number summary.\n",
    "\n",
    "These values can also be called the minimum, 1st quartile, 2nd quartile, 3rd quartile, and maximum.\n",
    "\n",
    "The five-number summary is a useful measure of variation for skewed interval/ratio data or for ordinal data.  25% of values fall below the 1st quartile and 25% of values fall above the 3rd quartile.  This leaves the middle 50% of values between the 1st and 3rd quartiles, giving a sense of the range of the middle half of the data.  This range is called the interquartile range (IQR).\n",
    "\n",
    "Percentiles and quartiles are relatively robust, as they aren’t affected much by a few extreme values.  They are appropriate for both skewed and unskewed data."
   ]
  },
  {
   "cell_type": "code",
   "execution_count": 45,
   "metadata": {},
   "outputs": [
    {
     "data": {
      "text/plain": [
       "   Min. 1st Qu.  Median    Mean 3rd Qu.    Max. \n",
       "   6.00   11.75   15.00   14.50   17.25   23.00 "
      ]
     },
     "metadata": {},
     "output_type": "display_data"
    }
   ],
   "source": [
    "summary(Data$Attendees)"
   ]
  },
  {
   "cell_type": "markdown",
   "metadata": {},
   "source": [
    "<u>Optional technical note on calculating percentiles</u>\n",
    "\n",
    "(Skipped for now.)"
   ]
  },
  {
   "cell_type": "markdown",
   "metadata": {},
   "source": [
    "<h4>Statistics for grouped interval/ratio data</h4>"
   ]
  },
  {
   "cell_type": "markdown",
   "metadata": {},
   "source": [
    "In many cases, we will want to examine summary statistics for a variable within groups."
   ]
  },
  {
   "cell_type": "markdown",
   "metadata": {},
   "source": [
    "<u>Summarize in FSA</u>\n",
    "\n",
    "<i>Attendees</i> is the dependent variable (the variable you want to get the statistics for); and <i>Instructor</i> is the independent variable (the grouping variable).  <i>Summarize</i> allows you to summarize over the combination of multiple independent variables by listing them to the right of the ~ separated by a plus sign (+)."
   ]
  },
  {
   "cell_type": "code",
   "execution_count": 75,
   "metadata": {},
   "outputs": [
    {
     "data": {
      "text/html": [
       "<table>\n",
       "<caption>A data.frame: 2 × 9</caption>\n",
       "<thead>\n",
       "\t<tr><th scope=col>Instructor</th><th scope=col>n</th><th scope=col>mean</th><th scope=col>sd</th><th scope=col>min</th><th scope=col>Q1</th><th scope=col>median</th><th scope=col>Q3</th><th scope=col>max</th></tr>\n",
       "\t<tr><th scope=col>&lt;fct&gt;</th><th scope=col>&lt;dbl&gt;</th><th scope=col>&lt;dbl&gt;</th><th scope=col>&lt;dbl&gt;</th><th scope=col>&lt;dbl&gt;</th><th scope=col>&lt;dbl&gt;</th><th scope=col>&lt;dbl&gt;</th><th scope=col>&lt;dbl&gt;</th><th scope=col>&lt;dbl&gt;</th></tr>\n",
       "</thead>\n",
       "<tbody>\n",
       "\t<tr><td>Ren   </td><td>8</td><td>13.125</td><td>5.083236</td><td>6</td><td>10.75</td><td>13.5</td><td>15.25</td><td>22</td></tr>\n",
       "\t<tr><td>Stimpy</td><td>8</td><td>15.875</td><td>4.454131</td><td>9</td><td>14.00</td><td>16.0</td><td>18.25</td><td>23</td></tr>\n",
       "</tbody>\n",
       "</table>\n"
      ],
      "text/latex": [
       "A data.frame: 2 × 9\n",
       "\\begin{tabular}{lllllllll}\n",
       " Instructor & n & mean & sd & min & Q1 & median & Q3 & max\\\\\n",
       " <fct> & <dbl> & <dbl> & <dbl> & <dbl> & <dbl> & <dbl> & <dbl> & <dbl>\\\\\n",
       "\\hline\n",
       "\t Ren    & 8 & 13.125 & 5.083236 & 6 & 10.75 & 13.5 & 15.25 & 22\\\\\n",
       "\t Stimpy & 8 & 15.875 & 4.454131 & 9 & 14.00 & 16.0 & 18.25 & 23\\\\\n",
       "\\end{tabular}\n"
      ],
      "text/markdown": [
       "\n",
       "A data.frame: 2 × 9\n",
       "\n",
       "| Instructor &lt;fct&gt; | n &lt;dbl&gt; | mean &lt;dbl&gt; | sd &lt;dbl&gt; | min &lt;dbl&gt; | Q1 &lt;dbl&gt; | median &lt;dbl&gt; | Q3 &lt;dbl&gt; | max &lt;dbl&gt; |\n",
       "|---|---|---|---|---|---|---|---|---|\n",
       "| Ren    | 8 | 13.125 | 5.083236 | 6 | 10.75 | 13.5 | 15.25 | 22 |\n",
       "| Stimpy | 8 | 15.875 | 4.454131 | 9 | 14.00 | 16.0 | 18.25 | 23 |\n",
       "\n"
      ],
      "text/plain": [
       "  Instructor n mean   sd       min Q1    median Q3    max\n",
       "1 Ren        8 13.125 5.083236 6   10.75 13.5   15.25 22 \n",
       "2 Stimpy     8 15.875 4.454131 9   14.00 16.0   18.25 23 "
      ]
     },
     "metadata": {},
     "output_type": "display_data"
    }
   ],
   "source": [
    "library(FSA)\n",
    "Summarize(Attendees ~ Instructor, data=Data)"
   ]
  },
  {
   "cell_type": "code",
   "execution_count": 47,
   "metadata": {},
   "outputs": [
    {
     "data": {
      "text/html": [
       "<table>\n",
       "<caption>A data.frame: 4 × 10</caption>\n",
       "<thead>\n",
       "\t<tr><th scope=col>Instructor</th><th scope=col>Location</th><th scope=col>n</th><th scope=col>mean</th><th scope=col>sd</th><th scope=col>min</th><th scope=col>Q1</th><th scope=col>median</th><th scope=col>Q3</th><th scope=col>max</th></tr>\n",
       "\t<tr><th scope=col>&lt;fct&gt;</th><th scope=col>&lt;fct&gt;</th><th scope=col>&lt;dbl&gt;</th><th scope=col>&lt;dbl&gt;</th><th scope=col>&lt;dbl&gt;</th><th scope=col>&lt;dbl&gt;</th><th scope=col>&lt;dbl&gt;</th><th scope=col>&lt;dbl&gt;</th><th scope=col>&lt;dbl&gt;</th><th scope=col>&lt;dbl&gt;</th></tr>\n",
       "</thead>\n",
       "<tbody>\n",
       "\t<tr><td>Ren   </td><td>North</td><td>4</td><td>12.50</td><td>7.505553</td><td> 6</td><td> 6.75</td><td>11.0</td><td>16.75</td><td>22</td></tr>\n",
       "\t<tr><td>Stimpy</td><td>North</td><td>4</td><td>14.75</td><td>4.031129</td><td> 9</td><td>13.50</td><td>16.0</td><td>17.25</td><td>18</td></tr>\n",
       "\t<tr><td>Ren   </td><td>South</td><td>4</td><td>13.75</td><td>1.707825</td><td>12</td><td>12.75</td><td>13.5</td><td>14.50</td><td>16</td></tr>\n",
       "\t<tr><td>Stimpy</td><td>South</td><td>4</td><td>17.00</td><td>5.163978</td><td>11</td><td>14.00</td><td>17.0</td><td>20.00</td><td>23</td></tr>\n",
       "</tbody>\n",
       "</table>\n"
      ],
      "text/latex": [
       "A data.frame: 4 × 10\n",
       "\\begin{tabular}{llllllllll}\n",
       " Instructor & Location & n & mean & sd & min & Q1 & median & Q3 & max\\\\\n",
       " <fct> & <fct> & <dbl> & <dbl> & <dbl> & <dbl> & <dbl> & <dbl> & <dbl> & <dbl>\\\\\n",
       "\\hline\n",
       "\t Ren    & North & 4 & 12.50 & 7.505553 &  6 &  6.75 & 11.0 & 16.75 & 22\\\\\n",
       "\t Stimpy & North & 4 & 14.75 & 4.031129 &  9 & 13.50 & 16.0 & 17.25 & 18\\\\\n",
       "\t Ren    & South & 4 & 13.75 & 1.707825 & 12 & 12.75 & 13.5 & 14.50 & 16\\\\\n",
       "\t Stimpy & South & 4 & 17.00 & 5.163978 & 11 & 14.00 & 17.0 & 20.00 & 23\\\\\n",
       "\\end{tabular}\n"
      ],
      "text/markdown": [
       "\n",
       "A data.frame: 4 × 10\n",
       "\n",
       "| Instructor &lt;fct&gt; | Location &lt;fct&gt; | n &lt;dbl&gt; | mean &lt;dbl&gt; | sd &lt;dbl&gt; | min &lt;dbl&gt; | Q1 &lt;dbl&gt; | median &lt;dbl&gt; | Q3 &lt;dbl&gt; | max &lt;dbl&gt; |\n",
       "|---|---|---|---|---|---|---|---|---|---|\n",
       "| Ren    | North | 4 | 12.50 | 7.505553 |  6 |  6.75 | 11.0 | 16.75 | 22 |\n",
       "| Stimpy | North | 4 | 14.75 | 4.031129 |  9 | 13.50 | 16.0 | 17.25 | 18 |\n",
       "| Ren    | South | 4 | 13.75 | 1.707825 | 12 | 12.75 | 13.5 | 14.50 | 16 |\n",
       "| Stimpy | South | 4 | 17.00 | 5.163978 | 11 | 14.00 | 17.0 | 20.00 | 23 |\n",
       "\n"
      ],
      "text/plain": [
       "  Instructor Location n mean  sd       min Q1    median Q3    max\n",
       "1 Ren        North    4 12.50 7.505553  6   6.75 11.0   16.75 22 \n",
       "2 Stimpy     North    4 14.75 4.031129  9  13.50 16.0   17.25 18 \n",
       "3 Ren        South    4 13.75 1.707825 12  12.75 13.5   14.50 16 \n",
       "4 Stimpy     South    4 17.00 5.163978 11  14.00 17.0   20.00 23 "
      ]
     },
     "metadata": {},
     "output_type": "display_data"
    }
   ],
   "source": [
    "Summarize(Attendees ~ Instructor + Location, data=Data)"
   ]
  },
  {
   "cell_type": "markdown",
   "metadata": {},
   "source": [
    "<u>summarySE in Rmisc</u>\n",
    "\n",
    "The <i>summarySE</i> function in the <i>Rmisc</i> package outputs the number of observations, mean, standard deviation, standard error of the mean, and confidence interval for grouped data.  The <i>summarySE</i> function allows you to summarize over the combination of multiple independent variables by listing them as a vector, e.g. c(\"Instructor\", \"Student\")."
   ]
  },
  {
   "cell_type": "code",
   "execution_count": 48,
   "metadata": {},
   "outputs": [
    {
     "data": {
      "text/html": [
       "<table>\n",
       "<caption>A data.frame: 2 × 6</caption>\n",
       "<thead>\n",
       "\t<tr><th scope=col>Instructor</th><th scope=col>N</th><th scope=col>Attendees</th><th scope=col>sd</th><th scope=col>se</th><th scope=col>ci</th></tr>\n",
       "\t<tr><th scope=col>&lt;fct&gt;</th><th scope=col>&lt;dbl&gt;</th><th scope=col>&lt;dbl&gt;</th><th scope=col>&lt;dbl&gt;</th><th scope=col>&lt;dbl&gt;</th><th scope=col>&lt;dbl&gt;</th></tr>\n",
       "</thead>\n",
       "<tbody>\n",
       "\t<tr><td>Ren   </td><td>8</td><td>13.125</td><td>5.083236</td><td>1.797195</td><td>4.249691</td></tr>\n",
       "\t<tr><td>Stimpy</td><td>8</td><td>15.875</td><td>4.454131</td><td>1.574773</td><td>3.723747</td></tr>\n",
       "</tbody>\n",
       "</table>\n"
      ],
      "text/latex": [
       "A data.frame: 2 × 6\n",
       "\\begin{tabular}{llllll}\n",
       " Instructor & N & Attendees & sd & se & ci\\\\\n",
       " <fct> & <dbl> & <dbl> & <dbl> & <dbl> & <dbl>\\\\\n",
       "\\hline\n",
       "\t Ren    & 8 & 13.125 & 5.083236 & 1.797195 & 4.249691\\\\\n",
       "\t Stimpy & 8 & 15.875 & 4.454131 & 1.574773 & 3.723747\\\\\n",
       "\\end{tabular}\n"
      ],
      "text/markdown": [
       "\n",
       "A data.frame: 2 × 6\n",
       "\n",
       "| Instructor &lt;fct&gt; | N &lt;dbl&gt; | Attendees &lt;dbl&gt; | sd &lt;dbl&gt; | se &lt;dbl&gt; | ci &lt;dbl&gt; |\n",
       "|---|---|---|---|---|---|\n",
       "| Ren    | 8 | 13.125 | 5.083236 | 1.797195 | 4.249691 |\n",
       "| Stimpy | 8 | 15.875 | 4.454131 | 1.574773 | 3.723747 |\n",
       "\n"
      ],
      "text/plain": [
       "  Instructor N Attendees sd       se       ci      \n",
       "1 Ren        8 13.125    5.083236 1.797195 4.249691\n",
       "2 Stimpy     8 15.875    4.454131 1.574773 3.723747"
      ]
     },
     "metadata": {},
     "output_type": "display_data"
    }
   ],
   "source": [
    "library(Rmisc)\n",
    "summarySE(data=Data,\n",
    "          \"Attendees\",\n",
    "          groupvars=\"Instructor\",\n",
    "          conf.interval = 0.95)"
   ]
  },
  {
   "cell_type": "code",
   "execution_count": 49,
   "metadata": {},
   "outputs": [
    {
     "data": {
      "text/html": [
       "<table>\n",
       "<caption>A data.frame: 4 × 7</caption>\n",
       "<thead>\n",
       "\t<tr><th scope=col>Instructor</th><th scope=col>Location</th><th scope=col>N</th><th scope=col>Attendees</th><th scope=col>sd</th><th scope=col>se</th><th scope=col>ci</th></tr>\n",
       "\t<tr><th scope=col>&lt;fct&gt;</th><th scope=col>&lt;fct&gt;</th><th scope=col>&lt;dbl&gt;</th><th scope=col>&lt;dbl&gt;</th><th scope=col>&lt;dbl&gt;</th><th scope=col>&lt;dbl&gt;</th><th scope=col>&lt;dbl&gt;</th></tr>\n",
       "</thead>\n",
       "<tbody>\n",
       "\t<tr><td>Ren   </td><td>North</td><td>4</td><td>12.50</td><td>7.505553</td><td>3.7527767</td><td>11.943011</td></tr>\n",
       "\t<tr><td>Ren   </td><td>South</td><td>4</td><td>13.75</td><td>1.707825</td><td>0.8539126</td><td> 2.717531</td></tr>\n",
       "\t<tr><td>Stimpy</td><td>North</td><td>4</td><td>14.75</td><td>4.031129</td><td>2.0155644</td><td> 6.414426</td></tr>\n",
       "\t<tr><td>Stimpy</td><td>South</td><td>4</td><td>17.00</td><td>5.163978</td><td>2.5819889</td><td> 8.217041</td></tr>\n",
       "</tbody>\n",
       "</table>\n"
      ],
      "text/latex": [
       "A data.frame: 4 × 7\n",
       "\\begin{tabular}{lllllll}\n",
       " Instructor & Location & N & Attendees & sd & se & ci\\\\\n",
       " <fct> & <fct> & <dbl> & <dbl> & <dbl> & <dbl> & <dbl>\\\\\n",
       "\\hline\n",
       "\t Ren    & North & 4 & 12.50 & 7.505553 & 3.7527767 & 11.943011\\\\\n",
       "\t Ren    & South & 4 & 13.75 & 1.707825 & 0.8539126 &  2.717531\\\\\n",
       "\t Stimpy & North & 4 & 14.75 & 4.031129 & 2.0155644 &  6.414426\\\\\n",
       "\t Stimpy & South & 4 & 17.00 & 5.163978 & 2.5819889 &  8.217041\\\\\n",
       "\\end{tabular}\n"
      ],
      "text/markdown": [
       "\n",
       "A data.frame: 4 × 7\n",
       "\n",
       "| Instructor &lt;fct&gt; | Location &lt;fct&gt; | N &lt;dbl&gt; | Attendees &lt;dbl&gt; | sd &lt;dbl&gt; | se &lt;dbl&gt; | ci &lt;dbl&gt; |\n",
       "|---|---|---|---|---|---|---|\n",
       "| Ren    | North | 4 | 12.50 | 7.505553 | 3.7527767 | 11.943011 |\n",
       "| Ren    | South | 4 | 13.75 | 1.707825 | 0.8539126 |  2.717531 |\n",
       "| Stimpy | North | 4 | 14.75 | 4.031129 | 2.0155644 |  6.414426 |\n",
       "| Stimpy | South | 4 | 17.00 | 5.163978 | 2.5819889 |  8.217041 |\n",
       "\n"
      ],
      "text/plain": [
       "  Instructor Location N Attendees sd       se        ci       \n",
       "1 Ren        North    4 12.50     7.505553 3.7527767 11.943011\n",
       "2 Ren        South    4 13.75     1.707825 0.8539126  2.717531\n",
       "3 Stimpy     North    4 14.75     4.031129 2.0155644  6.414426\n",
       "4 Stimpy     South    4 17.00     5.163978 2.5819889  8.217041"
      ]
     },
     "metadata": {},
     "output_type": "display_data"
    }
   ],
   "source": [
    "summarySE(data=Data,\n",
    "          \"Attendees\",\n",
    "          groupvars = c(\"Instructor\", \"Location\"),\n",
    "          conf.interval = 0.95)"
   ]
  },
  {
   "cell_type": "markdown",
   "metadata": {},
   "source": [
    "<u>describeBy in psych</u>\n",
    "\n",
    "The <i>describeBy</i> function in the psych package returns the number of observations, mean, median, trimmed means, minimum, maximum, range, skew, kurtosis, and standard error of the mean for grouped data.  <i>describeBy</i> allows you to summarize over the combination of multiple independent variables by combining terms with a colon (:)."
   ]
  },
  {
   "cell_type": "code",
   "execution_count": 50,
   "metadata": {},
   "outputs": [
    {
     "data": {
      "text/plain": [
       "\n",
       " Descriptive statistics by group \n",
       "group: Ren\n",
       "   vars n  mean   sd median trimmed  mad min max range skew kurtosis  se\n",
       "X1    1 8 13.12 5.08   13.5   13.12 2.97   6  22    16 0.13    -1.08 1.8\n",
       "------------------------------------------------------------ \n",
       "group: Stimpy\n",
       "   vars n  mean   sd median trimmed  mad min max range  skew kurtosis   se\n",
       "X1    1 8 15.88 4.45     16   15.88 3.71   9  23    14 -0.06    -1.26 1.57"
      ]
     },
     "metadata": {},
     "output_type": "display_data"
    }
   ],
   "source": [
    "library(psych)\n",
    "\n",
    "describeBy(Data$Attendees,\n",
    "          group = Data$Instructor,\n",
    "          digits = 4)"
   ]
  },
  {
   "cell_type": "code",
   "execution_count": 51,
   "metadata": {},
   "outputs": [
    {
     "data": {
      "text/plain": [
       "\n",
       " Descriptive statistics by group \n",
       "group: Ren:North\n",
       "   vars n mean   sd median trimmed  mad min max range skew kurtosis   se\n",
       "X1    1 4 12.5 7.51     11    12.5 6.67   6  22    16 0.26    -2.14 3.75\n",
       "------------------------------------------------------------ \n",
       "group: Ren:South\n",
       "   vars n  mean   sd median trimmed  mad min max range skew kurtosis   se\n",
       "X1    1 4 13.75 1.71   13.5   13.75 1.48  12  16     4 0.28    -1.96 0.85\n",
       "------------------------------------------------------------ \n",
       "group: Stimpy:North\n",
       "   vars n  mean   sd median trimmed  mad min max range  skew kurtosis   se\n",
       "X1    1 4 14.75 4.03     16   14.75 2.22   9  18     9 -0.55    -1.84 2.02\n",
       "------------------------------------------------------------ \n",
       "group: Stimpy:South\n",
       "   vars n mean   sd median trimmed  mad min max range skew kurtosis   se\n",
       "X1    1 4   17 5.16     17      17 5.93  11  23    12    0    -2.08 2.58"
      ]
     },
     "metadata": {},
     "output_type": "display_data"
    }
   ],
   "source": [
    "describeBy(Data$Attendees,\n",
    "           group = Data$Instructor : Data$Location,\n",
    "           digits= 4)"
   ]
  },
  {
   "cell_type": "markdown",
   "metadata": {},
   "source": [
    "<h4>Summaries for data frames</h4>\n",
    "\n",
    "Often we will want to summarize variables in a whole data frame, either to get some summary statistics for individual variables, or to check that variables have the values we expected in inputting the data, to be sure there wasn’t some error.\n",
    "\n",
    "<u>The <i>str</i> function</u>\n",
    "\n",
    "The <i>str</i> function in the native <i>utils</i> package will list variables for a data frame, with their types and levels.  <i>Data</i> is the name of the data frame, created above."
   ]
  },
  {
   "cell_type": "code",
   "execution_count": 52,
   "metadata": {},
   "outputs": [
    {
     "name": "stdout",
     "output_type": "stream",
     "text": [
      "'data.frame':\t16 obs. of  3 variables:\n",
      " $ Instructor: Factor w/ 2 levels \"Ren\",\"Stimpy\": 1 1 1 1 1 1 1 1 2 2 ...\n",
      " $ Location  : Factor w/ 2 levels \"North\",\"South\": 1 1 1 1 2 2 2 2 1 1 ...\n",
      " $ Attendees : int  7 22 6 15 12 13 14 16 18 17 ...\n"
     ]
    }
   ],
   "source": [
    "str(Data)"
   ]
  },
  {
   "cell_type": "markdown",
   "metadata": {},
   "source": [
    "<u>The summary function</u>\n",
    "\n",
    "The <i>summary</i> function in the native <i>base</i> package will summarize all variables in a data frame, listing the frequencies for levels of nominal variables; and for interval/ratio data, the minimum, 1st quartile, median, mean, 3rd quartile, and maximum."
   ]
  },
  {
   "cell_type": "code",
   "execution_count": 53,
   "metadata": {},
   "outputs": [
    {
     "data": {
      "text/plain": [
       "  Instructor  Location   Attendees    \n",
       " Ren   :8    North:8   Min.   : 6.00  \n",
       " Stimpy:8    South:8   1st Qu.:11.75  \n",
       "                       Median :15.00  \n",
       "                       Mean   :14.50  \n",
       "                       3rd Qu.:17.25  \n",
       "                       Max.   :23.00  "
      ]
     },
     "metadata": {},
     "output_type": "display_data"
    }
   ],
   "source": [
    "summary(Data)"
   ]
  },
  {
   "cell_type": "markdown",
   "metadata": {},
   "source": [
    "<u>The <i>headTail</i> function in <i>psych</i></u>\n",
    "\n",
    "The <i>headTail</i> function in the <i>psych</i> package reports the first and last observations for a data frame."
   ]
  },
  {
   "cell_type": "code",
   "execution_count": 54,
   "metadata": {},
   "outputs": [
    {
     "data": {
      "text/html": [
       "<table>\n",
       "<caption>A data.frame: 9 × 3</caption>\n",
       "<thead>\n",
       "\t<tr><th></th><th scope=col>Instructor</th><th scope=col>Location</th><th scope=col>Attendees</th></tr>\n",
       "\t<tr><th></th><th scope=col>&lt;fct&gt;</th><th scope=col>&lt;fct&gt;</th><th scope=col>&lt;chr&gt;</th></tr>\n",
       "</thead>\n",
       "<tbody>\n",
       "\t<tr><th scope=row>1</th><td>Ren   </td><td>North</td><td>7  </td></tr>\n",
       "\t<tr><th scope=row>2</th><td>Ren   </td><td>North</td><td>22 </td></tr>\n",
       "\t<tr><th scope=row>3</th><td>Ren   </td><td>North</td><td>6  </td></tr>\n",
       "\t<tr><th scope=row>4</th><td>Ren   </td><td>North</td><td>15 </td></tr>\n",
       "\t<tr><th scope=row>...</th><td>NA    </td><td>NA   </td><td>...</td></tr>\n",
       "\t<tr><th scope=row>13</th><td>Stimpy</td><td>South</td><td>15 </td></tr>\n",
       "\t<tr><th scope=row>14</th><td>Stimpy</td><td>South</td><td>11 </td></tr>\n",
       "\t<tr><th scope=row>15</th><td>Stimpy</td><td>South</td><td>19 </td></tr>\n",
       "\t<tr><th scope=row>16</th><td>Stimpy</td><td>South</td><td>23 </td></tr>\n",
       "</tbody>\n",
       "</table>\n"
      ],
      "text/latex": [
       "A data.frame: 9 × 3\n",
       "\\begin{tabular}{r|lll}\n",
       "  & Instructor & Location & Attendees\\\\\n",
       "  & <fct> & <fct> & <chr>\\\\\n",
       "\\hline\n",
       "\t1 & Ren    & North & 7  \\\\\n",
       "\t2 & Ren    & North & 22 \\\\\n",
       "\t3 & Ren    & North & 6  \\\\\n",
       "\t4 & Ren    & North & 15 \\\\\n",
       "\t... & NA     & NA    & ...\\\\\n",
       "\t13 & Stimpy & South & 15 \\\\\n",
       "\t14 & Stimpy & South & 11 \\\\\n",
       "\t15 & Stimpy & South & 19 \\\\\n",
       "\t16 & Stimpy & South & 23 \\\\\n",
       "\\end{tabular}\n"
      ],
      "text/markdown": [
       "\n",
       "A data.frame: 9 × 3\n",
       "\n",
       "| <!--/--> | Instructor &lt;fct&gt; | Location &lt;fct&gt; | Attendees &lt;chr&gt; |\n",
       "|---|---|---|---|\n",
       "| 1 | Ren    | North | 7   |\n",
       "| 2 | Ren    | North | 22  |\n",
       "| 3 | Ren    | North | 6   |\n",
       "| 4 | Ren    | North | 15  |\n",
       "| ... | NA     | NA    | ... |\n",
       "| 13 | Stimpy | South | 15  |\n",
       "| 14 | Stimpy | South | 11  |\n",
       "| 15 | Stimpy | South | 19  |\n",
       "| 16 | Stimpy | South | 23  |\n",
       "\n"
      ],
      "text/plain": [
       "    Instructor Location Attendees\n",
       "1   Ren        North    7        \n",
       "2   Ren        North    22       \n",
       "3   Ren        North    6        \n",
       "4   Ren        North    15       \n",
       "... NA         NA       ...      \n",
       "13  Stimpy     South    15       \n",
       "14  Stimpy     South    11       \n",
       "15  Stimpy     South    19       \n",
       "16  Stimpy     South    23       "
      ]
     },
     "metadata": {},
     "output_type": "display_data"
    }
   ],
   "source": [
    "library(psych)\n",
    "headTail(Data)"
   ]
  },
  {
   "cell_type": "markdown",
   "metadata": {},
   "source": [
    "<u>The <i>describe</i> function in <i>psych</i></u>\n",
    "\n",
    "The <i>describe</i> function in the <i>psych</i> package reports number of observations, mean, standard deviation, trimmed means, minimum, maximum, range, skew, kurtosis, and standard error for variables in a data frame. \n",
    "\n",
    "Note that factor variables are labeled with an asterisk (*), and the levels of the factors are coded as 1, 2, 3, etc."
   ]
  },
  {
   "cell_type": "code",
   "execution_count": 55,
   "metadata": {},
   "outputs": [
    {
     "data": {
      "text/html": [
       "<table>\n",
       "<caption>A psych: 3 × 13</caption>\n",
       "<thead>\n",
       "\t<tr><th></th><th scope=col>vars</th><th scope=col>n</th><th scope=col>mean</th><th scope=col>sd</th><th scope=col>median</th><th scope=col>trimmed</th><th scope=col>mad</th><th scope=col>min</th><th scope=col>max</th><th scope=col>range</th><th scope=col>skew</th><th scope=col>kurtosis</th><th scope=col>se</th></tr>\n",
       "\t<tr><th></th><th scope=col>&lt;int&gt;</th><th scope=col>&lt;dbl&gt;</th><th scope=col>&lt;dbl&gt;</th><th scope=col>&lt;dbl&gt;</th><th scope=col>&lt;dbl&gt;</th><th scope=col>&lt;dbl&gt;</th><th scope=col>&lt;dbl&gt;</th><th scope=col>&lt;dbl&gt;</th><th scope=col>&lt;dbl&gt;</th><th scope=col>&lt;dbl&gt;</th><th scope=col>&lt;dbl&gt;</th><th scope=col>&lt;dbl&gt;</th><th scope=col>&lt;dbl&gt;</th></tr>\n",
       "</thead>\n",
       "<tbody>\n",
       "\t<tr><th scope=row>Instructor*</th><td>1</td><td>16</td><td> 1.5</td><td>0.5163978</td><td> 1.5</td><td> 1.5</td><td>0.7413</td><td>1</td><td> 2</td><td> 1</td><td> 0.00000000</td><td>-2.1210937</td><td>0.1290994</td></tr>\n",
       "\t<tr><th scope=row>Location*</th><td>2</td><td>16</td><td> 1.5</td><td>0.5163978</td><td> 1.5</td><td> 1.5</td><td>0.7413</td><td>1</td><td> 2</td><td> 1</td><td> 0.00000000</td><td>-2.1210937</td><td>0.1290994</td></tr>\n",
       "\t<tr><th scope=row>Attendees</th><td>3</td><td>16</td><td>14.5</td><td>4.8304589</td><td>15.0</td><td>14.5</td><td>4.4478</td><td>6</td><td>23</td><td>17</td><td>-0.04158877</td><td>-0.8783418</td><td>1.2076147</td></tr>\n",
       "</tbody>\n",
       "</table>\n"
      ],
      "text/latex": [
       "A psych: 3 × 13\n",
       "\\begin{tabular}{r|lllllllllllll}\n",
       "  & vars & n & mean & sd & median & trimmed & mad & min & max & range & skew & kurtosis & se\\\\\n",
       "  & <int> & <dbl> & <dbl> & <dbl> & <dbl> & <dbl> & <dbl> & <dbl> & <dbl> & <dbl> & <dbl> & <dbl> & <dbl>\\\\\n",
       "\\hline\n",
       "\tInstructor* & 1 & 16 &  1.5 & 0.5163978 &  1.5 &  1.5 & 0.7413 & 1 &  2 &  1 &  0.00000000 & -2.1210937 & 0.1290994\\\\\n",
       "\tLocation* & 2 & 16 &  1.5 & 0.5163978 &  1.5 &  1.5 & 0.7413 & 1 &  2 &  1 &  0.00000000 & -2.1210937 & 0.1290994\\\\\n",
       "\tAttendees & 3 & 16 & 14.5 & 4.8304589 & 15.0 & 14.5 & 4.4478 & 6 & 23 & 17 & -0.04158877 & -0.8783418 & 1.2076147\\\\\n",
       "\\end{tabular}\n"
      ],
      "text/markdown": [
       "\n",
       "A psych: 3 × 13\n",
       "\n",
       "| <!--/--> | vars &lt;int&gt; | n &lt;dbl&gt; | mean &lt;dbl&gt; | sd &lt;dbl&gt; | median &lt;dbl&gt; | trimmed &lt;dbl&gt; | mad &lt;dbl&gt; | min &lt;dbl&gt; | max &lt;dbl&gt; | range &lt;dbl&gt; | skew &lt;dbl&gt; | kurtosis &lt;dbl&gt; | se &lt;dbl&gt; |\n",
       "|---|---|---|---|---|---|---|---|---|---|---|---|---|---|\n",
       "| Instructor* | 1 | 16 |  1.5 | 0.5163978 |  1.5 |  1.5 | 0.7413 | 1 |  2 |  1 |  0.00000000 | -2.1210937 | 0.1290994 |\n",
       "| Location* | 2 | 16 |  1.5 | 0.5163978 |  1.5 |  1.5 | 0.7413 | 1 |  2 |  1 |  0.00000000 | -2.1210937 | 0.1290994 |\n",
       "| Attendees | 3 | 16 | 14.5 | 4.8304589 | 15.0 | 14.5 | 4.4478 | 6 | 23 | 17 | -0.04158877 | -0.8783418 | 1.2076147 |\n",
       "\n"
      ],
      "text/plain": [
       "            vars n  mean sd        median trimmed mad    min max range\n",
       "Instructor* 1    16  1.5 0.5163978  1.5    1.5    0.7413 1    2   1   \n",
       "Location*   2    16  1.5 0.5163978  1.5    1.5    0.7413 1    2   1   \n",
       "Attendees   3    16 14.5 4.8304589 15.0   14.5    4.4478 6   23  17   \n",
       "            skew        kurtosis   se       \n",
       "Instructor*  0.00000000 -2.1210937 0.1290994\n",
       "Location*    0.00000000 -2.1210937 0.1290994\n",
       "Attendees   -0.04158877 -0.8783418 1.2076147"
      ]
     },
     "metadata": {},
     "output_type": "display_data"
    }
   ],
   "source": [
    "library(psych)\n",
    "\n",
    "describe(Data)"
   ]
  },
  {
   "cell_type": "markdown",
   "metadata": {},
   "source": [
    "<b>Dealing with missing values</b>\n",
    "\n",
    "In R, a missing value is indicated with <i>NA</i>.\n",
    "\n",
    "By default, different functions in R will handle missing values in different ways.  But most have options to change how they treat missing data."
   ]
  },
  {
   "cell_type": "code",
   "execution_count": 56,
   "metadata": {},
   "outputs": [],
   "source": [
    "Input = (\"\n",
    "Instructor  Location  Attendees\n",
    "Ren         North      7\n",
    "Ren         North     22\n",
    "Ren         North      6\n",
    "Ren         North     15\n",
    "Ren         South     12\n",
    "Ren         South     13\n",
    "Ren         South     NA\n",
    "Ren         South     16\n",
    "Stimpy      North     18\n",
    "Stimpy      North     17\n",
    "Stimpy      North     NA\n",
    "Stimpy      North      9\n",
    "Stimpy      South     15\n",
    "Stimpy      South     11\n",
    "Stimpy      South     19\n",
    "Stimpy      South     23\n",
    "\")\n",
    "\n",
    "Data2 = read.table(textConnection(Input),header=TRUE)"
   ]
  },
  {
   "cell_type": "code",
   "execution_count": 57,
   "metadata": {},
   "outputs": [
    {
     "data": {
      "text/html": [
       "<table>\n",
       "<caption>A data.frame: 16 × 3</caption>\n",
       "<thead>\n",
       "\t<tr><th scope=col>Instructor</th><th scope=col>Location</th><th scope=col>Attendees</th></tr>\n",
       "\t<tr><th scope=col>&lt;fct&gt;</th><th scope=col>&lt;fct&gt;</th><th scope=col>&lt;int&gt;</th></tr>\n",
       "</thead>\n",
       "<tbody>\n",
       "\t<tr><td>Ren   </td><td>North</td><td> 7</td></tr>\n",
       "\t<tr><td>Ren   </td><td>North</td><td>22</td></tr>\n",
       "\t<tr><td>Ren   </td><td>North</td><td> 6</td></tr>\n",
       "\t<tr><td>Ren   </td><td>North</td><td>15</td></tr>\n",
       "\t<tr><td>Ren   </td><td>South</td><td>12</td></tr>\n",
       "\t<tr><td>Ren   </td><td>South</td><td>13</td></tr>\n",
       "\t<tr><td>Ren   </td><td>South</td><td>NA</td></tr>\n",
       "\t<tr><td>Ren   </td><td>South</td><td>16</td></tr>\n",
       "\t<tr><td>Stimpy</td><td>North</td><td>18</td></tr>\n",
       "\t<tr><td>Stimpy</td><td>North</td><td>17</td></tr>\n",
       "\t<tr><td>Stimpy</td><td>North</td><td>NA</td></tr>\n",
       "\t<tr><td>Stimpy</td><td>North</td><td> 9</td></tr>\n",
       "\t<tr><td>Stimpy</td><td>South</td><td>15</td></tr>\n",
       "\t<tr><td>Stimpy</td><td>South</td><td>11</td></tr>\n",
       "\t<tr><td>Stimpy</td><td>South</td><td>19</td></tr>\n",
       "\t<tr><td>Stimpy</td><td>South</td><td>23</td></tr>\n",
       "</tbody>\n",
       "</table>\n"
      ],
      "text/latex": [
       "A data.frame: 16 × 3\n",
       "\\begin{tabular}{lll}\n",
       " Instructor & Location & Attendees\\\\\n",
       " <fct> & <fct> & <int>\\\\\n",
       "\\hline\n",
       "\t Ren    & North &  7\\\\\n",
       "\t Ren    & North & 22\\\\\n",
       "\t Ren    & North &  6\\\\\n",
       "\t Ren    & North & 15\\\\\n",
       "\t Ren    & South & 12\\\\\n",
       "\t Ren    & South & 13\\\\\n",
       "\t Ren    & South & NA\\\\\n",
       "\t Ren    & South & 16\\\\\n",
       "\t Stimpy & North & 18\\\\\n",
       "\t Stimpy & North & 17\\\\\n",
       "\t Stimpy & North & NA\\\\\n",
       "\t Stimpy & North &  9\\\\\n",
       "\t Stimpy & South & 15\\\\\n",
       "\t Stimpy & South & 11\\\\\n",
       "\t Stimpy & South & 19\\\\\n",
       "\t Stimpy & South & 23\\\\\n",
       "\\end{tabular}\n"
      ],
      "text/markdown": [
       "\n",
       "A data.frame: 16 × 3\n",
       "\n",
       "| Instructor &lt;fct&gt; | Location &lt;fct&gt; | Attendees &lt;int&gt; |\n",
       "|---|---|---|\n",
       "| Ren    | North |  7 |\n",
       "| Ren    | North | 22 |\n",
       "| Ren    | North |  6 |\n",
       "| Ren    | North | 15 |\n",
       "| Ren    | South | 12 |\n",
       "| Ren    | South | 13 |\n",
       "| Ren    | South | NA |\n",
       "| Ren    | South | 16 |\n",
       "| Stimpy | North | 18 |\n",
       "| Stimpy | North | 17 |\n",
       "| Stimpy | North | NA |\n",
       "| Stimpy | North |  9 |\n",
       "| Stimpy | South | 15 |\n",
       "| Stimpy | South | 11 |\n",
       "| Stimpy | South | 19 |\n",
       "| Stimpy | South | 23 |\n",
       "\n"
      ],
      "text/plain": [
       "   Instructor Location Attendees\n",
       "1  Ren        North     7       \n",
       "2  Ren        North    22       \n",
       "3  Ren        North     6       \n",
       "4  Ren        North    15       \n",
       "5  Ren        South    12       \n",
       "6  Ren        South    13       \n",
       "7  Ren        South    NA       \n",
       "8  Ren        South    16       \n",
       "9  Stimpy     North    18       \n",
       "10 Stimpy     North    17       \n",
       "11 Stimpy     North    NA       \n",
       "12 Stimpy     North     9       \n",
       "13 Stimpy     South    15       \n",
       "14 Stimpy     South    11       \n",
       "15 Stimpy     South    19       \n",
       "16 Stimpy     South    23       "
      ]
     },
     "metadata": {},
     "output_type": "display_data"
    }
   ],
   "source": [
    "Data2"
   ]
  },
  {
   "cell_type": "markdown",
   "metadata": {},
   "source": [
    "<u>The <i>na.rm</i> option for missing values with a simple function</u>\n",
    "\n",
    "Many common functions in R have a <i>na.rm</i> option.  If this option is set to <i>FALSE</i>, the function will return an <i>NA</i> result if there are any NA’s in the data values passed to the function.  If set to <i>TRUE</i>, observations with NA values will be discarded, and the function will continue to calculate its output.\n",
    "\n",
    "Note that the <i>na.rm</i> option operates only on the data values actually passed to the function.  In the following example with median, only <i>Attendees</i> is passed to the function; if there were NA’s in other variables, this would not affect the function.\n",
    "\n",
    "Not all functions have the same default for the <i>na.rm</i> option.  To determine the default, use e.g. <i>?median, ?mean, ?sd</i>."
   ]
  },
  {
   "cell_type": "code",
   "execution_count": 65,
   "metadata": {},
   "outputs": [
    {
     "name": "stdout",
     "output_type": "stream",
     "text": [
      "[1] \"Result is NA\"\n"
     ]
    }
   ],
   "source": [
    "m = median(Data2$Attendees, na.rm = FALSE)\n",
    "if (is.na(m)) {\n",
    "    print(\"Result is NA\")\n",
    "}"
   ]
  },
  {
   "cell_type": "markdown",
   "metadata": {},
   "source": [
    "<u>Missing values with <i>Summarize</i> in FSA</u>\n",
    "\n",
    "<i>Summarize</i> in FSA will indicate invalid values, including NA’s, with the count of valid observations outputted as the variable <i>nvalid</i>."
   ]
  },
  {
   "cell_type": "code",
   "execution_count": 67,
   "metadata": {},
   "outputs": [
    {
     "data": {
      "text/html": [
       "<table>\n",
       "<caption>A data.frame: 2 × 10</caption>\n",
       "<thead>\n",
       "\t<tr><th scope=col>Instructor</th><th scope=col>n</th><th scope=col>nvalid</th><th scope=col>mean</th><th scope=col>sd</th><th scope=col>min</th><th scope=col>Q1</th><th scope=col>median</th><th scope=col>Q3</th><th scope=col>max</th></tr>\n",
       "\t<tr><th scope=col>&lt;fct&gt;</th><th scope=col>&lt;dbl&gt;</th><th scope=col>&lt;dbl&gt;</th><th scope=col>&lt;dbl&gt;</th><th scope=col>&lt;dbl&gt;</th><th scope=col>&lt;dbl&gt;</th><th scope=col>&lt;dbl&gt;</th><th scope=col>&lt;dbl&gt;</th><th scope=col>&lt;dbl&gt;</th><th scope=col>&lt;dbl&gt;</th></tr>\n",
       "</thead>\n",
       "<tbody>\n",
       "\t<tr><td>Ren   </td><td>8</td><td>7</td><td>13</td><td>5.477226</td><td>6</td><td> 9.5</td><td>13</td><td>15.5</td><td>22</td></tr>\n",
       "\t<tr><td>Stimpy</td><td>8</td><td>7</td><td>16</td><td>4.795832</td><td>9</td><td>13.0</td><td>17</td><td>18.5</td><td>23</td></tr>\n",
       "</tbody>\n",
       "</table>\n"
      ],
      "text/latex": [
       "A data.frame: 2 × 10\n",
       "\\begin{tabular}{llllllllll}\n",
       " Instructor & n & nvalid & mean & sd & min & Q1 & median & Q3 & max\\\\\n",
       " <fct> & <dbl> & <dbl> & <dbl> & <dbl> & <dbl> & <dbl> & <dbl> & <dbl> & <dbl>\\\\\n",
       "\\hline\n",
       "\t Ren    & 8 & 7 & 13 & 5.477226 & 6 &  9.5 & 13 & 15.5 & 22\\\\\n",
       "\t Stimpy & 8 & 7 & 16 & 4.795832 & 9 & 13.0 & 17 & 18.5 & 23\\\\\n",
       "\\end{tabular}\n"
      ],
      "text/markdown": [
       "\n",
       "A data.frame: 2 × 10\n",
       "\n",
       "| Instructor &lt;fct&gt; | n &lt;dbl&gt; | nvalid &lt;dbl&gt; | mean &lt;dbl&gt; | sd &lt;dbl&gt; | min &lt;dbl&gt; | Q1 &lt;dbl&gt; | median &lt;dbl&gt; | Q3 &lt;dbl&gt; | max &lt;dbl&gt; |\n",
       "|---|---|---|---|---|---|---|---|---|---|\n",
       "| Ren    | 8 | 7 | 13 | 5.477226 | 6 |  9.5 | 13 | 15.5 | 22 |\n",
       "| Stimpy | 8 | 7 | 16 | 4.795832 | 9 | 13.0 | 17 | 18.5 | 23 |\n",
       "\n"
      ],
      "text/plain": [
       "  Instructor n nvalid mean sd       min Q1   median Q3   max\n",
       "1 Ren        8 7      13   5.477226 6    9.5 13     15.5 22 \n",
       "2 Stimpy     8 7      16   4.795832 9   13.0 17     18.5 23 "
      ]
     },
     "metadata": {},
     "output_type": "display_data"
    }
   ],
   "source": [
    "library(FSA)\n",
    "Summarize(Attendees ~ Instructor, data = Data2)"
   ]
  },
  {
   "cell_type": "markdown",
   "metadata": {},
   "source": [
    "<u>Missing values indicated with summary function</u>\n",
    "    \n",
    "The <i>summary</i> function counts NA’s for numeric variables."
   ]
  },
  {
   "cell_type": "code",
   "execution_count": 68,
   "metadata": {},
   "outputs": [
    {
     "data": {
      "text/plain": [
       "  Instructor  Location   Attendees    \n",
       " Ren   :8    North:8   Min.   : 6.00  \n",
       " Stimpy:8    South:8   1st Qu.:11.25  \n",
       "                       Median :15.00  \n",
       "                       Mean   :14.50  \n",
       "                       3rd Qu.:17.75  \n",
       "                       Max.   :23.00  \n",
       "                       NA's   :2      "
      ]
     },
     "metadata": {},
     "output_type": "display_data"
    }
   ],
   "source": [
    "summary(Data2)"
   ]
  },
  {
   "cell_type": "markdown",
   "metadata": {},
   "source": [
    "<u>Missing values in the describe function in psych</u>\n",
    "\n",
    "The <i>describe</i> function in the <i>psych</i> package removes NA’s by default."
   ]
  },
  {
   "cell_type": "code",
   "execution_count": 70,
   "metadata": {},
   "outputs": [
    {
     "data": {
      "text/html": [
       "<table>\n",
       "<caption>A psych: 1 × 13</caption>\n",
       "<thead>\n",
       "\t<tr><th></th><th scope=col>vars</th><th scope=col>n</th><th scope=col>mean</th><th scope=col>sd</th><th scope=col>median</th><th scope=col>trimmed</th><th scope=col>mad</th><th scope=col>min</th><th scope=col>max</th><th scope=col>range</th><th scope=col>skew</th><th scope=col>kurtosis</th><th scope=col>se</th></tr>\n",
       "\t<tr><th></th><th scope=col>&lt;dbl&gt;</th><th scope=col>&lt;dbl&gt;</th><th scope=col>&lt;dbl&gt;</th><th scope=col>&lt;dbl&gt;</th><th scope=col>&lt;dbl&gt;</th><th scope=col>&lt;dbl&gt;</th><th scope=col>&lt;dbl&gt;</th><th scope=col>&lt;dbl&gt;</th><th scope=col>&lt;dbl&gt;</th><th scope=col>&lt;dbl&gt;</th><th scope=col>&lt;dbl&gt;</th><th scope=col>&lt;dbl&gt;</th><th scope=col>&lt;dbl&gt;</th></tr>\n",
       "</thead>\n",
       "<tbody>\n",
       "\t<tr><th scope=row>X1</th><td>1</td><td>14</td><td>14.5</td><td>5.185038</td><td>15</td><td>14.5</td><td>5.1891</td><td>6</td><td>23</td><td>17</td><td>-0.03843063</td><td>-1.173539</td><td>1.38576</td></tr>\n",
       "</tbody>\n",
       "</table>\n"
      ],
      "text/latex": [
       "A psych: 1 × 13\n",
       "\\begin{tabular}{r|lllllllllllll}\n",
       "  & vars & n & mean & sd & median & trimmed & mad & min & max & range & skew & kurtosis & se\\\\\n",
       "  & <dbl> & <dbl> & <dbl> & <dbl> & <dbl> & <dbl> & <dbl> & <dbl> & <dbl> & <dbl> & <dbl> & <dbl> & <dbl>\\\\\n",
       "\\hline\n",
       "\tX1 & 1 & 14 & 14.5 & 5.185038 & 15 & 14.5 & 5.1891 & 6 & 23 & 17 & -0.03843063 & -1.173539 & 1.38576\\\\\n",
       "\\end{tabular}\n"
      ],
      "text/markdown": [
       "\n",
       "A psych: 1 × 13\n",
       "\n",
       "| <!--/--> | vars &lt;dbl&gt; | n &lt;dbl&gt; | mean &lt;dbl&gt; | sd &lt;dbl&gt; | median &lt;dbl&gt; | trimmed &lt;dbl&gt; | mad &lt;dbl&gt; | min &lt;dbl&gt; | max &lt;dbl&gt; | range &lt;dbl&gt; | skew &lt;dbl&gt; | kurtosis &lt;dbl&gt; | se &lt;dbl&gt; |\n",
       "|---|---|---|---|---|---|---|---|---|---|---|---|---|---|\n",
       "| X1 | 1 | 14 | 14.5 | 5.185038 | 15 | 14.5 | 5.1891 | 6 | 23 | 17 | -0.03843063 | -1.173539 | 1.38576 |\n",
       "\n"
      ],
      "text/plain": [
       "   vars n  mean sd       median trimmed mad    min max range skew       \n",
       "X1 1    14 14.5 5.185038 15     14.5    5.1891 6   23  17    -0.03843063\n",
       "   kurtosis  se     \n",
       "X1 -1.173539 1.38576"
      ]
     },
     "metadata": {},
     "output_type": "display_data"
    }
   ],
   "source": [
    "library(psych)\n",
    "describe(Data2$Attendees)"
   ]
  },
  {
   "cell_type": "markdown",
   "metadata": {},
   "source": [
    "<u>Missing values in the <i>summarySE</i> function in <i>Rmisc</i></u>\n",
    "\n",
    "By default, the <i>summmarySE</i> function does not remove NA's, but can be made to do so with the <i>na.rm=TRUE</i> option."
   ]
  },
  {
   "cell_type": "code",
   "execution_count": 71,
   "metadata": {},
   "outputs": [
    {
     "data": {
      "text/html": [
       "<table>\n",
       "<caption>A data.frame: 1 × 6</caption>\n",
       "<thead>\n",
       "\t<tr><th scope=col>.id</th><th scope=col>N</th><th scope=col>Attendees</th><th scope=col>sd</th><th scope=col>se</th><th scope=col>ci</th></tr>\n",
       "\t<tr><th scope=col>&lt;chr&gt;</th><th scope=col>&lt;dbl&gt;</th><th scope=col>&lt;dbl&gt;</th><th scope=col>&lt;dbl&gt;</th><th scope=col>&lt;dbl&gt;</th><th scope=col>&lt;dbl&gt;</th></tr>\n",
       "</thead>\n",
       "<tbody>\n",
       "\t<tr><td>NA</td><td>16</td><td>NA</td><td>NA</td><td>NA</td><td>NA</td></tr>\n",
       "</tbody>\n",
       "</table>\n"
      ],
      "text/latex": [
       "A data.frame: 1 × 6\n",
       "\\begin{tabular}{llllll}\n",
       " .id & N & Attendees & sd & se & ci\\\\\n",
       " <chr> & <dbl> & <dbl> & <dbl> & <dbl> & <dbl>\\\\\n",
       "\\hline\n",
       "\t NA & 16 & NA & NA & NA & NA\\\\\n",
       "\\end{tabular}\n"
      ],
      "text/markdown": [
       "\n",
       "A data.frame: 1 × 6\n",
       "\n",
       "| .id &lt;chr&gt; | N &lt;dbl&gt; | Attendees &lt;dbl&gt; | sd &lt;dbl&gt; | se &lt;dbl&gt; | ci &lt;dbl&gt; |\n",
       "|---|---|---|---|---|---|\n",
       "| NA | 16 | NA | NA | NA | NA |\n",
       "\n"
      ],
      "text/plain": [
       "  .id N  Attendees sd se ci\n",
       "1 NA  16 NA        NA NA NA"
      ]
     },
     "metadata": {},
     "output_type": "display_data"
    }
   ],
   "source": [
    "library(Rmisc)\n",
    "summarySE(data=Data2, \"Attendees\")"
   ]
  },
  {
   "cell_type": "code",
   "execution_count": 72,
   "metadata": {},
   "outputs": [
    {
     "data": {
      "text/html": [
       "<table>\n",
       "<caption>A data.frame: 1 × 6</caption>\n",
       "<thead>\n",
       "\t<tr><th scope=col>.id</th><th scope=col>N</th><th scope=col>Attendees</th><th scope=col>sd</th><th scope=col>se</th><th scope=col>ci</th></tr>\n",
       "\t<tr><th scope=col>&lt;chr&gt;</th><th scope=col>&lt;dbl&gt;</th><th scope=col>&lt;dbl&gt;</th><th scope=col>&lt;dbl&gt;</th><th scope=col>&lt;dbl&gt;</th><th scope=col>&lt;dbl&gt;</th></tr>\n",
       "</thead>\n",
       "<tbody>\n",
       "\t<tr><td>NA</td><td>14</td><td>14.5</td><td>5.185038</td><td>1.38576</td><td>2.993752</td></tr>\n",
       "</tbody>\n",
       "</table>\n"
      ],
      "text/latex": [
       "A data.frame: 1 × 6\n",
       "\\begin{tabular}{llllll}\n",
       " .id & N & Attendees & sd & se & ci\\\\\n",
       " <chr> & <dbl> & <dbl> & <dbl> & <dbl> & <dbl>\\\\\n",
       "\\hline\n",
       "\t NA & 14 & 14.5 & 5.185038 & 1.38576 & 2.993752\\\\\n",
       "\\end{tabular}\n"
      ],
      "text/markdown": [
       "\n",
       "A data.frame: 1 × 6\n",
       "\n",
       "| .id &lt;chr&gt; | N &lt;dbl&gt; | Attendees &lt;dbl&gt; | sd &lt;dbl&gt; | se &lt;dbl&gt; | ci &lt;dbl&gt; |\n",
       "|---|---|---|---|---|---|\n",
       "| NA | 14 | 14.5 | 5.185038 | 1.38576 | 2.993752 |\n",
       "\n"
      ],
      "text/plain": [
       "  .id N  Attendees sd       se      ci      \n",
       "1 NA  14 14.5      5.185038 1.38576 2.993752"
      ]
     },
     "metadata": {},
     "output_type": "display_data"
    }
   ],
   "source": [
    "library(Rmisc)\n",
    "summarySE(data=Data2, \"Attendees\", na.rm=TRUE)"
   ]
  },
  {
   "cell_type": "markdown",
   "metadata": {},
   "source": [
    "<u>Advanced Techniques</u>\n",
    "\n",
    "<i>Discarding subjects</i>\n",
    "\n",
    "Subjects can be deleted with the <i>subset</i> function.  The following code creates a new data frame, <i>Data3</i>, with all observations with <i>NA</i> in the variable <i>Attendees</i> removed from Data2."
   ]
  },
  {
   "cell_type": "code",
   "execution_count": 73,
   "metadata": {},
   "outputs": [
    {
     "data": {
      "text/html": [
       "<table>\n",
       "<caption>A data.frame: 14 × 3</caption>\n",
       "<thead>\n",
       "\t<tr><th></th><th scope=col>Instructor</th><th scope=col>Location</th><th scope=col>Attendees</th></tr>\n",
       "\t<tr><th></th><th scope=col>&lt;fct&gt;</th><th scope=col>&lt;fct&gt;</th><th scope=col>&lt;int&gt;</th></tr>\n",
       "</thead>\n",
       "<tbody>\n",
       "\t<tr><th scope=row>1</th><td>Ren   </td><td>North</td><td> 7</td></tr>\n",
       "\t<tr><th scope=row>2</th><td>Ren   </td><td>North</td><td>22</td></tr>\n",
       "\t<tr><th scope=row>3</th><td>Ren   </td><td>North</td><td> 6</td></tr>\n",
       "\t<tr><th scope=row>4</th><td>Ren   </td><td>North</td><td>15</td></tr>\n",
       "\t<tr><th scope=row>5</th><td>Ren   </td><td>South</td><td>12</td></tr>\n",
       "\t<tr><th scope=row>6</th><td>Ren   </td><td>South</td><td>13</td></tr>\n",
       "\t<tr><th scope=row>8</th><td>Ren   </td><td>South</td><td>16</td></tr>\n",
       "\t<tr><th scope=row>9</th><td>Stimpy</td><td>North</td><td>18</td></tr>\n",
       "\t<tr><th scope=row>10</th><td>Stimpy</td><td>North</td><td>17</td></tr>\n",
       "\t<tr><th scope=row>12</th><td>Stimpy</td><td>North</td><td> 9</td></tr>\n",
       "\t<tr><th scope=row>13</th><td>Stimpy</td><td>South</td><td>15</td></tr>\n",
       "\t<tr><th scope=row>14</th><td>Stimpy</td><td>South</td><td>11</td></tr>\n",
       "\t<tr><th scope=row>15</th><td>Stimpy</td><td>South</td><td>19</td></tr>\n",
       "\t<tr><th scope=row>16</th><td>Stimpy</td><td>South</td><td>23</td></tr>\n",
       "</tbody>\n",
       "</table>\n"
      ],
      "text/latex": [
       "A data.frame: 14 × 3\n",
       "\\begin{tabular}{r|lll}\n",
       "  & Instructor & Location & Attendees\\\\\n",
       "  & <fct> & <fct> & <int>\\\\\n",
       "\\hline\n",
       "\t1 & Ren    & North &  7\\\\\n",
       "\t2 & Ren    & North & 22\\\\\n",
       "\t3 & Ren    & North &  6\\\\\n",
       "\t4 & Ren    & North & 15\\\\\n",
       "\t5 & Ren    & South & 12\\\\\n",
       "\t6 & Ren    & South & 13\\\\\n",
       "\t8 & Ren    & South & 16\\\\\n",
       "\t9 & Stimpy & North & 18\\\\\n",
       "\t10 & Stimpy & North & 17\\\\\n",
       "\t12 & Stimpy & North &  9\\\\\n",
       "\t13 & Stimpy & South & 15\\\\\n",
       "\t14 & Stimpy & South & 11\\\\\n",
       "\t15 & Stimpy & South & 19\\\\\n",
       "\t16 & Stimpy & South & 23\\\\\n",
       "\\end{tabular}\n"
      ],
      "text/markdown": [
       "\n",
       "A data.frame: 14 × 3\n",
       "\n",
       "| <!--/--> | Instructor &lt;fct&gt; | Location &lt;fct&gt; | Attendees &lt;int&gt; |\n",
       "|---|---|---|---|\n",
       "| 1 | Ren    | North |  7 |\n",
       "| 2 | Ren    | North | 22 |\n",
       "| 3 | Ren    | North |  6 |\n",
       "| 4 | Ren    | North | 15 |\n",
       "| 5 | Ren    | South | 12 |\n",
       "| 6 | Ren    | South | 13 |\n",
       "| 8 | Ren    | South | 16 |\n",
       "| 9 | Stimpy | North | 18 |\n",
       "| 10 | Stimpy | North | 17 |\n",
       "| 12 | Stimpy | North |  9 |\n",
       "| 13 | Stimpy | South | 15 |\n",
       "| 14 | Stimpy | South | 11 |\n",
       "| 15 | Stimpy | South | 19 |\n",
       "| 16 | Stimpy | South | 23 |\n",
       "\n"
      ],
      "text/plain": [
       "   Instructor Location Attendees\n",
       "1  Ren        North     7       \n",
       "2  Ren        North    22       \n",
       "3  Ren        North     6       \n",
       "4  Ren        North    15       \n",
       "5  Ren        South    12       \n",
       "6  Ren        South    13       \n",
       "8  Ren        South    16       \n",
       "9  Stimpy     North    18       \n",
       "10 Stimpy     North    17       \n",
       "12 Stimpy     North     9       \n",
       "13 Stimpy     South    15       \n",
       "14 Stimpy     South    11       \n",
       "15 Stimpy     South    19       \n",
       "16 Stimpy     South    23       "
      ]
     },
     "metadata": {},
     "output_type": "display_data"
    }
   ],
   "source": [
    "Data3 = subset(Data2, !is.na(Attendees))\n",
    "Data3"
   ]
  },
  {
   "cell_type": "markdown",
   "metadata": {},
   "source": [
    "<u>Optional code: removing missing values in vectors</u>\n",
    "\n",
    "If functions don’t have a <i>na.rm</i> option, it is possible to remove NA observations manually.  Here we’ll create a vector called <i>valid</i> that just contains those values of <i>Attendees</i> that are not NA’s. \n",
    "\n",
    "The <i>!</i> operator is a logical <i>not</i>.  The brackets serve as a list of observations to include for the preceding variable.  So, the code essentially says, “Define a vector <i>valid</i> as the values of <i>Attendees</i> where the values of <i>Attendees</i> are <i>not NA</i>.”"
   ]
  },
  {
   "cell_type": "code",
   "execution_count": 74,
   "metadata": {},
   "outputs": [
    {
     "data": {
      "text/plain": [
       "   Min. 1st Qu.  Median    Mean 3rd Qu.    Max. \n",
       "   6.00   11.25   15.00   14.50   17.75   23.00 "
      ]
     },
     "metadata": {},
     "output_type": "display_data"
    }
   ],
   "source": [
    "valid = Data2$Attendees[!is.na(Data2$Attendees)]\n",
    "summary(valid)"
   ]
  },
  {
   "cell_type": "markdown",
   "metadata": {},
   "source": [
    "<b>Statistics of shape for interval/ratio data</b>\n",
    "\n",
    "Understanding skewness and kurtosis are important as they are ways in which a distribution of data varies from a normal distribution.  This will be important in assessing the assumptions of certain statistical tests. "
   ]
  },
  {
   "cell_type": "markdown",
   "metadata": {},
   "source": [
    "<u>Skewnesss</u>\n",
    "\n",
    "Skewness indicates the degree of asymmetry in a data set.  If there are relatively more values that are far greater than the mean, the distribution is positively skewed or right skewed, with a tail stretching to the right.  Negative or left skew is the opposite.\n",
    "\n",
    "A symmetric distribution has a skewness of 0.  The skewness value for a positively skewed distribution is positive, and a negative value for a negatively skewed distribution.  Sometimes a skew with an absolute value greater than 1 or 1.5 or 2 is considered highly skewed.  There is not agreement on this interpretation.\n",
    "\n",
    "There are different methods to calculate skew and kurtosis.  The <i>describe</i> function in the <i>psych</i> package has three options for how to calculate them."
   ]
  },
  {
   "cell_type": "code",
   "execution_count": 78,
   "metadata": {},
   "outputs": [
    {
     "data": {
      "text/html": [
       "<table>\n",
       "<caption>A psych: 1 × 13</caption>\n",
       "<thead>\n",
       "\t<tr><th></th><th scope=col>vars</th><th scope=col>n</th><th scope=col>mean</th><th scope=col>sd</th><th scope=col>median</th><th scope=col>trimmed</th><th scope=col>mad</th><th scope=col>min</th><th scope=col>max</th><th scope=col>range</th><th scope=col>skew</th><th scope=col>kurtosis</th><th scope=col>se</th></tr>\n",
       "\t<tr><th></th><th scope=col>&lt;dbl&gt;</th><th scope=col>&lt;dbl&gt;</th><th scope=col>&lt;dbl&gt;</th><th scope=col>&lt;dbl&gt;</th><th scope=col>&lt;dbl&gt;</th><th scope=col>&lt;dbl&gt;</th><th scope=col>&lt;dbl&gt;</th><th scope=col>&lt;dbl&gt;</th><th scope=col>&lt;dbl&gt;</th><th scope=col>&lt;dbl&gt;</th><th scope=col>&lt;dbl&gt;</th><th scope=col>&lt;dbl&gt;</th><th scope=col>&lt;dbl&gt;</th></tr>\n",
       "</thead>\n",
       "<tbody>\n",
       "\t<tr><th scope=row>X1</th><td>1</td><td>16</td><td>14.5</td><td>4.830459</td><td>15</td><td>14.5</td><td>4.4478</td><td>6</td><td>23</td><td>17</td><td>-0.04158877</td><td>-0.8783418</td><td>1.207615</td></tr>\n",
       "</tbody>\n",
       "</table>\n"
      ],
      "text/latex": [
       "A psych: 1 × 13\n",
       "\\begin{tabular}{r|lllllllllllll}\n",
       "  & vars & n & mean & sd & median & trimmed & mad & min & max & range & skew & kurtosis & se\\\\\n",
       "  & <dbl> & <dbl> & <dbl> & <dbl> & <dbl> & <dbl> & <dbl> & <dbl> & <dbl> & <dbl> & <dbl> & <dbl> & <dbl>\\\\\n",
       "\\hline\n",
       "\tX1 & 1 & 16 & 14.5 & 4.830459 & 15 & 14.5 & 4.4478 & 6 & 23 & 17 & -0.04158877 & -0.8783418 & 1.207615\\\\\n",
       "\\end{tabular}\n"
      ],
      "text/markdown": [
       "\n",
       "A psych: 1 × 13\n",
       "\n",
       "| <!--/--> | vars &lt;dbl&gt; | n &lt;dbl&gt; | mean &lt;dbl&gt; | sd &lt;dbl&gt; | median &lt;dbl&gt; | trimmed &lt;dbl&gt; | mad &lt;dbl&gt; | min &lt;dbl&gt; | max &lt;dbl&gt; | range &lt;dbl&gt; | skew &lt;dbl&gt; | kurtosis &lt;dbl&gt; | se &lt;dbl&gt; |\n",
       "|---|---|---|---|---|---|---|---|---|---|---|---|---|---|\n",
       "| X1 | 1 | 16 | 14.5 | 4.830459 | 15 | 14.5 | 4.4478 | 6 | 23 | 17 | -0.04158877 | -0.8783418 | 1.207615 |\n",
       "\n"
      ],
      "text/plain": [
       "   vars n  mean sd       median trimmed mad    min max range skew       \n",
       "X1 1    16 14.5 4.830459 15     14.5    4.4478 6   23  17    -0.04158877\n",
       "   kurtosis   se      \n",
       "X1 -0.8783418 1.207615"
      ]
     },
     "metadata": {},
     "output_type": "display_data"
    }
   ],
   "source": [
    "library(psych)\n",
    "describe(Data$Attendees, type=3)"
   ]
  },
  {
   "cell_type": "markdown",
   "metadata": {},
   "source": [
    "<u>Kurtosis</u>\n",
    "\n",
    "Kurtosis measures the degree to which the distribution has either fewer and less extreme outliers, or more and more extreme outliers. In general, the higher the kurtosis, the sharper the peak and the longer the tails. This is called leptokurtic, and is indicated by positive kurtosis values. The opposite—platykurtosis—has negative kurtosis values.\n",
    "\n",
    "Confusingly, the kurtosis for a normal distribution is sometimes defined as 0, and sometimes defined as 3. The former is often called “excess kurtosis”.\n",
    "\n",
    "Sometimes an excess kurtosis with an absolute value greater than 2 or 3 is considered a high deviation from being mesokurtic. There is not agreement on this interpretation."
   ]
  },
  {
   "cell_type": "code",
   "execution_count": null,
   "metadata": {},
   "outputs": [],
   "source": []
  }
 ],
 "metadata": {
  "kernelspec": {
   "display_name": "R",
   "language": "R",
   "name": "ir"
  },
  "language_info": {
   "codemirror_mode": "r",
   "file_extension": ".r",
   "mimetype": "text/x-r-source",
   "name": "R",
   "pygments_lexer": "r",
   "version": "3.6.3"
  }
 },
 "nbformat": 4,
 "nbformat_minor": 4
}
