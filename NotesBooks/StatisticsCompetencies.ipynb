{
 "cells": [
  {
   "cell_type": "markdown",
   "metadata": {},
   "source": [
    "<style>\n",
    "ol {\n",
    "    list-style-type: decimal;\n",
    "}\n",
    "</style>\n",
    "\n",
    "<h2>Statistics Competencies</h2>\n",
    "\n",
    "<ol>\n",
    "    <li><a href=\"#1\">Descriptive Statistics</a></li>\n",
    "    <ol style=\"list-style-type: decimal;\">\n",
    "        <li><a href=\"#1_1\">Graphical Methods</a></li>\n",
    "        <ol style=\"list-style-type: decimal;\">\n",
    "            <li><a href=\"#1_1_1\">Histograms, dot plots, and boxplots</a></li>\n",
    "            <li><a href=\"#1_1_2\">Bar charts and pie charts</a></li>\n",
    "        </ol>\n",
    "        <li><a href=\"#1_2\">Numerical Methods</a></li>\n",
    "        <ol style=\"list-style-type: decimal;\">\n",
    "            <li><a href=\"#1_2_1\">Measures of central tendency: mean, median</a></li>\n",
    "            <li><a href=\"#1_2_2\">Measures of variability: variance, standard deviation, range, interquartile range</a></li>\n",
    "            <li><a href=\"#1_2_3\">Measures of relative standing: standard core, percentiles, quartiles</a></li>\n",
    "            <li><a href=\"#1_2_4\">Identifying outliers</a></li>\n",
    "        </ol>\n",
    "    </ol>\n",
    "    <li><a href=\"#2\">Probability</a></li>\n",
    "    <ol style=\"list-style-type: decimal;\">\n",
    "        <li><a href=\"#2_1\">Concepts of independence and conditional probability</a></li>\n",
    "        <li><a href=\"#2_2\">The binomial distribution</a></li>\n",
    "        <li><a href=\"#2_3\">The normal distribution</a></li>\n",
    "    </ol>\n",
    "    <li><a href=\"#3\">Inference</a></li>\n",
    "    <ol style=\"list-style-type: decimal;\">\n",
    "        <li><a href=\"#3_1\">Study Details</a></li>\n",
    "        <ol style=\"list-style-type: decimal;\">\n",
    "            <li><a href=\"#3_1_1\">Simple random sampling, convenience sampling</a></li>\n",
    "            <li><a href=\"#3_1_2\">Random assignment, completely randomized design, matched pairs design</a></li>\n",
    "        </ol>\n",
    "        <li><a href=\"#3_2\">Estimation</a></li>\n",
    "        <ol style=\"list-style-type: decimal;\">\n",
    "            <li><a href=\"#3_2_1\">Sampling distributions and properties of estimators</a></li>\n",
    "            <li><a href=\"#3_2_2\">Confidence intervals (Single proportion, single mean, two proportions, two means, and paired\n",
    "                means)</a></li>\n",
    "        </ol>\n",
    "        <li><a href=\"#3_3\">Tests of Hypotheses</a></li>\n",
    "        <ol style=\"list-style-type: decimal;\">\n",
    "            <li><a href=\"#3_3_1\">General Principles: Type I and Type II errors, significance level, power</a></li>\n",
    "            <li><a href=\"#3_3_2\">Tests for single populations (z-test for proportion, t-test for mean)</a></li>\n",
    "            <li><a href=\"#3_3_3\">Test for difference in means</a></li>\n",
    "            <li><a href=\"#3_3_4\">Test for paired difference in means</a></li>\n",
    "            <li><a href=\"#3_3_5\">Analysis of Variance</a></li>\n",
    "            <li><a href=\"#3_3_6\">Chi-squared test of association (independence)</a></li>\n",
    "            <li><a href=\"#3_3_7\">Simple regression (Computation of the least squares regression line, inferences on the slope of the\n",
    "line)</a></li>\n",
    "            <li><a href=\"#3_3_8\">Correlation (Pearson correlation coefficient, coefficient of determination)</a></li>\n",
    "        </ol>\n",
    "    </ol>\n",
    "</ol>\n",
    "\n",
    "</ol>\n",
    "\n"
   ]
  },
  {
   "cell_type": "markdown",
   "metadata": {},
   "source": [
    "<h2><a id=\"1\">1. Descriptive Statistics</a></h2>\n",
    "\n",
    "https://en.wikipedia.org/wiki/Descriptive_statistics\n",
    "\n",
    "<h3><a id=\"1_1\">1.1 Graphical Methods</a></h3>\n",
    "<h4><a id=\"1_1_1\">1.1.1 Histograms, dot plots, and boxplots</a></h4>"
   ]
  },
  {
   "cell_type": "code",
   "execution_count": 1,
   "metadata": {},
   "outputs": [
    {
     "data": {
      "text/html": [
       "<table>\n",
       "<caption>A data.frame: 26 × 5</caption>\n",
       "<thead>\n",
       "\t<tr><th scope=col>Student</th><th scope=col>Sex</th><th scope=col>Teacher</th><th scope=col>Steps</th><th scope=col>Rating</th></tr>\n",
       "\t<tr><th scope=col>&lt;fct&gt;</th><th scope=col>&lt;fct&gt;</th><th scope=col>&lt;fct&gt;</th><th scope=col>&lt;int&gt;</th><th scope=col>&lt;int&gt;</th></tr>\n",
       "</thead>\n",
       "<tbody>\n",
       "\t<tr><td>a</td><td>female</td><td>Catbus </td><td> 8000</td><td> 7</td></tr>\n",
       "\t<tr><td>b</td><td>female</td><td>Catbus </td><td> 9000</td><td>10</td></tr>\n",
       "\t<tr><td>c</td><td>female</td><td>Catbus </td><td>10000</td><td> 9</td></tr>\n",
       "\t<tr><td>d</td><td>female</td><td>Catbus </td><td> 7000</td><td> 5</td></tr>\n",
       "\t<tr><td>e</td><td>female</td><td>Catbus </td><td> 6000</td><td> 4</td></tr>\n",
       "\t<tr><td>f</td><td>female</td><td>Catbus </td><td> 8000</td><td> 8</td></tr>\n",
       "\t<tr><td>g</td><td>male  </td><td>Catbus </td><td> 7000</td><td> 6</td></tr>\n",
       "\t<tr><td>h</td><td>male  </td><td>Catbus </td><td> 5000</td><td> 5</td></tr>\n",
       "\t<tr><td>i</td><td>male  </td><td>Catbus </td><td> 9000</td><td>10</td></tr>\n",
       "\t<tr><td>j</td><td>male  </td><td>Catbus </td><td> 7000</td><td> 8</td></tr>\n",
       "\t<tr><td>k</td><td>female</td><td>Satsuki</td><td> 8000</td><td> 7</td></tr>\n",
       "\t<tr><td>l</td><td>female</td><td>Satsuki</td><td> 9000</td><td> 8</td></tr>\n",
       "\t<tr><td>m</td><td>female</td><td>Satsuki</td><td> 9000</td><td> 8</td></tr>\n",
       "\t<tr><td>n</td><td>female</td><td>Satsuki</td><td> 8000</td><td> 9</td></tr>\n",
       "\t<tr><td>o</td><td>male  </td><td>Satsuki</td><td> 6000</td><td> 5</td></tr>\n",
       "\t<tr><td>p</td><td>male  </td><td>Satsuki</td><td> 8000</td><td> 9</td></tr>\n",
       "\t<tr><td>q</td><td>male  </td><td>Satsuki</td><td> 7000</td><td> 6</td></tr>\n",
       "\t<tr><td>r</td><td>female</td><td>Totoro </td><td>10000</td><td>10</td></tr>\n",
       "\t<tr><td>s</td><td>female</td><td>Totoro </td><td> 9000</td><td>10</td></tr>\n",
       "\t<tr><td>t</td><td>female</td><td>Totoro </td><td> 8000</td><td> 8</td></tr>\n",
       "\t<tr><td>u</td><td>female</td><td>Totoro </td><td> 8000</td><td> 7</td></tr>\n",
       "\t<tr><td>v</td><td>female</td><td>Totoro </td><td> 6000</td><td> 7</td></tr>\n",
       "\t<tr><td>w</td><td>male  </td><td>Totoro </td><td> 6000</td><td> 8</td></tr>\n",
       "\t<tr><td>x</td><td>male  </td><td>Totoro </td><td> 8000</td><td>10</td></tr>\n",
       "\t<tr><td>y</td><td>male  </td><td>Totoro </td><td> 7000</td><td> 7</td></tr>\n",
       "\t<tr><td>z</td><td>male  </td><td>Totoro </td><td> 7000</td><td> 7</td></tr>\n",
       "</tbody>\n",
       "</table>\n"
      ],
      "text/latex": [
       "A data.frame: 26 × 5\n",
       "\\begin{tabular}{lllll}\n",
       " Student & Sex & Teacher & Steps & Rating\\\\\n",
       " <fct> & <fct> & <fct> & <int> & <int>\\\\\n",
       "\\hline\n",
       "\t a & female & Catbus  &  8000 &  7\\\\\n",
       "\t b & female & Catbus  &  9000 & 10\\\\\n",
       "\t c & female & Catbus  & 10000 &  9\\\\\n",
       "\t d & female & Catbus  &  7000 &  5\\\\\n",
       "\t e & female & Catbus  &  6000 &  4\\\\\n",
       "\t f & female & Catbus  &  8000 &  8\\\\\n",
       "\t g & male   & Catbus  &  7000 &  6\\\\\n",
       "\t h & male   & Catbus  &  5000 &  5\\\\\n",
       "\t i & male   & Catbus  &  9000 & 10\\\\\n",
       "\t j & male   & Catbus  &  7000 &  8\\\\\n",
       "\t k & female & Satsuki &  8000 &  7\\\\\n",
       "\t l & female & Satsuki &  9000 &  8\\\\\n",
       "\t m & female & Satsuki &  9000 &  8\\\\\n",
       "\t n & female & Satsuki &  8000 &  9\\\\\n",
       "\t o & male   & Satsuki &  6000 &  5\\\\\n",
       "\t p & male   & Satsuki &  8000 &  9\\\\\n",
       "\t q & male   & Satsuki &  7000 &  6\\\\\n",
       "\t r & female & Totoro  & 10000 & 10\\\\\n",
       "\t s & female & Totoro  &  9000 & 10\\\\\n",
       "\t t & female & Totoro  &  8000 &  8\\\\\n",
       "\t u & female & Totoro  &  8000 &  7\\\\\n",
       "\t v & female & Totoro  &  6000 &  7\\\\\n",
       "\t w & male   & Totoro  &  6000 &  8\\\\\n",
       "\t x & male   & Totoro  &  8000 & 10\\\\\n",
       "\t y & male   & Totoro  &  7000 &  7\\\\\n",
       "\t z & male   & Totoro  &  7000 &  7\\\\\n",
       "\\end{tabular}\n"
      ],
      "text/markdown": [
       "\n",
       "A data.frame: 26 × 5\n",
       "\n",
       "| Student &lt;fct&gt; | Sex &lt;fct&gt; | Teacher &lt;fct&gt; | Steps &lt;int&gt; | Rating &lt;int&gt; |\n",
       "|---|---|---|---|---|\n",
       "| a | female | Catbus  |  8000 |  7 |\n",
       "| b | female | Catbus  |  9000 | 10 |\n",
       "| c | female | Catbus  | 10000 |  9 |\n",
       "| d | female | Catbus  |  7000 |  5 |\n",
       "| e | female | Catbus  |  6000 |  4 |\n",
       "| f | female | Catbus  |  8000 |  8 |\n",
       "| g | male   | Catbus  |  7000 |  6 |\n",
       "| h | male   | Catbus  |  5000 |  5 |\n",
       "| i | male   | Catbus  |  9000 | 10 |\n",
       "| j | male   | Catbus  |  7000 |  8 |\n",
       "| k | female | Satsuki |  8000 |  7 |\n",
       "| l | female | Satsuki |  9000 |  8 |\n",
       "| m | female | Satsuki |  9000 |  8 |\n",
       "| n | female | Satsuki |  8000 |  9 |\n",
       "| o | male   | Satsuki |  6000 |  5 |\n",
       "| p | male   | Satsuki |  8000 |  9 |\n",
       "| q | male   | Satsuki |  7000 |  6 |\n",
       "| r | female | Totoro  | 10000 | 10 |\n",
       "| s | female | Totoro  |  9000 | 10 |\n",
       "| t | female | Totoro  |  8000 |  8 |\n",
       "| u | female | Totoro  |  8000 |  7 |\n",
       "| v | female | Totoro  |  6000 |  7 |\n",
       "| w | male   | Totoro  |  6000 |  8 |\n",
       "| x | male   | Totoro  |  8000 | 10 |\n",
       "| y | male   | Totoro  |  7000 |  7 |\n",
       "| z | male   | Totoro  |  7000 |  7 |\n",
       "\n"
      ],
      "text/plain": [
       "   Student Sex    Teacher Steps Rating\n",
       "1  a       female Catbus   8000  7    \n",
       "2  b       female Catbus   9000 10    \n",
       "3  c       female Catbus  10000  9    \n",
       "4  d       female Catbus   7000  5    \n",
       "5  e       female Catbus   6000  4    \n",
       "6  f       female Catbus   8000  8    \n",
       "7  g       male   Catbus   7000  6    \n",
       "8  h       male   Catbus   5000  5    \n",
       "9  i       male   Catbus   9000 10    \n",
       "10 j       male   Catbus   7000  8    \n",
       "11 k       female Satsuki  8000  7    \n",
       "12 l       female Satsuki  9000  8    \n",
       "13 m       female Satsuki  9000  8    \n",
       "14 n       female Satsuki  8000  9    \n",
       "15 o       male   Satsuki  6000  5    \n",
       "16 p       male   Satsuki  8000  9    \n",
       "17 q       male   Satsuki  7000  6    \n",
       "18 r       female Totoro  10000 10    \n",
       "19 s       female Totoro   9000 10    \n",
       "20 t       female Totoro   8000  8    \n",
       "21 u       female Totoro   8000  7    \n",
       "22 v       female Totoro   6000  7    \n",
       "23 w       male   Totoro   6000  8    \n",
       "24 x       male   Totoro   8000 10    \n",
       "25 y       male   Totoro   7000  7    \n",
       "26 z       male   Totoro   7000  7    "
      ]
     },
     "metadata": {},
     "output_type": "display_data"
    }
   ],
   "source": [
    "Input = (\"\n",
    "Student  Sex     Teacher  Steps  Rating\n",
    "a        female  Catbus    8000   7\n",
    "b        female  Catbus    9000  10\n",
    "c        female  Catbus   10000   9\n",
    "d        female  Catbus    7000   5\n",
    "e        female  Catbus    6000   4\n",
    "f        female  Catbus    8000   8\n",
    "g        male    Catbus    7000   6\n",
    "h        male    Catbus    5000   5\n",
    "i        male    Catbus    9000  10\n",
    "j        male    Catbus    7000   8\n",
    "k        female  Satsuki   8000   7\n",
    "l        female  Satsuki   9000   8\n",
    "m        female  Satsuki   9000   8\n",
    "n        female  Satsuki   8000   9\n",
    "o        male    Satsuki   6000   5\n",
    "p        male    Satsuki   8000   9\n",
    "q        male    Satsuki   7000   6\n",
    "r        female  Totoro   10000  10\n",
    "s        female  Totoro    9000  10\n",
    "t        female  Totoro    8000   8\n",
    "u        female  Totoro    8000   7\n",
    "v        female  Totoro    6000   7\n",
    "w        male    Totoro    6000   8\n",
    "x        male    Totoro    8000  10\n",
    "y        male    Totoro    7000   7\n",
    "z        male    Totoro    7000   7\n",
    "\")\n",
    "\n",
    "Data = read.table(textConnection(Input),header=TRUE)\n",
    "Data"
   ]
  },
  {
   "cell_type": "code",
   "execution_count": 2,
   "metadata": {},
   "outputs": [
    {
     "data": {
      "image/png": "[encoded data removed]",
      "text/plain": [
       "Plot with title “Steps”"
      ]
     },
     "metadata": {
      "image/png": {
       "height": 420,
       "width": 420
      }
     },
     "output_type": "display_data"
    }
   ],
   "source": [
    "hist(Data$Steps, \n",
    "     main=\"Steps\", \n",
    "     xlab=\"Number of Steps\", \n",
    "     border=\"blue\", \n",
    "     col=\"green\", \n",
    "     xlim=c(4000, 11000))\n",
    "#axis(1, col=\"dodgerblue\", col.ticks=\"green\", col.axis=\"orange\")\n"
   ]
  },
  {
   "cell_type": "code",
   "execution_count": 3,
   "metadata": {},
   "outputs": [
    {
     "data": {
      "image/png": "[encoded data removed]",
      "text/plain": [
       "plot without title"
      ]
     },
     "metadata": {
      "image/png": {
       "height": 420,
       "width": 420
      }
     },
     "output_type": "display_data"
    }
   ],
   "source": [
    "plot(Rating ~ jitter(Steps),  # jitter offsets points so you can see them all\n",
    "     data=Data,\n",
    "     pch=16,                  # shape of points\n",
    "     cex=1.0,                 # size of points\n",
    "     col=\"red\",\n",
    "     xlab=\"Steps\",\n",
    "     ylab=\"Rating\")"
   ]
  },
  {
   "cell_type": "code",
   "execution_count": 4,
   "metadata": {},
   "outputs": [
    {
     "data": {
      "image/png": "[encoded data removed]",
      "text/plain": [
       "plot without title"
      ]
     },
     "metadata": {
      "image/png": {
       "height": 420,
       "width": 420
      }
     },
     "output_type": "display_data"
    }
   ],
   "source": [
    "boxplot(Data$Steps, ylab=\"Steps\")"
   ]
  },
  {
   "cell_type": "markdown",
   "metadata": {},
   "source": [
    "<u>Box plot for with means</u>\n",
    "\n",
    "A <a href=\"https://en.wikipedia.org/wiki/Box_plot\">box plot</a> is a method for graphically depicting groups of numerical data through their quartiles."
   ]
  },
  {
   "cell_type": "code",
   "execution_count": 5,
   "metadata": {},
   "outputs": [
    {
     "data": {
      "image/png": "[encoded data removed]",
      "text/plain": [
       "plot without title"
      ]
     },
     "metadata": {
      "image/png": {
       "height": 420,
       "width": 420
      }
     },
     "output_type": "display_data"
    }
   ],
   "source": [
    "M = mean(Data$Steps)\n",
    "boxplot(Data$Steps, ylab=\"Steps\", xlab=\"\")\n",
    "points(M, col=\"red\", pch=\"+\", cex=2)"
   ]
  },
  {
   "cell_type": "markdown",
   "metadata": {},
   "source": [
    "<u>Box plot for one-way data</u>"
   ]
  },
  {
   "cell_type": "code",
   "execution_count": 6,
   "metadata": {},
   "outputs": [
    {
     "data": {
      "image/png": "[encoded data removed]",
      "text/plain": [
       "plot without title"
      ]
     },
     "metadata": {
      "image/png": {
       "height": 420,
       "width": 420
      }
     },
     "output_type": "display_data"
    }
   ],
   "source": [
    "boxplot(Steps ~ Sex, data=Data, ylab=\"Steps\")"
   ]
  },
  {
   "cell_type": "markdown",
   "metadata": {},
   "source": [
    "<u>Box plot for one-way data with means</u>"
   ]
  },
  {
   "cell_type": "code",
   "execution_count": 7,
   "metadata": {},
   "outputs": [
    {
     "data": {
      "image/png": "[encoded data removed]",
      "text/plain": [
       "plot without title"
      ]
     },
     "metadata": {
      "image/png": {
       "height": 420,
       "width": 420
      }
     },
     "output_type": "display_data"
    }
   ],
   "source": [
    "M = tapply(Data$Steps, \n",
    "          INDEX = Data$Sex,\n",
    "          FUN = mean)\n",
    "\n",
    "boxplot(Steps ~ Sex, data=Data, ylab=\"Steps\")\n",
    "\n",
    "points(M, col=\"red\", pch=\"+\", cex=2)"
   ]
  },
  {
   "cell_type": "markdown",
   "metadata": {},
   "source": [
    "<u>Box plot for two-way data</u>"
   ]
  },
  {
   "cell_type": "code",
   "execution_count": 8,
   "metadata": {},
   "outputs": [
    {
     "data": {
      "image/png": "[encoded data removed]",
      "text/plain": [
       "plot without title"
      ]
     },
     "metadata": {
      "image/png": {
       "height": 420,
       "width": 420
      }
     },
     "output_type": "display_data"
    }
   ],
   "source": [
    "boxplot(Steps ~ Sex + Teacher, data=Data, ylab=\"Steps\", cex.axis=0.77)"
   ]
  },
  {
   "cell_type": "markdown",
   "metadata": {},
   "source": [
    "<u>Box plot for two-way data with means</u>"
   ]
  },
  {
   "cell_type": "code",
   "execution_count": 9,
   "metadata": {},
   "outputs": [
    {
     "data": {
      "image/png": "[encoded data removed]",
      "text/plain": [
       "plot without title"
      ]
     },
     "metadata": {
      "image/png": {
       "height": 420,
       "width": 420
      }
     },
     "output_type": "display_data"
    }
   ],
   "source": [
    "M = tapply(Data$Steps,\n",
    "           INDEX = Data$Teach : Data$Sex,\n",
    "           FUN = mean)\n",
    "\n",
    "boxplot(Steps ~ Sex + Teacher,\n",
    "        data = Data,\n",
    "        ylab = \"Steps\",\n",
    "        cex.axis=0.77)\n",
    "\n",
    "points(M, col=\"red\", pch=\"+\", cex=2)"
   ]
  },
  {
   "cell_type": "markdown",
   "metadata": {},
   "source": [
    "<h4><a id=\"1_1_2\">1.1.2 Bar charts and pie charts</a><h4>"
   ]
  },
  {
   "cell_type": "markdown",
   "metadata": {},
   "source": [
    "<u>Bar chart for categorical data</u>"
   ]
  },
  {
   "cell_type": "code",
   "execution_count": 10,
   "metadata": {},
   "outputs": [
    {
     "data": {
      "image/png": "[encoded data removed]",
      "text/plain": [
       "plot without title"
      ]
     },
     "metadata": {
      "image/png": {
       "height": 420,
       "width": 420
      }
     },
     "output_type": "display_data"
    }
   ],
   "source": [
    "barplot(table(Data$Sex))"
   ]
  },
  {
   "cell_type": "markdown",
   "metadata": {},
   "source": [
    "<u>Bar chart with counts for continuous data</u>"
   ]
  },
  {
   "cell_type": "code",
   "execution_count": 11,
   "metadata": {},
   "outputs": [
    {
     "data": {
      "image/png": "[encoded data removed]",
      "text/plain": [
       "plot without title"
      ]
     },
     "metadata": {
      "image/png": {
       "height": 420,
       "width": 420
      }
     },
     "output_type": "display_data"
    }
   ],
   "source": [
    "barplot(table(Data$Steps))"
   ]
  },
  {
   "cell_type": "code",
   "execution_count": 12,
   "metadata": {},
   "outputs": [],
   "source": [
    "#ordered_data = Data[order(Data$Steps, decreasing = TRUE),]\n",
    "#tbl <- table(ordered_data$Steps)\n",
    "#tbl[order(as.numeric(names(tbl)))]\n",
    "#tbl\n",
    "#barplot(tbl)\n",
    "#barplot(table(ordered_data$Steps))"
   ]
  },
  {
   "cell_type": "markdown",
   "metadata": {},
   "source": [
    "<u>Stacked bar plot</u>"
   ]
  },
  {
   "cell_type": "code",
   "execution_count": 13,
   "metadata": {},
   "outputs": [
    {
     "data": {
      "image/png": "[encoded data removed]",
      "text/plain": [
       "Plot with title “Teacher by Gender”"
      ]
     },
     "metadata": {
      "image/png": {
       "height": 420,
       "width": 420
      }
     },
     "output_type": "display_data"
    }
   ],
   "source": [
    "counts <- table(Data$Sex, Data$Teacher)\n",
    "barplot(counts, main=\"Teacher by Gender\", col=c(\"darkblue\", \"red\"), legend = rownames(counts))"
   ]
  },
  {
   "cell_type": "markdown",
   "metadata": {},
   "source": [
    "<u>Grouped bar plot</u>"
   ]
  },
  {
   "cell_type": "code",
   "execution_count": 14,
   "metadata": {},
   "outputs": [
    {
     "data": {
      "image/png": "[encoded data removed]",
      "text/plain": [
       "Plot with title “Teacher by Gender”"
      ]
     },
     "metadata": {
      "image/png": {
       "height": 420,
       "width": 420
      }
     },
     "output_type": "display_data"
    }
   ],
   "source": [
    "barplot(counts, main=\"Teacher by Gender\", col=c(\"darkblue\", \"red\"), legend = rownames(counts), beside=TRUE)"
   ]
  },
  {
   "cell_type": "markdown",
   "metadata": {},
   "source": [
    "<u>Pie charts</u>\n",
    "\n",
    "https://www.statmethods.net/graphs/pie.html"
   ]
  },
  {
   "cell_type": "code",
   "execution_count": 15,
   "metadata": {},
   "outputs": [
    {
     "data": {
      "image/png": "[encoded data removed]",
      "text/plain": [
       "Plot with title “Pie Chart of Countries”"
      ]
     },
     "metadata": {
      "image/png": {
       "height": 420,
       "width": 420
      }
     },
     "output_type": "display_data"
    }
   ],
   "source": [
    "slices <- c(10, 12,4, 16, 8)\n",
    "lbls <- c(\"US\", \"UK\", \"Australia\", \"Germany\", \"France\")\n",
    "pie(slices, labels = lbls, main=\"Pie Chart of Countries\")"
   ]
  },
  {
   "cell_type": "markdown",
   "metadata": {},
   "source": [
    "<h3><a id=\"1_2\">1.2 Numerical Methods</a></h3>\n",
    "<h4><a id=\"1_2_1\">1.2.1 Measures of central tendency: mean, median</a></h4>"
   ]
  },
  {
   "cell_type": "markdown",
   "metadata": {},
   "source": [
    "<u>Mean</u>\n",
    "\n",
    "The <b>mean</b> is the arithmetic mean, which is the sum of all the values divided by the number of items in the dataset.\n",
    "\n",
    "A <b>population</b> is every member of a group, such as every person in the United States. If your data is a population, then the mean is called a <b>population mean</b>, represented by the letter μ.\n",
    "\n",
    "A <b>sample</b> is part of a population, such as United States citizens who live in Wisconsin. If your data is a sample, then the mean is called a <b>sample mean</b>, typically denoted by x̄."
   ]
  },
  {
   "cell_type": "code",
   "execution_count": 16,
   "metadata": {},
   "outputs": [
    {
     "data": {
      "text/html": [
       "7.61538461538461"
      ],
      "text/latex": [
       "7.61538461538461"
      ],
      "text/markdown": [
       "7.61538461538461"
      ],
      "text/plain": [
       "[1] 7.615385"
      ]
     },
     "metadata": {},
     "output_type": "display_data"
    }
   ],
   "source": [
    "mean(Data$Rating)"
   ]
  },
  {
   "cell_type": "markdown",
   "metadata": {},
   "source": [
    "<u>Median</u>"
   ]
  },
  {
   "cell_type": "code",
   "execution_count": 17,
   "metadata": {},
   "outputs": [
    {
     "data": {
      "text/html": [
       "8"
      ],
      "text/latex": [
       "8"
      ],
      "text/markdown": [
       "8"
      ],
      "text/plain": [
       "[1] 8"
      ]
     },
     "metadata": {},
     "output_type": "display_data"
    }
   ],
   "source": [
    "median(Data$Rating)"
   ]
  },
  {
   "cell_type": "markdown",
   "metadata": {},
   "source": [
    "<h4><a id=\"1_2_2\">1.2.2 Measures of variability: variance, standard deviation, range, interquartile range</a></h4>"
   ]
  },
  {
   "cell_type": "markdown",
   "metadata": {},
   "source": [
    "<u>Variance</u>"
   ]
  },
  {
   "cell_type": "markdown",
   "metadata": {},
   "source": [
    "The <i>variance</i> is a numerical measure of how the data values are dispersed around the mean. \n",
    "\n",
    "The sample variance is defined as:"
   ]
  },
  {
   "cell_type": "markdown",
   "metadata": {},
   "source": [
    "![](files/numerical-measures5x.png)"
   ]
  },
  {
   "cell_type": "code",
   "execution_count": 18,
   "metadata": {},
   "outputs": [
    {
     "data": {
      "text/html": [
       "3.04615384615385"
      ],
      "text/latex": [
       "3.04615384615385"
      ],
      "text/markdown": [
       "3.04615384615385"
      ],
      "text/plain": [
       "[1] 3.046154"
      ]
     },
     "metadata": {},
     "output_type": "display_data"
    }
   ],
   "source": [
    "var(Data$Rating)"
   ]
  },
  {
   "cell_type": "markdown",
   "metadata": {},
   "source": [
    "<u>Standard deviation</u>"
   ]
  },
  {
   "cell_type": "markdown",
   "metadata": {},
   "source": [
    "The <i>standard deviation</i> of an observation variable is the square root of its variance."
   ]
  },
  {
   "cell_type": "code",
   "execution_count": 19,
   "metadata": {},
   "outputs": [
    {
     "data": {
      "text/html": [
       "1.74532342164822"
      ],
      "text/latex": [
       "1.74532342164822"
      ],
      "text/markdown": [
       "1.74532342164822"
      ],
      "text/plain": [
       "[1] 1.745323"
      ]
     },
     "metadata": {},
     "output_type": "display_data"
    }
   ],
   "source": [
    "sd(Data$Rating)"
   ]
  },
  {
   "cell_type": "markdown",
   "metadata": {},
   "source": [
    "<u>Range</u>"
   ]
  },
  {
   "cell_type": "markdown",
   "metadata": {},
   "source": [
    "The <i>range</i> of an observation variable is the difference of its largest and smallest data values. It is a measure of how far apart the entire data spreads in value."
   ]
  },
  {
   "cell_type": "code",
   "execution_count": 20,
   "metadata": {},
   "outputs": [
    {
     "data": {
      "text/html": [
       "6"
      ],
      "text/latex": [
       "6"
      ],
      "text/markdown": [
       "6"
      ],
      "text/plain": [
       "[1] 6"
      ]
     },
     "metadata": {},
     "output_type": "display_data"
    }
   ],
   "source": [
    "max(Data$Rating) - min(Data$Rating)"
   ]
  },
  {
   "cell_type": "markdown",
   "metadata": {},
   "source": [
    "<u>Interquartile range</u>\n",
    "\n",
    "The <i>interquartile range</i> of an observation variable is the difference of its upper and lower quartiles. It is a measure of how far apart the middle portion of data spreads in value."
   ]
  },
  {
   "cell_type": "code",
   "execution_count": 21,
   "metadata": {},
   "outputs": [
    {
     "data": {
      "text/html": [
       "2"
      ],
      "text/latex": [
       "2"
      ],
      "text/markdown": [
       "2"
      ],
      "text/plain": [
       "[1] 2"
      ]
     },
     "metadata": {},
     "output_type": "display_data"
    }
   ],
   "source": [
    "IQR(Data$Rating)"
   ]
  },
  {
   "cell_type": "markdown",
   "metadata": {},
   "source": [
    "<h4><a id=\"1_2_3\">1.2.3 Measures of relative standing: standard core, percentiles, quartiles</a></h4>"
   ]
  },
  {
   "cell_type": "markdown",
   "metadata": {},
   "source": [
    "The nth percentile of an observation variable is the value that cuts off the first n percent of the data values when it is sorted in ascending order."
   ]
  },
  {
   "cell_type": "code",
   "execution_count": 22,
   "metadata": {},
   "outputs": [
    {
     "data": {
      "text/html": [
       "<style>\n",
       ".dl-inline {width: auto; margin:0; padding: 0}\n",
       ".dl-inline>dt, .dl-inline>dd {float: none; width: auto; display: inline-block}\n",
       ".dl-inline>dt::after {content: \":\\0020\"; padding-right: .5ex}\n",
       ".dl-inline>dt:not(:first-of-type) {padding-left: .5ex}\n",
       "</style><dl class=dl-inline><dt>25%</dt><dd>7</dd><dt>50%</dt><dd>8</dd><dt>75%</dt><dd>9</dd></dl>\n"
      ],
      "text/latex": [
       "\\begin{description*}\n",
       "\\item[25\\textbackslash{}\\%] 7\n",
       "\\item[50\\textbackslash{}\\%] 8\n",
       "\\item[75\\textbackslash{}\\%] 9\n",
       "\\end{description*}\n"
      ],
      "text/markdown": [
       "25%\n",
       ":   750%\n",
       ":   875%\n",
       ":   9\n",
       "\n"
      ],
      "text/plain": [
       "25% 50% 75% \n",
       "  7   8   9 "
      ]
     },
     "metadata": {},
     "output_type": "display_data"
    }
   ],
   "source": [
    "quantile(Data$Rating, c(.25, .5, .75))"
   ]
  },
  {
   "cell_type": "markdown",
   "metadata": {},
   "source": [
    "<h4><a id=\"1_2_4\">1.2.4 Identifying Outliers</a></h4>"
   ]
  },
  {
   "cell_type": "markdown",
   "metadata": {},
   "source": [
    "This webpage provides comprehensive information on identifying outliers in R:\n",
    "\n",
    "https://www.statsandr.com/blog/outliers-detection-in-r/"
   ]
  },
  {
   "cell_type": "markdown",
   "metadata": {},
   "source": [
    "<u>Introduction</u>\n",
    "\n",
    "An <i>outlier</i> is a value or an observation that is distance from other observations, that is to say, a data point that differs significantly from other data points."
   ]
  },
  {
   "cell_type": "markdown",
   "metadata": {},
   "source": [
    "Outliers may arise from inherent variability of the observed phenomenon (extreme values) or errors (mistakes)."
   ]
  },
  {
   "cell_type": "markdown",
   "metadata": {},
   "source": [
    "Considerations in removing outliers:\n",
    "\n",
    "<ol>\n",
    "    <li>The domain/context of the analyses and the research question. Sometimes may be removed as they indicate a malfunctioning process or might be kept because they contain valuable information. Analyses may be performed twice, once with and once without outliers to evaluate their impact on the conclusions. If results change drastically due to some influential values, this should caution the research to make overambitious claims.</li>\n",
    "    <li>Whether the tests you will perform are robust to the presence of outliers or not. For instance, the slope of a simple linear regression may significantly vary with just one outlier, whereas non-parametric tests such as the <i>Wilcoxon test</i> are usually robust to outliers.\n",
    "     <li>How distant are the outliers from other observations? Some observations considered as outliers are actually not really extreme compared to all other observations, while other potential outliers may be really distant from the rest of the observations</li>\n",
    "</ol>"
   ]
  },
  {
   "cell_type": "markdown",
   "metadata": {},
   "source": [
    "<u>Maximum and Minimum</u>"
   ]
  },
  {
   "cell_type": "code",
   "execution_count": 23,
   "metadata": {},
   "outputs": [
    {
     "name": "stderr",
     "output_type": "stream",
     "text": [
      "Loading required package: ggplot2\n",
      "\n"
     ]
    },
    {
     "data": {
      "text/plain": [
       "   Min. 1st Qu.  Median    Mean 3rd Qu.    Max. \n",
       "  12.00   18.00   24.00   23.44   27.00   44.00 "
      ]
     },
     "metadata": {},
     "output_type": "display_data"
    }
   ],
   "source": [
    "if (!require('ggplot2')) install.packages('ggplot2')\n",
    "dat <- ggplot2::mpg\n",
    "summary(dat$hwy)"
   ]
  },
  {
   "cell_type": "code",
   "execution_count": 24,
   "metadata": {},
   "outputs": [
    {
     "data": {
      "text/html": [
       "12"
      ],
      "text/latex": [
       "12"
      ],
      "text/markdown": [
       "12"
      ],
      "text/plain": [
       "[1] 12"
      ]
     },
     "metadata": {},
     "output_type": "display_data"
    },
    {
     "data": {
      "text/html": [
       "44"
      ],
      "text/latex": [
       "44"
      ],
      "text/markdown": [
       "44"
      ],
      "text/plain": [
       "[1] 44"
      ]
     },
     "metadata": {},
     "output_type": "display_data"
    }
   ],
   "source": [
    "min(dat$hwy)\n",
    "max(dat$hwy)"
   ]
  },
  {
   "cell_type": "markdown",
   "metadata": {},
   "source": [
    "<u>Histogram</u>"
   ]
  },
  {
   "cell_type": "code",
   "execution_count": 25,
   "metadata": {},
   "outputs": [
    {
     "data": {
      "image/png": "[encoded data removed]",
      "text/plain": [
       "Plot with title “Histogram of hwy”"
      ]
     },
     "metadata": {
      "image/png": {
       "height": 420,
       "width": 420
      }
     },
     "output_type": "display_data"
    }
   ],
   "source": [
    "hist(dat$hwy, xlab=\"hwy\", main=\"Histogram of hwy\", breaks=sqrt(nrow(dat)))"
   ]
  },
  {
   "cell_type": "markdown",
   "metadata": {},
   "source": [
    "<u>IQR criterion</u>"
   ]
  },
  {
   "cell_type": "markdown",
   "metadata": {},
   "source": [
    "The IQR criterion means that all observations above ![](files/iqr_below.png) and below ![](files/iqr_above.png) are considered as potential outliers by R. nIn other words, all observations outside of the following interval will be considered as potential outliers:\n",
    "\n",
    "![](files/outliers.png)"
   ]
  },
  {
   "cell_type": "code",
   "execution_count": 26,
   "metadata": {},
   "outputs": [
    {
     "name": "stdout",
     "output_type": "stream",
     "text": [
      "[1] outlier low:  4.5\n",
      "[1] outlier high:  40.5\n"
     ]
    }
   ],
   "source": [
    "hwy_iqr = IQR(dat$hwy)\n",
    "hwy_quart = quantile(dat$hwy, c(.25, .75))\n",
    "hwy_q25 = unname(hwy_quart)[1]\n",
    "hwy_q75 = unname(hwy_quart)[2]\n",
    "\n",
    "outlier_low = hwy_q25 - (1.5 * hwy_iqr)\n",
    "outlier_high = hwy_q75 + (1.5 * hwy_iqr)\n",
    "print(paste(\"outlier low: \", outlier_low), quote = FALSE)\n",
    "print(paste(\"outlier high: \", outlier_high), quote = FALSE)"
   ]
  },
  {
   "cell_type": "code",
   "execution_count": 27,
   "metadata": {},
   "outputs": [
    {
     "data": {
      "text/html": [
       "<style>\n",
       ".list-inline {list-style: none; margin:0; padding: 0}\n",
       ".list-inline>li {display: inline-block}\n",
       ".list-inline>li:not(:last-child)::after {content: \"\\00b7\"; padding: 0 .5ex}\n",
       "</style>\n",
       "<ol class=list-inline><li>44</li><li>44</li><li>41</li></ol>\n"
      ],
      "text/latex": [
       "\\begin{enumerate*}\n",
       "\\item 44\n",
       "\\item 44\n",
       "\\item 41\n",
       "\\end{enumerate*}\n"
      ],
      "text/markdown": [
       "1. 44\n",
       "2. 44\n",
       "3. 41\n",
       "\n",
       "\n"
      ],
      "text/plain": [
       "[1] 44 44 41"
      ]
     },
     "metadata": {},
     "output_type": "display_data"
    },
    {
     "data": {
      "text/html": [
       "<style>\n",
       ".list-inline {list-style: none; margin:0; padding: 0}\n",
       ".list-inline>li {display: inline-block}\n",
       ".list-inline>li:not(:last-child)::after {content: \"\\00b7\"; padding: 0 .5ex}\n",
       "</style>\n",
       "<ol class=list-inline><li>44</li><li>44</li><li>41</li></ol>\n"
      ],
      "text/latex": [
       "\\begin{enumerate*}\n",
       "\\item 44\n",
       "\\item 44\n",
       "\\item 41\n",
       "\\end{enumerate*}\n"
      ],
      "text/markdown": [
       "1. 44\n",
       "2. 44\n",
       "3. 41\n",
       "\n",
       "\n"
      ],
      "text/plain": [
       "[1] 44 44 41"
      ]
     },
     "metadata": {},
     "output_type": "display_data"
    }
   ],
   "source": [
    "# select values from data frame to find outliers\n",
    "hwy_outliers1 = dat[which(dat$hwy < outlier_low | dat$hwy > outlier_high), ]\n",
    "hwy_outliers1$hwy\n",
    "\n",
    "# use subset function to find outliers\n",
    "hwy_outliers2 = subset(dat, hwy < outlier_low | hwy > outlier_high)\n",
    "hwy_outliers2$hwy"
   ]
  },
  {
   "cell_type": "markdown",
   "metadata": {},
   "source": [
    "<u>Percentiles</u>\n",
    "\n",
    "With the percentiles method, all observations that lie outside the interval formed by the 2.5 and 97.5 percentiles will be considered as potential outliers. Other percentiles such as the 1 and 99, or the 5 and 95 percentiles can also be considered to construct the interval."
   ]
  },
  {
   "cell_type": "code",
   "execution_count": 28,
   "metadata": {},
   "outputs": [
    {
     "data": {
      "text/html": [
       "<strong>2.5%:</strong> 14"
      ],
      "text/latex": [
       "\\textbf{2.5\\textbackslash{}\\%:} 14"
      ],
      "text/markdown": [
       "**2.5%:** 14"
      ],
      "text/plain": [
       "2.5% \n",
       "  14 "
      ]
     },
     "metadata": {},
     "output_type": "display_data"
    },
    {
     "data": {
      "text/html": [
       "<strong>97.5%:</strong> 35.175"
      ],
      "text/latex": [
       "\\textbf{97.5\\textbackslash{}\\%:} 35.175"
      ],
      "text/markdown": [
       "**97.5%:** 35.175"
      ],
      "text/plain": [
       " 97.5% \n",
       "35.175 "
      ]
     },
     "metadata": {},
     "output_type": "display_data"
    },
    {
     "data": {
      "text/html": [
       "<table>\n",
       "<caption>A tibble: 11 × 1</caption>\n",
       "<thead>\n",
       "\t<tr><th scope=col>hwy</th></tr>\n",
       "\t<tr><th scope=col>&lt;int&gt;</th></tr>\n",
       "</thead>\n",
       "<tbody>\n",
       "\t<tr><td>12</td></tr>\n",
       "\t<tr><td>12</td></tr>\n",
       "\t<tr><td>12</td></tr>\n",
       "\t<tr><td>12</td></tr>\n",
       "\t<tr><td>36</td></tr>\n",
       "\t<tr><td>36</td></tr>\n",
       "\t<tr><td>12</td></tr>\n",
       "\t<tr><td>37</td></tr>\n",
       "\t<tr><td>44</td></tr>\n",
       "\t<tr><td>44</td></tr>\n",
       "\t<tr><td>41</td></tr>\n",
       "</tbody>\n",
       "</table>\n"
      ],
      "text/latex": [
       "A tibble: 11 × 1\n",
       "\\begin{tabular}{l}\n",
       " hwy\\\\\n",
       " <int>\\\\\n",
       "\\hline\n",
       "\t 12\\\\\n",
       "\t 12\\\\\n",
       "\t 12\\\\\n",
       "\t 12\\\\\n",
       "\t 36\\\\\n",
       "\t 36\\\\\n",
       "\t 12\\\\\n",
       "\t 37\\\\\n",
       "\t 44\\\\\n",
       "\t 44\\\\\n",
       "\t 41\\\\\n",
       "\\end{tabular}\n"
      ],
      "text/markdown": [
       "\n",
       "A tibble: 11 × 1\n",
       "\n",
       "| hwy &lt;int&gt; |\n",
       "|---|\n",
       "| 12 |\n",
       "| 12 |\n",
       "| 12 |\n",
       "| 12 |\n",
       "| 36 |\n",
       "| 36 |\n",
       "| 12 |\n",
       "| 37 |\n",
       "| 44 |\n",
       "| 44 |\n",
       "| 41 |\n",
       "\n"
      ],
      "text/plain": [
       "   hwy\n",
       "1  12 \n",
       "2  12 \n",
       "3  12 \n",
       "4  12 \n",
       "5  36 \n",
       "6  36 \n",
       "7  12 \n",
       "8  37 \n",
       "9  44 \n",
       "10 44 \n",
       "11 41 "
      ]
     },
     "metadata": {},
     "output_type": "display_data"
    }
   ],
   "source": [
    "lower_bound <- quantile(dat$hwy, 0.025)\n",
    "upper_bound <- quantile(dat$hwy, 0.975)\n",
    "outlier_ind <- which(dat$hwy < lower_bound | dat$hwy > upper_bound)\n",
    "lower_bound\n",
    "upper_bound\n",
    "#sort(outlier_ind)\n",
    "dat[outlier_ind, \"hwy\"]"
   ]
  },
  {
   "cell_type": "code",
   "execution_count": 29,
   "metadata": {},
   "outputs": [
    {
     "data": {
      "text/html": [
       "<table>\n",
       "<caption>A tibble: 11 × 11</caption>\n",
       "<thead>\n",
       "\t<tr><th scope=col>manufacturer</th><th scope=col>model</th><th scope=col>displ</th><th scope=col>year</th><th scope=col>cyl</th><th scope=col>trans</th><th scope=col>drv</th><th scope=col>cty</th><th scope=col>hwy</th><th scope=col>fl</th><th scope=col>class</th></tr>\n",
       "\t<tr><th scope=col>&lt;chr&gt;</th><th scope=col>&lt;chr&gt;</th><th scope=col>&lt;dbl&gt;</th><th scope=col>&lt;int&gt;</th><th scope=col>&lt;int&gt;</th><th scope=col>&lt;chr&gt;</th><th scope=col>&lt;chr&gt;</th><th scope=col>&lt;int&gt;</th><th scope=col>&lt;int&gt;</th><th scope=col>&lt;chr&gt;</th><th scope=col>&lt;chr&gt;</th></tr>\n",
       "</thead>\n",
       "<tbody>\n",
       "\t<tr><td>dodge     </td><td>dakota pickup 4wd  </td><td>4.7</td><td>2008</td><td>8</td><td>auto(l5)  </td><td>4</td><td> 9</td><td>12</td><td>e</td><td>pickup    </td></tr>\n",
       "\t<tr><td>dodge     </td><td>durango 4wd        </td><td>4.7</td><td>2008</td><td>8</td><td>auto(l5)  </td><td>4</td><td> 9</td><td>12</td><td>e</td><td>suv       </td></tr>\n",
       "\t<tr><td>dodge     </td><td>ram 1500 pickup 4wd</td><td>4.7</td><td>2008</td><td>8</td><td>auto(l5)  </td><td>4</td><td> 9</td><td>12</td><td>e</td><td>pickup    </td></tr>\n",
       "\t<tr><td>dodge     </td><td>ram 1500 pickup 4wd</td><td>4.7</td><td>2008</td><td>8</td><td>manual(m6)</td><td>4</td><td> 9</td><td>12</td><td>e</td><td>pickup    </td></tr>\n",
       "\t<tr><td>honda     </td><td>civic              </td><td>1.8</td><td>2008</td><td>4</td><td>auto(l5)  </td><td>f</td><td>25</td><td>36</td><td>r</td><td>subcompact</td></tr>\n",
       "\t<tr><td>honda     </td><td>civic              </td><td>1.8</td><td>2008</td><td>4</td><td>auto(l5)  </td><td>f</td><td>24</td><td>36</td><td>c</td><td>subcompact</td></tr>\n",
       "\t<tr><td>jeep      </td><td>grand cherokee 4wd </td><td>4.7</td><td>2008</td><td>8</td><td>auto(l5)  </td><td>4</td><td> 9</td><td>12</td><td>e</td><td>suv       </td></tr>\n",
       "\t<tr><td>toyota    </td><td>corolla            </td><td>1.8</td><td>2008</td><td>4</td><td>manual(m5)</td><td>f</td><td>28</td><td>37</td><td>r</td><td>compact   </td></tr>\n",
       "\t<tr><td>volkswagen</td><td>jetta              </td><td>1.9</td><td>1999</td><td>4</td><td>manual(m5)</td><td>f</td><td>33</td><td>44</td><td>d</td><td>compact   </td></tr>\n",
       "\t<tr><td>volkswagen</td><td>new beetle         </td><td>1.9</td><td>1999</td><td>4</td><td>manual(m5)</td><td>f</td><td>35</td><td>44</td><td>d</td><td>subcompact</td></tr>\n",
       "\t<tr><td>volkswagen</td><td>new beetle         </td><td>1.9</td><td>1999</td><td>4</td><td>auto(l4)  </td><td>f</td><td>29</td><td>41</td><td>d</td><td>subcompact</td></tr>\n",
       "</tbody>\n",
       "</table>\n"
      ],
      "text/latex": [
       "A tibble: 11 × 11\n",
       "\\begin{tabular}{lllllllllll}\n",
       " manufacturer & model & displ & year & cyl & trans & drv & cty & hwy & fl & class\\\\\n",
       " <chr> & <chr> & <dbl> & <int> & <int> & <chr> & <chr> & <int> & <int> & <chr> & <chr>\\\\\n",
       "\\hline\n",
       "\t dodge      & dakota pickup 4wd   & 4.7 & 2008 & 8 & auto(l5)   & 4 &  9 & 12 & e & pickup    \\\\\n",
       "\t dodge      & durango 4wd         & 4.7 & 2008 & 8 & auto(l5)   & 4 &  9 & 12 & e & suv       \\\\\n",
       "\t dodge      & ram 1500 pickup 4wd & 4.7 & 2008 & 8 & auto(l5)   & 4 &  9 & 12 & e & pickup    \\\\\n",
       "\t dodge      & ram 1500 pickup 4wd & 4.7 & 2008 & 8 & manual(m6) & 4 &  9 & 12 & e & pickup    \\\\\n",
       "\t honda      & civic               & 1.8 & 2008 & 4 & auto(l5)   & f & 25 & 36 & r & subcompact\\\\\n",
       "\t honda      & civic               & 1.8 & 2008 & 4 & auto(l5)   & f & 24 & 36 & c & subcompact\\\\\n",
       "\t jeep       & grand cherokee 4wd  & 4.7 & 2008 & 8 & auto(l5)   & 4 &  9 & 12 & e & suv       \\\\\n",
       "\t toyota     & corolla             & 1.8 & 2008 & 4 & manual(m5) & f & 28 & 37 & r & compact   \\\\\n",
       "\t volkswagen & jetta               & 1.9 & 1999 & 4 & manual(m5) & f & 33 & 44 & d & compact   \\\\\n",
       "\t volkswagen & new beetle          & 1.9 & 1999 & 4 & manual(m5) & f & 35 & 44 & d & subcompact\\\\\n",
       "\t volkswagen & new beetle          & 1.9 & 1999 & 4 & auto(l4)   & f & 29 & 41 & d & subcompact\\\\\n",
       "\\end{tabular}\n"
      ],
      "text/markdown": [
       "\n",
       "A tibble: 11 × 11\n",
       "\n",
       "| manufacturer &lt;chr&gt; | model &lt;chr&gt; | displ &lt;dbl&gt; | year &lt;int&gt; | cyl &lt;int&gt; | trans &lt;chr&gt; | drv &lt;chr&gt; | cty &lt;int&gt; | hwy &lt;int&gt; | fl &lt;chr&gt; | class &lt;chr&gt; |\n",
       "|---|---|---|---|---|---|---|---|---|---|---|\n",
       "| dodge      | dakota pickup 4wd   | 4.7 | 2008 | 8 | auto(l5)   | 4 |  9 | 12 | e | pickup     |\n",
       "| dodge      | durango 4wd         | 4.7 | 2008 | 8 | auto(l5)   | 4 |  9 | 12 | e | suv        |\n",
       "| dodge      | ram 1500 pickup 4wd | 4.7 | 2008 | 8 | auto(l5)   | 4 |  9 | 12 | e | pickup     |\n",
       "| dodge      | ram 1500 pickup 4wd | 4.7 | 2008 | 8 | manual(m6) | 4 |  9 | 12 | e | pickup     |\n",
       "| honda      | civic               | 1.8 | 2008 | 4 | auto(l5)   | f | 25 | 36 | r | subcompact |\n",
       "| honda      | civic               | 1.8 | 2008 | 4 | auto(l5)   | f | 24 | 36 | c | subcompact |\n",
       "| jeep       | grand cherokee 4wd  | 4.7 | 2008 | 8 | auto(l5)   | 4 |  9 | 12 | e | suv        |\n",
       "| toyota     | corolla             | 1.8 | 2008 | 4 | manual(m5) | f | 28 | 37 | r | compact    |\n",
       "| volkswagen | jetta               | 1.9 | 1999 | 4 | manual(m5) | f | 33 | 44 | d | compact    |\n",
       "| volkswagen | new beetle          | 1.9 | 1999 | 4 | manual(m5) | f | 35 | 44 | d | subcompact |\n",
       "| volkswagen | new beetle          | 1.9 | 1999 | 4 | auto(l4)   | f | 29 | 41 | d | subcompact |\n",
       "\n"
      ],
      "text/plain": [
       "   manufacturer model               displ year cyl trans      drv cty hwy fl\n",
       "1  dodge        dakota pickup 4wd   4.7   2008 8   auto(l5)   4    9  12  e \n",
       "2  dodge        durango 4wd         4.7   2008 8   auto(l5)   4    9  12  e \n",
       "3  dodge        ram 1500 pickup 4wd 4.7   2008 8   auto(l5)   4    9  12  e \n",
       "4  dodge        ram 1500 pickup 4wd 4.7   2008 8   manual(m6) 4    9  12  e \n",
       "5  honda        civic               1.8   2008 4   auto(l5)   f   25  36  r \n",
       "6  honda        civic               1.8   2008 4   auto(l5)   f   24  36  c \n",
       "7  jeep         grand cherokee 4wd  4.7   2008 8   auto(l5)   4    9  12  e \n",
       "8  toyota       corolla             1.8   2008 4   manual(m5) f   28  37  r \n",
       "9  volkswagen   jetta               1.9   1999 4   manual(m5) f   33  44  d \n",
       "10 volkswagen   new beetle          1.9   1999 4   manual(m5) f   35  44  d \n",
       "11 volkswagen   new beetle          1.9   1999 4   auto(l4)   f   29  41  d \n",
       "   class     \n",
       "1  pickup    \n",
       "2  suv       \n",
       "3  pickup    \n",
       "4  pickup    \n",
       "5  subcompact\n",
       "6  subcompact\n",
       "7  suv       \n",
       "8  compact   \n",
       "9  compact   \n",
       "10 subcompact\n",
       "11 subcompact"
      ]
     },
     "metadata": {},
     "output_type": "display_data"
    }
   ],
   "source": [
    "dat[outlier_ind, ]"
   ]
  },
  {
   "cell_type": "code",
   "execution_count": 30,
   "metadata": {},
   "outputs": [
    {
     "data": {
      "text/html": [
       "<strong>1%:</strong> 12"
      ],
      "text/latex": [
       "\\textbf{1\\textbackslash{}\\%:} 12"
      ],
      "text/markdown": [
       "**1%:** 12"
      ],
      "text/plain": [
       "1% \n",
       "12 "
      ]
     },
     "metadata": {},
     "output_type": "display_data"
    },
    {
     "data": {
      "text/html": [
       "<strong>99%:</strong> 39.68"
      ],
      "text/latex": [
       "\\textbf{99\\textbackslash{}\\%:} 39.68"
      ],
      "text/markdown": [
       "**99%:** 39.68"
      ],
      "text/plain": [
       "  99% \n",
       "39.68 "
      ]
     },
     "metadata": {},
     "output_type": "display_data"
    },
    {
     "data": {
      "text/html": [
       "<table>\n",
       "<caption>A tibble: 3 × 11</caption>\n",
       "<thead>\n",
       "\t<tr><th scope=col>manufacturer</th><th scope=col>model</th><th scope=col>displ</th><th scope=col>year</th><th scope=col>cyl</th><th scope=col>trans</th><th scope=col>drv</th><th scope=col>cty</th><th scope=col>hwy</th><th scope=col>fl</th><th scope=col>class</th></tr>\n",
       "\t<tr><th scope=col>&lt;chr&gt;</th><th scope=col>&lt;chr&gt;</th><th scope=col>&lt;dbl&gt;</th><th scope=col>&lt;int&gt;</th><th scope=col>&lt;int&gt;</th><th scope=col>&lt;chr&gt;</th><th scope=col>&lt;chr&gt;</th><th scope=col>&lt;int&gt;</th><th scope=col>&lt;int&gt;</th><th scope=col>&lt;chr&gt;</th><th scope=col>&lt;chr&gt;</th></tr>\n",
       "</thead>\n",
       "<tbody>\n",
       "\t<tr><td>volkswagen</td><td>jetta     </td><td>1.9</td><td>1999</td><td>4</td><td>manual(m5)</td><td>f</td><td>33</td><td>44</td><td>d</td><td>compact   </td></tr>\n",
       "\t<tr><td>volkswagen</td><td>new beetle</td><td>1.9</td><td>1999</td><td>4</td><td>manual(m5)</td><td>f</td><td>35</td><td>44</td><td>d</td><td>subcompact</td></tr>\n",
       "\t<tr><td>volkswagen</td><td>new beetle</td><td>1.9</td><td>1999</td><td>4</td><td>auto(l4)  </td><td>f</td><td>29</td><td>41</td><td>d</td><td>subcompact</td></tr>\n",
       "</tbody>\n",
       "</table>\n"
      ],
      "text/latex": [
       "A tibble: 3 × 11\n",
       "\\begin{tabular}{lllllllllll}\n",
       " manufacturer & model & displ & year & cyl & trans & drv & cty & hwy & fl & class\\\\\n",
       " <chr> & <chr> & <dbl> & <int> & <int> & <chr> & <chr> & <int> & <int> & <chr> & <chr>\\\\\n",
       "\\hline\n",
       "\t volkswagen & jetta      & 1.9 & 1999 & 4 & manual(m5) & f & 33 & 44 & d & compact   \\\\\n",
       "\t volkswagen & new beetle & 1.9 & 1999 & 4 & manual(m5) & f & 35 & 44 & d & subcompact\\\\\n",
       "\t volkswagen & new beetle & 1.9 & 1999 & 4 & auto(l4)   & f & 29 & 41 & d & subcompact\\\\\n",
       "\\end{tabular}\n"
      ],
      "text/markdown": [
       "\n",
       "A tibble: 3 × 11\n",
       "\n",
       "| manufacturer &lt;chr&gt; | model &lt;chr&gt; | displ &lt;dbl&gt; | year &lt;int&gt; | cyl &lt;int&gt; | trans &lt;chr&gt; | drv &lt;chr&gt; | cty &lt;int&gt; | hwy &lt;int&gt; | fl &lt;chr&gt; | class &lt;chr&gt; |\n",
       "|---|---|---|---|---|---|---|---|---|---|---|\n",
       "| volkswagen | jetta      | 1.9 | 1999 | 4 | manual(m5) | f | 33 | 44 | d | compact    |\n",
       "| volkswagen | new beetle | 1.9 | 1999 | 4 | manual(m5) | f | 35 | 44 | d | subcompact |\n",
       "| volkswagen | new beetle | 1.9 | 1999 | 4 | auto(l4)   | f | 29 | 41 | d | subcompact |\n",
       "\n"
      ],
      "text/plain": [
       "  manufacturer model      displ year cyl trans      drv cty hwy fl class     \n",
       "1 volkswagen   jetta      1.9   1999 4   manual(m5) f   33  44  d  compact   \n",
       "2 volkswagen   new beetle 1.9   1999 4   manual(m5) f   35  44  d  subcompact\n",
       "3 volkswagen   new beetle 1.9   1999 4   auto(l4)   f   29  41  d  subcompact"
      ]
     },
     "metadata": {},
     "output_type": "display_data"
    }
   ],
   "source": [
    "lower_bound <- quantile(dat$hwy, 0.01)\n",
    "upper_bound <- quantile(dat$hwy, 0.99)\n",
    "outlier_ind <- which(dat$hwy < lower_bound | dat$hwy > upper_bound)\n",
    "lower_bound\n",
    "upper_bound\n",
    "dat[outlier_ind, ]"
   ]
  },
  {
   "cell_type": "markdown",
   "metadata": {},
   "source": [
    "<u>Hampel filter</u>\n",
    "\n",
    "The <i>Hampel filter</i> considers outliers as the values out side the interval formed by the median, plus or minus 3 <a href=\"https://en.wikipedia.org/wiki/Median_absolute_deviation\">median absolute deviations</a> (MAD)."
   ]
  },
  {
   "cell_type": "markdown",
   "metadata": {},
   "source": [
    "![](files/hampel.png)"
   ]
  },
  {
   "cell_type": "code",
   "execution_count": 31,
   "metadata": {},
   "outputs": [
    {
     "name": "stdout",
     "output_type": "stream",
     "text": [
      "[1] 1.761\n"
     ]
    }
   ],
   "source": [
    "lower_bound <- median(dat$hwy) - 3 * mad(dat$hwy)\n",
    "print(lower_bound)"
   ]
  },
  {
   "cell_type": "code",
   "execution_count": 32,
   "metadata": {},
   "outputs": [
    {
     "data": {
      "text/html": [
       "46.239"
      ],
      "text/latex": [
       "46.239"
      ],
      "text/markdown": [
       "46.239"
      ],
      "text/plain": [
       "[1] 46.239"
      ]
     },
     "metadata": {},
     "output_type": "display_data"
    }
   ],
   "source": [
    "upper_bound <- median(dat$hwy) + 3 * mad(dat$hwy)\n",
    "upper_bound"
   ]
  },
  {
   "cell_type": "code",
   "execution_count": 33,
   "metadata": {},
   "outputs": [
    {
     "name": "stdout",
     "output_type": "stream",
     "text": [
      "integer(0)\n"
     ]
    }
   ],
   "source": [
    "outlier_ind <- which(dat$hwy < lower_bound | dat$hwy > upper_bound)\n",
    "print(outlier_ind)"
   ]
  },
  {
   "cell_type": "markdown",
   "metadata": {},
   "source": [
    "<u>Dixon's test</u>\n",
    "\n",
    "<a href=\"https://en.wikipedia.org/wiki/Dixon%27s_Q_test\">Dixon's Q test</a> is used to test whether a single low or high value is an outlier. The dixon test is most useful for small sample sizes (such as n  &leq; 25)."
   ]
  },
  {
   "cell_type": "markdown",
   "metadata": {},
   "source": [
    "The test can be performed using the <code>dixon.test()</code> function from the <code>{outliers}</code> package."
   ]
  },
  {
   "cell_type": "code",
   "execution_count": 34,
   "metadata": {},
   "outputs": [
    {
     "name": "stderr",
     "output_type": "stream",
     "text": [
      "Loading required package: outliers\n",
      "\n"
     ]
    },
    {
     "data": {
      "text/plain": [
       "\n",
       "\tDixon test for outliers\n",
       "\n",
       "data:  subdat$hwy\n",
       "Q = 0.57143, p-value = 0.006508\n",
       "alternative hypothesis: lowest value 15 is an outlier\n"
      ]
     },
     "metadata": {},
     "output_type": "display_data"
    }
   ],
   "source": [
    "if (!require('outliers')) install.packages('outliers')\n",
    "subdat <- dat[1:20,]\n",
    "test <- dixon.test(subdat$hwy)\n",
    "test"
   ]
  },
  {
   "cell_type": "markdown",
   "metadata": {},
   "source": [
    "To test for the highest value, add the <code>opposite = TRUE</code> argument to the function:"
   ]
  },
  {
   "cell_type": "code",
   "execution_count": 35,
   "metadata": {},
   "outputs": [
    {
     "data": {
      "text/plain": [
       "\n",
       "\tDixon test for outliers\n",
       "\n",
       "data:  subdat$hwy\n",
       "Q = 0.25, p-value = 0.8582\n",
       "alternative hypothesis: highest value 31 is an outlier\n"
      ]
     },
     "metadata": {},
     "output_type": "display_data"
    }
   ],
   "source": [
    "test <- dixon.test(subdat$hwy, opposite = TRUE)\n",
    "test"
   ]
  },
  {
   "cell_type": "markdown",
   "metadata": {},
   "source": [
    "<u>Rosner's test</u>\n",
    "\n",
    "<i>Rosner's test</i> for outliers can detect several outliers at once, and it is designed to avoid the problem of masking, where an outlier that is close in value to another outlier can go undetected.\n",
    "\n",
    "The Rosner test is most appropriate when the sample size is large (n &geq; 20)."
   ]
  },
  {
   "cell_type": "markdown",
   "metadata": {},
   "source": [
    "To perform the test, we use the <code>rosnerTest()</code> function from the <code>{EnvStats}</code> package. This function requires at least 2 arguments: the data and the number of suspected outliers <code>k</code> (with <code>k = 3</code> as the default)."
   ]
  },
  {
   "cell_type": "code",
   "execution_count": 36,
   "metadata": {},
   "outputs": [
    {
     "name": "stderr",
     "output_type": "stream",
     "text": [
      "Loading required package: EnvStats\n",
      "\n",
      "\n",
      "Attaching package: ‘EnvStats’\n",
      "\n",
      "\n",
      "The following objects are masked from ‘package:stats’:\n",
      "\n",
      "    predict, predict.lm\n",
      "\n",
      "\n",
      "The following object is masked from ‘package:base’:\n",
      "\n",
      "    print.default\n",
      "\n",
      "\n"
     ]
    },
    {
     "data": {
      "text/plain": [
       "\n",
       "Results of Outlier Test\n",
       "-------------------------\n",
       "\n",
       "Test Method:                     Rosner's Test for Outliers\n",
       "\n",
       "Hypothesized Distribution:       Normal\n",
       "\n",
       "Data:                            dat$hwy\n",
       "\n",
       "Sample Size:                     234\n",
       "\n",
       "Test Statistics:                 R.1 = 3.452739\n",
       "                                 R.2 = 3.552586\n",
       "                                 R.3 = 3.131909\n",
       "\n",
       "Test Statistic Parameter:        k = 3\n",
       "\n",
       "Alternative Hypothesis:          Up to 3 observations are not\n",
       "                                 from the same Distribution.\n",
       "\n",
       "Type I Error:                    5%\n",
       "\n",
       "Number of Outliers Detected:     0\n",
       "\n",
       "  i   Mean.i     SD.i Value Obs.Num    R.i+1 lambda.i+1 Outlier\n",
       "1 0 23.44017 5.954643    44     213 3.452739   3.652091   FALSE\n",
       "2 1 23.35193 5.812124    44     222 3.552586   3.650836   FALSE\n",
       "3 2 23.26293 5.663340    41     223 3.131909   3.649575   FALSE\n",
       "\n"
      ]
     },
     "metadata": {},
     "output_type": "display_data"
    }
   ],
   "source": [
    "if (!require(EnvStats)) install.packages(\"EnvStats\")\n",
    "test <- rosnerTest(dat$hwy, k = 3)\n",
    "test"
   ]
  },
  {
   "cell_type": "code",
   "execution_count": 37,
   "metadata": {},
   "outputs": [
    {
     "data": {
      "text/html": [
       "<table>\n",
       "<caption>A data.frame: 3 × 8</caption>\n",
       "<thead>\n",
       "\t<tr><th scope=col>i</th><th scope=col>Mean.i</th><th scope=col>SD.i</th><th scope=col>Value</th><th scope=col>Obs.Num</th><th scope=col>R.i+1</th><th scope=col>lambda.i+1</th><th scope=col>Outlier</th></tr>\n",
       "\t<tr><th scope=col>&lt;dbl&gt;</th><th scope=col>&lt;dbl&gt;</th><th scope=col>&lt;dbl&gt;</th><th scope=col>&lt;dbl&gt;</th><th scope=col>&lt;dbl&gt;</th><th scope=col>&lt;dbl&gt;</th><th scope=col>&lt;dbl&gt;</th><th scope=col>&lt;lgl&gt;</th></tr>\n",
       "</thead>\n",
       "<tbody>\n",
       "\t<tr><td>0</td><td>23.44017</td><td>5.954643</td><td>44</td><td>213</td><td>3.452739</td><td>3.652091</td><td>FALSE</td></tr>\n",
       "\t<tr><td>1</td><td>23.35193</td><td>5.812124</td><td>44</td><td>222</td><td>3.552586</td><td>3.650836</td><td>FALSE</td></tr>\n",
       "\t<tr><td>2</td><td>23.26293</td><td>5.663340</td><td>41</td><td>223</td><td>3.131909</td><td>3.649575</td><td>FALSE</td></tr>\n",
       "</tbody>\n",
       "</table>\n"
      ],
      "text/latex": [
       "A data.frame: 3 × 8\n",
       "\\begin{tabular}{llllllll}\n",
       " i & Mean.i & SD.i & Value & Obs.Num & R.i+1 & lambda.i+1 & Outlier\\\\\n",
       " <dbl> & <dbl> & <dbl> & <dbl> & <dbl> & <dbl> & <dbl> & <lgl>\\\\\n",
       "\\hline\n",
       "\t 0 & 23.44017 & 5.954643 & 44 & 213 & 3.452739 & 3.652091 & FALSE\\\\\n",
       "\t 1 & 23.35193 & 5.812124 & 44 & 222 & 3.552586 & 3.650836 & FALSE\\\\\n",
       "\t 2 & 23.26293 & 5.663340 & 41 & 223 & 3.131909 & 3.649575 & FALSE\\\\\n",
       "\\end{tabular}\n"
      ],
      "text/markdown": [
       "\n",
       "A data.frame: 3 × 8\n",
       "\n",
       "| i &lt;dbl&gt; | Mean.i &lt;dbl&gt; | SD.i &lt;dbl&gt; | Value &lt;dbl&gt; | Obs.Num &lt;dbl&gt; | R.i+1 &lt;dbl&gt; | lambda.i+1 &lt;dbl&gt; | Outlier &lt;lgl&gt; |\n",
       "|---|---|---|---|---|---|---|---|\n",
       "| 0 | 23.44017 | 5.954643 | 44 | 213 | 3.452739 | 3.652091 | FALSE |\n",
       "| 1 | 23.35193 | 5.812124 | 44 | 222 | 3.552586 | 3.650836 | FALSE |\n",
       "| 2 | 23.26293 | 5.663340 | 41 | 223 | 3.131909 | 3.649575 | FALSE |\n",
       "\n"
      ],
      "text/plain": [
       "  i Mean.i   SD.i     Value Obs.Num R.i+1    lambda.i+1 Outlier\n",
       "1 0 23.44017 5.954643 44    213     3.452739 3.652091   FALSE  \n",
       "2 1 23.35193 5.812124 44    222     3.552586 3.650836   FALSE  \n",
       "3 2 23.26293 5.663340 41    223     3.131909 3.649575   FALSE  "
      ]
     },
     "metadata": {},
     "output_type": "display_data"
    }
   ],
   "source": [
    "test$all.stats"
   ]
  },
  {
   "cell_type": "markdown",
   "metadata": {},
   "source": [
    "See <a href=\"https://www.statsandr.com/blog/outliers-detection-in-r/#additional-remarks\">Additional remarks</a> for other methods to detect outliers."
   ]
  },
  {
   "cell_type": "markdown",
   "metadata": {},
   "source": [
    "<h2><a id=\"2\">2. Probability</a></h2>\n",
    "\n",
    "HTML Math symbols (for notation)\n",
    "\n",
    "https://www.toptal.com/designers/htmlarrows/math/\n",
    "\n",
    "<h3><a id=\"2_1\">2.1 Concepts of independence and conditional probability</a></h3>\n",
    "\n",
    "https://bookdown.org/speegled/foundations-of-statistics/prob.html"
   ]
  },
  {
   "cell_type": "markdown",
   "metadata": {},
   "source": [
    "Two events are <a href=\"https://en.wikipedia.org/wiki/Independence_(probability_theory)\">statistically independent</a> if the occurrence of one does not affect the probability of occurrence of the other."
   ]
  },
  {
   "cell_type": "markdown",
   "metadata": {},
   "source": [
    "Two events, A and B, are independent if <i>P(A | B) = P(A)</i> and <i>P(B | A) = P(B)</i>."
   ]
  },
  {
   "cell_type": "markdown",
   "metadata": {},
   "source": [
    "<u>Definitions</u>\n",
    "\n",
    "An <i>experiment</i> is a process that produces an <i>observation</i>.\n",
    "\n",
    "An <i>outcome</i> is a possible observation.\n",
    "\n",
    "The set of all possible outcomes is called the <i>sample space</i> (denoted S).\n",
    "\n",
    "An <i>event</i> is a subset of the sample space.\n",
    "\n",
    "Let A and B be events in a sample space S.\n",
    "\n",
    "<ol>\n",
    "    <li>&#8745; is the intersection operator. A &#8745; B is the set of outcomes that are in <i>both</i> A and B.</li>\n",
    "    <li>&#8746; is the union operator. A &#8746; B is the set of outcomes that are in <i>either</i> A or B.</li>\n",
    "    <li>&#256; is the set of outcomes that are <i>not</i> in A (but are in S).\n",
    "    <li>A \\ B is the set of outcomes that are in A and not in B.\n",
    "</ol>"
   ]
  },
  {
   "cell_type": "markdown",
   "metadata": {},
   "source": [
    "<u>R set operations</u>\n",
    "\n",
    "https://stat.ethz.ch/R-manual/R-devel/library/base/html/sets.html"
   ]
  },
  {
   "cell_type": "code",
   "execution_count": 38,
   "metadata": {},
   "outputs": [
    {
     "data": {
      "text/html": [
       "<style>\n",
       ".list-inline {list-style: none; margin:0; padding: 0}\n",
       ".list-inline>li {display: inline-block}\n",
       ".list-inline>li:not(:last-child)::after {content: \"\\00b7\"; padding: 0 .5ex}\n",
       "</style>\n",
       "<ol class=list-inline><li>1</li><li>2</li><li>3</li><li>4</li><li>5</li><li>6</li><li>7</li><li>8</li></ol>\n"
      ],
      "text/latex": [
       "\\begin{enumerate*}\n",
       "\\item 1\n",
       "\\item 2\n",
       "\\item 3\n",
       "\\item 4\n",
       "\\item 5\n",
       "\\item 6\n",
       "\\item 7\n",
       "\\item 8\n",
       "\\end{enumerate*}\n"
      ],
      "text/markdown": [
       "1. 1\n",
       "2. 2\n",
       "3. 3\n",
       "4. 4\n",
       "5. 5\n",
       "6. 6\n",
       "7. 7\n",
       "8. 8\n",
       "\n",
       "\n"
      ],
      "text/plain": [
       "[1] 1 2 3 4 5 6 7 8"
      ]
     },
     "metadata": {},
     "output_type": "display_data"
    }
   ],
   "source": [
    "x <- c(1, 2, 3, 4, 5)\n",
    "y <- c(4, 5, 6, 7, 8)\n",
    "union(x, y)"
   ]
  },
  {
   "cell_type": "code",
   "execution_count": 39,
   "metadata": {},
   "outputs": [
    {
     "data": {
      "text/html": [
       "<style>\n",
       ".list-inline {list-style: none; margin:0; padding: 0}\n",
       ".list-inline>li {display: inline-block}\n",
       ".list-inline>li:not(:last-child)::after {content: \"\\00b7\"; padding: 0 .5ex}\n",
       "</style>\n",
       "<ol class=list-inline><li>4</li><li>5</li></ol>\n"
      ],
      "text/latex": [
       "\\begin{enumerate*}\n",
       "\\item 4\n",
       "\\item 5\n",
       "\\end{enumerate*}\n"
      ],
      "text/markdown": [
       "1. 4\n",
       "2. 5\n",
       "\n",
       "\n"
      ],
      "text/plain": [
       "[1] 4 5"
      ]
     },
     "metadata": {},
     "output_type": "display_data"
    }
   ],
   "source": [
    "intersect(x, y)"
   ]
  },
  {
   "cell_type": "code",
   "execution_count": 40,
   "metadata": {},
   "outputs": [
    {
     "data": {
      "text/html": [
       "<style>\n",
       ".list-inline {list-style: none; margin:0; padding: 0}\n",
       ".list-inline>li {display: inline-block}\n",
       ".list-inline>li:not(:last-child)::after {content: \"\\00b7\"; padding: 0 .5ex}\n",
       "</style>\n",
       "<ol class=list-inline><li>1</li><li>2</li><li>3</li></ol>\n"
      ],
      "text/latex": [
       "\\begin{enumerate*}\n",
       "\\item 1\n",
       "\\item 2\n",
       "\\item 3\n",
       "\\end{enumerate*}\n"
      ],
      "text/markdown": [
       "1. 1\n",
       "2. 2\n",
       "3. 3\n",
       "\n",
       "\n"
      ],
      "text/plain": [
       "[1] 1 2 3"
      ]
     },
     "metadata": {},
     "output_type": "display_data"
    },
    {
     "data": {
      "text/html": [
       "<style>\n",
       ".list-inline {list-style: none; margin:0; padding: 0}\n",
       ".list-inline>li {display: inline-block}\n",
       ".list-inline>li:not(:last-child)::after {content: \"\\00b7\"; padding: 0 .5ex}\n",
       "</style>\n",
       "<ol class=list-inline><li>6</li><li>7</li><li>8</li></ol>\n"
      ],
      "text/latex": [
       "\\begin{enumerate*}\n",
       "\\item 6\n",
       "\\item 7\n",
       "\\item 8\n",
       "\\end{enumerate*}\n"
      ],
      "text/markdown": [
       "1. 6\n",
       "2. 7\n",
       "3. 8\n",
       "\n",
       "\n"
      ],
      "text/plain": [
       "[1] 6 7 8"
      ]
     },
     "metadata": {},
     "output_type": "display_data"
    }
   ],
   "source": [
    "# in X and not in Y\n",
    "setdiff(x, y)\n",
    "\n",
    "# in Y and not in X\n",
    "setdiff(y, x)"
   ]
  },
  {
   "cell_type": "code",
   "execution_count": 41,
   "metadata": {},
   "outputs": [
    {
     "data": {
      "text/html": [
       "FALSE"
      ],
      "text/latex": [
       "FALSE"
      ],
      "text/markdown": [
       "FALSE"
      ],
      "text/plain": [
       "[1] FALSE"
      ]
     },
     "metadata": {},
     "output_type": "display_data"
    }
   ],
   "source": [
    "setequal(x, y)"
   ]
  },
  {
   "cell_type": "code",
   "execution_count": 42,
   "metadata": {},
   "outputs": [
    {
     "data": {
      "text/html": [
       "TRUE"
      ],
      "text/latex": [
       "TRUE"
      ],
      "text/markdown": [
       "TRUE"
      ],
      "text/plain": [
       "[1] TRUE"
      ]
     },
     "metadata": {},
     "output_type": "display_data"
    }
   ],
   "source": [
    "setequal(x, x)"
   ]
  },
  {
   "cell_type": "code",
   "execution_count": 43,
   "metadata": {},
   "outputs": [
    {
     "data": {
      "text/html": [
       "TRUE"
      ],
      "text/latex": [
       "TRUE"
      ],
      "text/markdown": [
       "TRUE"
      ],
      "text/plain": [
       "[1] TRUE"
      ]
     },
     "metadata": {},
     "output_type": "display_data"
    }
   ],
   "source": [
    "setequal(x, c(1, 2, 3, 4, 5))"
   ]
  },
  {
   "cell_type": "markdown",
   "metadata": {},
   "source": [
    "Two sets are <i>disjoint</i> if they do not share any elements in common.\n",
    "\n",
    "Probabilities obey the following rules:\n",
    "\n",
    "<ol>\n",
    "    <li>P(A &#8746; B) = P(A) + P(B) - P(A &#8745; B)</li>\n",
    "    <li>P(A) = 1 - P(&#256;), where &#256; = S \\ A</li>\n",
    "    <li>If A and B are disjoint, then P(A &#8746; B) = P(A) + P(B)</li>\n",
    "    <li>P(S) = 1</li>\n",
    "</ol>"
   ]
  },
  {
   "cell_type": "markdown",
   "metadata": {},
   "source": [
    "<u>Dice example</u>\n",
    "\n",
    "Assume a 10-sided dice\n",
    "\n",
    "S = {1, 2, ..., 10}\n",
    "\n",
    "A = {1, 2, 3, 4}\n",
    "\n",
    "B = {4, 5, 6, 7, 8}\n",
    "\n",
    "P(A) = 0.4\n",
    "\n",
    "P(B) = 0.5\n",
    "\n",
    "P(A &#8745; B) = 0.1\n",
    "\n",
    "Rule #1\n",
    "\n",
    "P(A &#8746; B) = 0.4 + 0.5 - 0.1 = 0.8\n"
   ]
  },
  {
   "cell_type": "markdown",
   "metadata": {},
   "source": [
    "<u>Conditional probability</u>\n",
    "\n",
    "The <i>conditional probability</i> of A given B is\n",
    "\n",
    "![](files/cond_prob.png)\n",
    "\n",
    "<a href=\"https://www.statisticshowto.com/probability-and-statistics/statistics-definitions/conditional-probability-definition-examples/\">Conditional probability examples</a>\n"
   ]
  },
  {
   "cell_type": "markdown",
   "metadata": {},
   "source": [
    "<h3><a id=\"2_2\">2.2 The binomial distribution</a></h3>"
   ]
  },
  {
   "cell_type": "markdown",
   "metadata": {},
   "source": [
    "The <a href=\"http://www.r-tutor.com/elementary-statistics/probability-distributions/binomial-distribution\">binomial distribution</a> is a discrete probability distribution describing the outcome of <i>n</i> independent trials in an experiment. Each trial is assumed to have only two outcomes, either success or failure. If the probability of a successful trial is <i>p</i>, then the probability of having <i>x</i> successful outcomes in an experiment of <i>n</i> independent trials is as follows:\n",
    "\n",
    "![](files/binom.png)"
   ]
  },
  {
   "cell_type": "code",
   "execution_count": 44,
   "metadata": {},
   "outputs": [
    {
     "data": {
      "text/html": [
       "0.0014880348"
      ],
      "text/latex": [
       "0.0014880348"
      ],
      "text/markdown": [
       "0.0014880348"
      ],
      "text/plain": [
       "[1] 0.001488035"
      ]
     },
     "metadata": {},
     "output_type": "display_data"
    }
   ],
   "source": [
    "p = 0.1\n",
    "x = 5\n",
    "n = 10\n",
    "dbinom(x, size=n, prob=p)"
   ]
  },
  {
   "cell_type": "markdown",
   "metadata": {},
   "source": [
    "The <i>cumulative probability function</i> computes the probability of having <i>x</i> or fewer successful outcomes."
   ]
  },
  {
   "cell_type": "code",
   "execution_count": 45,
   "metadata": {},
   "outputs": [
    {
     "data": {
      "text/html": [
       "0.3486784401"
      ],
      "text/latex": [
       "0.3486784401"
      ],
      "text/markdown": [
       "0.3486784401"
      ],
      "text/plain": [
       "[1] 0.3486784"
      ]
     },
     "metadata": {},
     "output_type": "display_data"
    }
   ],
   "source": [
    "pbinom(p, size=n, prob=p)"
   ]
  },
  {
   "cell_type": "markdown",
   "metadata": {},
   "source": [
    "<h3><a id=\"2_3\">2.3 The normal distribution</a></h3>\n",
    "\n",
    "![](files/norm.svg)\n",
    "\n",
    "https://www.geeksforgeeks.org/normal-distribution-in-r/\n",
    "\n",
    "https://www.r-bloggers.com/2013/02/normal-distribution-functions/"
   ]
  },
  {
   "cell_type": "markdown",
   "metadata": {},
   "source": [
    "<code>dnorm</code> is the <i>Probability Density Function (PDF)</i>, giving the density (height of the PDF) of the normal at a given mean and SD."
   ]
  },
  {
   "cell_type": "code",
   "execution_count": 46,
   "metadata": {},
   "outputs": [
    {
     "data": {
      "image/png": "[encoded data removed]",
      "text/plain": [
       "plot without title"
      ]
     },
     "metadata": {
      "image/png": {
       "height": 420,
       "width": 420
      }
     },
     "output_type": "display_data"
    }
   ],
   "source": [
    "x = seq(-15, 15, by=0.1)\n",
    "\n",
    "y = dnorm(x, mean(x), sd(x))\n",
    "plot(x, y)"
   ]
  },
  {
   "cell_type": "markdown",
   "metadata": {},
   "source": [
    "The <code>pnorm</code> function is the <i>Cumulative Distribution Function (CDF)</i>, which measures the probability that a random number takes a value less than or equal to x, or the area under the standard normal curve to the left of the x value. "
   ]
  },
  {
   "cell_type": "code",
   "execution_count": 47,
   "metadata": {},
   "outputs": [
    {
     "data": {
      "image/png": "[encoded data removed]",
      "text/plain": [
       "plot without title"
      ]
     },
     "metadata": {
      "image/png": {
       "height": 420,
       "width": 420
      }
     },
     "output_type": "display_data"
    }
   ],
   "source": [
    "x <- seq(-10, 10, by=0.1)   \n",
    "y <- pnorm(x, mean = 2.5, sd = 2) \n",
    "plot(x, y) "
   ]
  },
  {
   "cell_type": "markdown",
   "metadata": {},
   "source": [
    "The <code>rnorm</code> function generates numbers from the normal distribution."
   ]
  },
  {
   "cell_type": "code",
   "execution_count": 48,
   "metadata": {},
   "outputs": [
    {
     "data": {
      "image/png": "[encoded data removed]",
      "text/plain": [
       "Plot with title “Histogram of x”"
      ]
     },
     "metadata": {
      "image/png": {
       "height": 420,
       "width": 420
      }
     },
     "output_type": "display_data"
    }
   ],
   "source": [
    "x <- rnorm(10000, mean=90, sd=5)\n",
    "hist(x, breaks=100)"
   ]
  },
  {
   "cell_type": "markdown",
   "metadata": {},
   "source": [
    "The <code>qnorm</code> is the <i>Quantile Function</i>, which is the inverse of <code>pnorm()</code>."
   ]
  },
  {
   "cell_type": "code",
   "execution_count": 49,
   "metadata": {},
   "outputs": [
    {
     "data": {
      "image/png": "[encoded data removed]",
      "text/plain": [
       "plot without title"
      ]
     },
     "metadata": {
      "image/png": {
       "height": 420,
       "width": 420
      }
     },
     "output_type": "display_data"
    }
   ],
   "source": [
    "x <- seq(0, 1, by = 0.02) \n",
    "y <- qnorm(x, mean(x), sd(x)) \n",
    "plot(x, y) "
   ]
  },
  {
   "cell_type": "markdown",
   "metadata": {},
   "source": [
    "Normality test in R\n",
    "\n",
    "http://www.sthda.com/english/wiki/normality-test-in-r"
   ]
  },
  {
   "cell_type": "markdown",
   "metadata": {},
   "source": [
    "<h2><a id=\"3\">3 Inference</a></h2>\n",
    "<h3><a id=\"3_1\">3.1 Study Details</a></h3>\n",
    "<h4><a id=\"3_1_1\">3.1.1 Simple random sampling, convenience sampling</a></h4>"
   ]
  },
  {
   "cell_type": "markdown",
   "metadata": {},
   "source": [
    "<i>Random sampling</i>, or <a href=\"https://www.statisticshowto.com/probability-sampling/\">probability sampling</a>, uses random sampling techniques to create a sample.\n",
    "\n",
    "<i>Convenience sampling</i>, a type of <i>non-probability sampling</i>, which uses non-random processes to create a sample (convenience, researcher judgment, etc.).\n",
    "\n",
    "When a sampling unit is drawn from a finite population and is returned to that population, after its characterstics have been recorded, before the next unit is drawn, the sampling is said to be \"with replacement.\" In the contrary case the sampling is \"without replacement.\"\n",
    "\n",
    "<code>sample</code> takes a sample of the specified size from the elements of <code>x</code> either with or without replacement."
   ]
  },
  {
   "cell_type": "code",
   "execution_count": 50,
   "metadata": {},
   "outputs": [
    {
     "data": {
      "text/html": [
       "<style>\n",
       ".list-inline {list-style: none; margin:0; padding: 0}\n",
       ".list-inline>li {display: inline-block}\n",
       ".list-inline>li:not(:last-child)::after {content: \"\\00b7\"; padding: 0 .5ex}\n",
       "</style>\n",
       "<ol class=list-inline><li>6</li><li>6</li><li>9</li><li>6</li><li>6</li></ol>\n"
      ],
      "text/latex": [
       "\\begin{enumerate*}\n",
       "\\item 6\n",
       "\\item 6\n",
       "\\item 9\n",
       "\\item 6\n",
       "\\item 6\n",
       "\\end{enumerate*}\n"
      ],
      "text/markdown": [
       "1. 6\n",
       "2. 6\n",
       "3. 9\n",
       "4. 6\n",
       "5. 6\n",
       "\n",
       "\n"
      ],
      "text/plain": [
       "[1] 6 6 9 6 6"
      ]
     },
     "metadata": {},
     "output_type": "display_data"
    }
   ],
   "source": [
    "x = c(1, 1, 2, 3, 3, 3, 3, 4, 4, 5, 6, 7, 8, 9, 10, 10, 10)\n",
    "s = sample(x, 5, replace = TRUE)\n",
    "s"
   ]
  },
  {
   "cell_type": "code",
   "execution_count": 51,
   "metadata": {},
   "outputs": [
    {
     "name": "stdout",
     "output_type": "stream",
     "text": [
      "[1] 8 4 7 9 9\n",
      "[1]  2  1 10 10  9\n",
      "[1] 10  3 10  4 10\n",
      "[1]  3  1 10 10  9\n",
      "[1]  4 10  3  3  4\n",
      "[1]  1 10  4  6  9\n",
      "[1]  6 10 10  2  1\n",
      "[1]  6  8  5  6 10\n",
      "[1]  8  3 10  1  4\n",
      "[1] 3 3 6 3 4\n",
      "[1]  4 10  8  6  2\n"
     ]
    }
   ],
   "source": [
    "for (i in seq(0, 10)) {\n",
    "    s = sample(x, 5, replace = TRUE)\n",
    "    print(s)\n",
    "}"
   ]
  },
  {
   "cell_type": "code",
   "execution_count": 52,
   "metadata": {},
   "outputs": [
    {
     "name": "stdout",
     "output_type": "stream",
     "text": [
      "[1] 10 10 10  5  8\n",
      "[1] 4 6 4 9 8\n",
      "[1]  6  2 10  9  3\n",
      "[1] 5 1 6 3 4\n",
      "[1] 3 4 1 5 6\n",
      "[1]  5 10  3  4  4\n",
      "[1] 3 7 2 9 8\n",
      "[1] 7 1 6 3 2\n",
      "[1] 4 5 3 3 8\n",
      "[1]  4 10 10  2  3\n",
      "[1]  6  1  3  1 10\n"
     ]
    }
   ],
   "source": [
    "for (i in seq(0, 10)) {\n",
    "    s = sample(x, 5, replace = FALSE)\n",
    "    print(s)\n",
    "}"
   ]
  },
  {
   "cell_type": "markdown",
   "metadata": {},
   "source": [
    "<h4><a id=\"3_1_2\">3.1.2 Random assignment, completely randomized design, matched pairs design</a></h4>"
   ]
  },
  {
   "cell_type": "markdown",
   "metadata": {},
   "source": [
    "<i>Random assignment</i> is where study participants are randomly assigned to an experimental group. In a single blind study, the participant does not know whether they are in the experimental group or the control group. In a double blind study, neither the participant nor the researcher knows.\n",
    "\n",
    "A <i>completely randomized design</i> is one where treatments are assigned completely at random so that each experimental unit has the same change of receiving any one treatment."
   ]
  },
  {
   "cell_type": "markdown",
   "metadata": {},
   "source": [
    "A <i>matched pairs design</i> groups subjects into pairs based on some variable they \"match\" on, such as age or gender. The, within each pair, the subjects are randomly assigned to different treatments."
   ]
  },
  {
   "cell_type": "markdown",
   "metadata": {},
   "source": [
    "<code>randomizr</code> can be used to aid in random assignment and design.\n",
    "\n",
    "https://cran.r-project.org/web/packages/randomizr/vignettes/randomizr_vignette.html"
   ]
  },
  {
   "cell_type": "code",
   "execution_count": 53,
   "metadata": {},
   "outputs": [
    {
     "data": {
      "text/html": [
       "<table>\n",
       "<caption>A data.frame: 32 × 4</caption>\n",
       "<thead>\n",
       "\t<tr><th scope=col>Hair</th><th scope=col>Eye</th><th scope=col>Sex</th><th scope=col>Freq</th></tr>\n",
       "\t<tr><th scope=col>&lt;fct&gt;</th><th scope=col>&lt;fct&gt;</th><th scope=col>&lt;fct&gt;</th><th scope=col>&lt;dbl&gt;</th></tr>\n",
       "</thead>\n",
       "<tbody>\n",
       "\t<tr><td>Black</td><td>Brown</td><td>Male  </td><td>32</td></tr>\n",
       "\t<tr><td>Brown</td><td>Brown</td><td>Male  </td><td>53</td></tr>\n",
       "\t<tr><td>Red  </td><td>Brown</td><td>Male  </td><td>10</td></tr>\n",
       "\t<tr><td>Blond</td><td>Brown</td><td>Male  </td><td> 3</td></tr>\n",
       "\t<tr><td>Black</td><td>Blue </td><td>Male  </td><td>11</td></tr>\n",
       "\t<tr><td>Brown</td><td>Blue </td><td>Male  </td><td>50</td></tr>\n",
       "\t<tr><td>Red  </td><td>Blue </td><td>Male  </td><td>10</td></tr>\n",
       "\t<tr><td>Blond</td><td>Blue </td><td>Male  </td><td>30</td></tr>\n",
       "\t<tr><td>Black</td><td>Hazel</td><td>Male  </td><td>10</td></tr>\n",
       "\t<tr><td>Brown</td><td>Hazel</td><td>Male  </td><td>25</td></tr>\n",
       "\t<tr><td>Red  </td><td>Hazel</td><td>Male  </td><td> 7</td></tr>\n",
       "\t<tr><td>Blond</td><td>Hazel</td><td>Male  </td><td> 5</td></tr>\n",
       "\t<tr><td>Black</td><td>Green</td><td>Male  </td><td> 3</td></tr>\n",
       "\t<tr><td>Brown</td><td>Green</td><td>Male  </td><td>15</td></tr>\n",
       "\t<tr><td>Red  </td><td>Green</td><td>Male  </td><td> 7</td></tr>\n",
       "\t<tr><td>Blond</td><td>Green</td><td>Male  </td><td> 8</td></tr>\n",
       "\t<tr><td>Black</td><td>Brown</td><td>Female</td><td>36</td></tr>\n",
       "\t<tr><td>Brown</td><td>Brown</td><td>Female</td><td>66</td></tr>\n",
       "\t<tr><td>Red  </td><td>Brown</td><td>Female</td><td>16</td></tr>\n",
       "\t<tr><td>Blond</td><td>Brown</td><td>Female</td><td> 4</td></tr>\n",
       "\t<tr><td>Black</td><td>Blue </td><td>Female</td><td> 9</td></tr>\n",
       "\t<tr><td>Brown</td><td>Blue </td><td>Female</td><td>34</td></tr>\n",
       "\t<tr><td>Red  </td><td>Blue </td><td>Female</td><td> 7</td></tr>\n",
       "\t<tr><td>Blond</td><td>Blue </td><td>Female</td><td>64</td></tr>\n",
       "\t<tr><td>Black</td><td>Hazel</td><td>Female</td><td> 5</td></tr>\n",
       "\t<tr><td>Brown</td><td>Hazel</td><td>Female</td><td>29</td></tr>\n",
       "\t<tr><td>Red  </td><td>Hazel</td><td>Female</td><td> 7</td></tr>\n",
       "\t<tr><td>Blond</td><td>Hazel</td><td>Female</td><td> 5</td></tr>\n",
       "\t<tr><td>Black</td><td>Green</td><td>Female</td><td> 2</td></tr>\n",
       "\t<tr><td>Brown</td><td>Green</td><td>Female</td><td>14</td></tr>\n",
       "\t<tr><td>Red  </td><td>Green</td><td>Female</td><td> 7</td></tr>\n",
       "\t<tr><td>Blond</td><td>Green</td><td>Female</td><td> 8</td></tr>\n",
       "</tbody>\n",
       "</table>\n"
      ],
      "text/latex": [
       "A data.frame: 32 × 4\n",
       "\\begin{tabular}{llll}\n",
       " Hair & Eye & Sex & Freq\\\\\n",
       " <fct> & <fct> & <fct> & <dbl>\\\\\n",
       "\\hline\n",
       "\t Black & Brown & Male   & 32\\\\\n",
       "\t Brown & Brown & Male   & 53\\\\\n",
       "\t Red   & Brown & Male   & 10\\\\\n",
       "\t Blond & Brown & Male   &  3\\\\\n",
       "\t Black & Blue  & Male   & 11\\\\\n",
       "\t Brown & Blue  & Male   & 50\\\\\n",
       "\t Red   & Blue  & Male   & 10\\\\\n",
       "\t Blond & Blue  & Male   & 30\\\\\n",
       "\t Black & Hazel & Male   & 10\\\\\n",
       "\t Brown & Hazel & Male   & 25\\\\\n",
       "\t Red   & Hazel & Male   &  7\\\\\n",
       "\t Blond & Hazel & Male   &  5\\\\\n",
       "\t Black & Green & Male   &  3\\\\\n",
       "\t Brown & Green & Male   & 15\\\\\n",
       "\t Red   & Green & Male   &  7\\\\\n",
       "\t Blond & Green & Male   &  8\\\\\n",
       "\t Black & Brown & Female & 36\\\\\n",
       "\t Brown & Brown & Female & 66\\\\\n",
       "\t Red   & Brown & Female & 16\\\\\n",
       "\t Blond & Brown & Female &  4\\\\\n",
       "\t Black & Blue  & Female &  9\\\\\n",
       "\t Brown & Blue  & Female & 34\\\\\n",
       "\t Red   & Blue  & Female &  7\\\\\n",
       "\t Blond & Blue  & Female & 64\\\\\n",
       "\t Black & Hazel & Female &  5\\\\\n",
       "\t Brown & Hazel & Female & 29\\\\\n",
       "\t Red   & Hazel & Female &  7\\\\\n",
       "\t Blond & Hazel & Female &  5\\\\\n",
       "\t Black & Green & Female &  2\\\\\n",
       "\t Brown & Green & Female & 14\\\\\n",
       "\t Red   & Green & Female &  7\\\\\n",
       "\t Blond & Green & Female &  8\\\\\n",
       "\\end{tabular}\n"
      ],
      "text/markdown": [
       "\n",
       "A data.frame: 32 × 4\n",
       "\n",
       "| Hair &lt;fct&gt; | Eye &lt;fct&gt; | Sex &lt;fct&gt; | Freq &lt;dbl&gt; |\n",
       "|---|---|---|---|\n",
       "| Black | Brown | Male   | 32 |\n",
       "| Brown | Brown | Male   | 53 |\n",
       "| Red   | Brown | Male   | 10 |\n",
       "| Blond | Brown | Male   |  3 |\n",
       "| Black | Blue  | Male   | 11 |\n",
       "| Brown | Blue  | Male   | 50 |\n",
       "| Red   | Blue  | Male   | 10 |\n",
       "| Blond | Blue  | Male   | 30 |\n",
       "| Black | Hazel | Male   | 10 |\n",
       "| Brown | Hazel | Male   | 25 |\n",
       "| Red   | Hazel | Male   |  7 |\n",
       "| Blond | Hazel | Male   |  5 |\n",
       "| Black | Green | Male   |  3 |\n",
       "| Brown | Green | Male   | 15 |\n",
       "| Red   | Green | Male   |  7 |\n",
       "| Blond | Green | Male   |  8 |\n",
       "| Black | Brown | Female | 36 |\n",
       "| Brown | Brown | Female | 66 |\n",
       "| Red   | Brown | Female | 16 |\n",
       "| Blond | Brown | Female |  4 |\n",
       "| Black | Blue  | Female |  9 |\n",
       "| Brown | Blue  | Female | 34 |\n",
       "| Red   | Blue  | Female |  7 |\n",
       "| Blond | Blue  | Female | 64 |\n",
       "| Black | Hazel | Female |  5 |\n",
       "| Brown | Hazel | Female | 29 |\n",
       "| Red   | Hazel | Female |  7 |\n",
       "| Blond | Hazel | Female |  5 |\n",
       "| Black | Green | Female |  2 |\n",
       "| Brown | Green | Female | 14 |\n",
       "| Red   | Green | Female |  7 |\n",
       "| Blond | Green | Female |  8 |\n",
       "\n"
      ],
      "text/plain": [
       "   Hair  Eye   Sex    Freq\n",
       "1  Black Brown Male   32  \n",
       "2  Brown Brown Male   53  \n",
       "3  Red   Brown Male   10  \n",
       "4  Blond Brown Male    3  \n",
       "5  Black Blue  Male   11  \n",
       "6  Brown Blue  Male   50  \n",
       "7  Red   Blue  Male   10  \n",
       "8  Blond Blue  Male   30  \n",
       "9  Black Hazel Male   10  \n",
       "10 Brown Hazel Male   25  \n",
       "11 Red   Hazel Male    7  \n",
       "12 Blond Hazel Male    5  \n",
       "13 Black Green Male    3  \n",
       "14 Brown Green Male   15  \n",
       "15 Red   Green Male    7  \n",
       "16 Blond Green Male    8  \n",
       "17 Black Brown Female 36  \n",
       "18 Brown Brown Female 66  \n",
       "19 Red   Brown Female 16  \n",
       "20 Blond Brown Female  4  \n",
       "21 Black Blue  Female  9  \n",
       "22 Brown Blue  Female 34  \n",
       "23 Red   Blue  Female  7  \n",
       "24 Blond Blue  Female 64  \n",
       "25 Black Hazel Female  5  \n",
       "26 Brown Hazel Female 29  \n",
       "27 Red   Hazel Female  7  \n",
       "28 Blond Hazel Female  5  \n",
       "29 Black Green Female  2  \n",
       "30 Brown Green Female 14  \n",
       "31 Red   Green Female  7  \n",
       "32 Blond Green Female  8  "
      ]
     },
     "metadata": {},
     "output_type": "display_data"
    }
   ],
   "source": [
    "# Load built-in dataset\n",
    "data(HairEyeColor)\n",
    "HairEyeColor <- data.frame(HairEyeColor)\n",
    "\n",
    "HairEyeColor"
   ]
  },
  {
   "cell_type": "code",
   "execution_count": 54,
   "metadata": {},
   "outputs": [
    {
     "data": {
      "text/html": [
       "<table>\n",
       "<caption>A data.frame: 592 × 3</caption>\n",
       "<thead>\n",
       "\t<tr><th scope=col>Hair</th><th scope=col>Eye</th><th scope=col>Sex</th></tr>\n",
       "\t<tr><th scope=col>&lt;fct&gt;</th><th scope=col>&lt;fct&gt;</th><th scope=col>&lt;fct&gt;</th></tr>\n",
       "</thead>\n",
       "<tbody>\n",
       "\t<tr><td>Black</td><td>Brown</td><td>Male</td></tr>\n",
       "\t<tr><td>Black</td><td>Brown</td><td>Male</td></tr>\n",
       "\t<tr><td>Black</td><td>Brown</td><td>Male</td></tr>\n",
       "\t<tr><td>Black</td><td>Brown</td><td>Male</td></tr>\n",
       "\t<tr><td>Black</td><td>Brown</td><td>Male</td></tr>\n",
       "\t<tr><td>Black</td><td>Brown</td><td>Male</td></tr>\n",
       "\t<tr><td>Black</td><td>Brown</td><td>Male</td></tr>\n",
       "\t<tr><td>Black</td><td>Brown</td><td>Male</td></tr>\n",
       "\t<tr><td>Black</td><td>Brown</td><td>Male</td></tr>\n",
       "\t<tr><td>Black</td><td>Brown</td><td>Male</td></tr>\n",
       "\t<tr><td>Black</td><td>Brown</td><td>Male</td></tr>\n",
       "\t<tr><td>Black</td><td>Brown</td><td>Male</td></tr>\n",
       "\t<tr><td>Black</td><td>Brown</td><td>Male</td></tr>\n",
       "\t<tr><td>Black</td><td>Brown</td><td>Male</td></tr>\n",
       "\t<tr><td>Black</td><td>Brown</td><td>Male</td></tr>\n",
       "\t<tr><td>Black</td><td>Brown</td><td>Male</td></tr>\n",
       "\t<tr><td>Black</td><td>Brown</td><td>Male</td></tr>\n",
       "\t<tr><td>Black</td><td>Brown</td><td>Male</td></tr>\n",
       "\t<tr><td>Black</td><td>Brown</td><td>Male</td></tr>\n",
       "\t<tr><td>Black</td><td>Brown</td><td>Male</td></tr>\n",
       "\t<tr><td>Black</td><td>Brown</td><td>Male</td></tr>\n",
       "\t<tr><td>Black</td><td>Brown</td><td>Male</td></tr>\n",
       "\t<tr><td>Black</td><td>Brown</td><td>Male</td></tr>\n",
       "\t<tr><td>Black</td><td>Brown</td><td>Male</td></tr>\n",
       "\t<tr><td>Black</td><td>Brown</td><td>Male</td></tr>\n",
       "\t<tr><td>Black</td><td>Brown</td><td>Male</td></tr>\n",
       "\t<tr><td>Black</td><td>Brown</td><td>Male</td></tr>\n",
       "\t<tr><td>Black</td><td>Brown</td><td>Male</td></tr>\n",
       "\t<tr><td>Black</td><td>Brown</td><td>Male</td></tr>\n",
       "\t<tr><td>Black</td><td>Brown</td><td>Male</td></tr>\n",
       "\t<tr><td>⋮</td><td>⋮</td><td>⋮</td></tr>\n",
       "\t<tr><td>Black</td><td>Green</td><td>Female</td></tr>\n",
       "\t<tr><td>Brown</td><td>Green</td><td>Female</td></tr>\n",
       "\t<tr><td>Brown</td><td>Green</td><td>Female</td></tr>\n",
       "\t<tr><td>Brown</td><td>Green</td><td>Female</td></tr>\n",
       "\t<tr><td>Brown</td><td>Green</td><td>Female</td></tr>\n",
       "\t<tr><td>Brown</td><td>Green</td><td>Female</td></tr>\n",
       "\t<tr><td>Brown</td><td>Green</td><td>Female</td></tr>\n",
       "\t<tr><td>Brown</td><td>Green</td><td>Female</td></tr>\n",
       "\t<tr><td>Brown</td><td>Green</td><td>Female</td></tr>\n",
       "\t<tr><td>Brown</td><td>Green</td><td>Female</td></tr>\n",
       "\t<tr><td>Brown</td><td>Green</td><td>Female</td></tr>\n",
       "\t<tr><td>Brown</td><td>Green</td><td>Female</td></tr>\n",
       "\t<tr><td>Brown</td><td>Green</td><td>Female</td></tr>\n",
       "\t<tr><td>Brown</td><td>Green</td><td>Female</td></tr>\n",
       "\t<tr><td>Brown</td><td>Green</td><td>Female</td></tr>\n",
       "\t<tr><td>Red  </td><td>Green</td><td>Female</td></tr>\n",
       "\t<tr><td>Red  </td><td>Green</td><td>Female</td></tr>\n",
       "\t<tr><td>Red  </td><td>Green</td><td>Female</td></tr>\n",
       "\t<tr><td>Red  </td><td>Green</td><td>Female</td></tr>\n",
       "\t<tr><td>Red  </td><td>Green</td><td>Female</td></tr>\n",
       "\t<tr><td>Red  </td><td>Green</td><td>Female</td></tr>\n",
       "\t<tr><td>Red  </td><td>Green</td><td>Female</td></tr>\n",
       "\t<tr><td>Blond</td><td>Green</td><td>Female</td></tr>\n",
       "\t<tr><td>Blond</td><td>Green</td><td>Female</td></tr>\n",
       "\t<tr><td>Blond</td><td>Green</td><td>Female</td></tr>\n",
       "\t<tr><td>Blond</td><td>Green</td><td>Female</td></tr>\n",
       "\t<tr><td>Blond</td><td>Green</td><td>Female</td></tr>\n",
       "\t<tr><td>Blond</td><td>Green</td><td>Female</td></tr>\n",
       "\t<tr><td>Blond</td><td>Green</td><td>Female</td></tr>\n",
       "\t<tr><td>Blond</td><td>Green</td><td>Female</td></tr>\n",
       "</tbody>\n",
       "</table>\n"
      ],
      "text/latex": [
       "A data.frame: 592 × 3\n",
       "\\begin{tabular}{lll}\n",
       " Hair & Eye & Sex\\\\\n",
       " <fct> & <fct> & <fct>\\\\\n",
       "\\hline\n",
       "\t Black & Brown & Male\\\\\n",
       "\t Black & Brown & Male\\\\\n",
       "\t Black & Brown & Male\\\\\n",
       "\t Black & Brown & Male\\\\\n",
       "\t Black & Brown & Male\\\\\n",
       "\t Black & Brown & Male\\\\\n",
       "\t Black & Brown & Male\\\\\n",
       "\t Black & Brown & Male\\\\\n",
       "\t Black & Brown & Male\\\\\n",
       "\t Black & Brown & Male\\\\\n",
       "\t Black & Brown & Male\\\\\n",
       "\t Black & Brown & Male\\\\\n",
       "\t Black & Brown & Male\\\\\n",
       "\t Black & Brown & Male\\\\\n",
       "\t Black & Brown & Male\\\\\n",
       "\t Black & Brown & Male\\\\\n",
       "\t Black & Brown & Male\\\\\n",
       "\t Black & Brown & Male\\\\\n",
       "\t Black & Brown & Male\\\\\n",
       "\t Black & Brown & Male\\\\\n",
       "\t Black & Brown & Male\\\\\n",
       "\t Black & Brown & Male\\\\\n",
       "\t Black & Brown & Male\\\\\n",
       "\t Black & Brown & Male\\\\\n",
       "\t Black & Brown & Male\\\\\n",
       "\t Black & Brown & Male\\\\\n",
       "\t Black & Brown & Male\\\\\n",
       "\t Black & Brown & Male\\\\\n",
       "\t Black & Brown & Male\\\\\n",
       "\t Black & Brown & Male\\\\\n",
       "\t ⋮ & ⋮ & ⋮\\\\\n",
       "\t Black & Green & Female\\\\\n",
       "\t Brown & Green & Female\\\\\n",
       "\t Brown & Green & Female\\\\\n",
       "\t Brown & Green & Female\\\\\n",
       "\t Brown & Green & Female\\\\\n",
       "\t Brown & Green & Female\\\\\n",
       "\t Brown & Green & Female\\\\\n",
       "\t Brown & Green & Female\\\\\n",
       "\t Brown & Green & Female\\\\\n",
       "\t Brown & Green & Female\\\\\n",
       "\t Brown & Green & Female\\\\\n",
       "\t Brown & Green & Female\\\\\n",
       "\t Brown & Green & Female\\\\\n",
       "\t Brown & Green & Female\\\\\n",
       "\t Brown & Green & Female\\\\\n",
       "\t Red   & Green & Female\\\\\n",
       "\t Red   & Green & Female\\\\\n",
       "\t Red   & Green & Female\\\\\n",
       "\t Red   & Green & Female\\\\\n",
       "\t Red   & Green & Female\\\\\n",
       "\t Red   & Green & Female\\\\\n",
       "\t Red   & Green & Female\\\\\n",
       "\t Blond & Green & Female\\\\\n",
       "\t Blond & Green & Female\\\\\n",
       "\t Blond & Green & Female\\\\\n",
       "\t Blond & Green & Female\\\\\n",
       "\t Blond & Green & Female\\\\\n",
       "\t Blond & Green & Female\\\\\n",
       "\t Blond & Green & Female\\\\\n",
       "\t Blond & Green & Female\\\\\n",
       "\\end{tabular}\n"
      ],
      "text/markdown": [
       "\n",
       "A data.frame: 592 × 3\n",
       "\n",
       "| Hair &lt;fct&gt; | Eye &lt;fct&gt; | Sex &lt;fct&gt; |\n",
       "|---|---|---|\n",
       "| Black | Brown | Male |\n",
       "| Black | Brown | Male |\n",
       "| Black | Brown | Male |\n",
       "| Black | Brown | Male |\n",
       "| Black | Brown | Male |\n",
       "| Black | Brown | Male |\n",
       "| Black | Brown | Male |\n",
       "| Black | Brown | Male |\n",
       "| Black | Brown | Male |\n",
       "| Black | Brown | Male |\n",
       "| Black | Brown | Male |\n",
       "| Black | Brown | Male |\n",
       "| Black | Brown | Male |\n",
       "| Black | Brown | Male |\n",
       "| Black | Brown | Male |\n",
       "| Black | Brown | Male |\n",
       "| Black | Brown | Male |\n",
       "| Black | Brown | Male |\n",
       "| Black | Brown | Male |\n",
       "| Black | Brown | Male |\n",
       "| Black | Brown | Male |\n",
       "| Black | Brown | Male |\n",
       "| Black | Brown | Male |\n",
       "| Black | Brown | Male |\n",
       "| Black | Brown | Male |\n",
       "| Black | Brown | Male |\n",
       "| Black | Brown | Male |\n",
       "| Black | Brown | Male |\n",
       "| Black | Brown | Male |\n",
       "| Black | Brown | Male |\n",
       "| ⋮ | ⋮ | ⋮ |\n",
       "| Black | Green | Female |\n",
       "| Brown | Green | Female |\n",
       "| Brown | Green | Female |\n",
       "| Brown | Green | Female |\n",
       "| Brown | Green | Female |\n",
       "| Brown | Green | Female |\n",
       "| Brown | Green | Female |\n",
       "| Brown | Green | Female |\n",
       "| Brown | Green | Female |\n",
       "| Brown | Green | Female |\n",
       "| Brown | Green | Female |\n",
       "| Brown | Green | Female |\n",
       "| Brown | Green | Female |\n",
       "| Brown | Green | Female |\n",
       "| Brown | Green | Female |\n",
       "| Red   | Green | Female |\n",
       "| Red   | Green | Female |\n",
       "| Red   | Green | Female |\n",
       "| Red   | Green | Female |\n",
       "| Red   | Green | Female |\n",
       "| Red   | Green | Female |\n",
       "| Red   | Green | Female |\n",
       "| Blond | Green | Female |\n",
       "| Blond | Green | Female |\n",
       "| Blond | Green | Female |\n",
       "| Blond | Green | Female |\n",
       "| Blond | Green | Female |\n",
       "| Blond | Green | Female |\n",
       "| Blond | Green | Female |\n",
       "| Blond | Green | Female |\n",
       "\n"
      ],
      "text/plain": [
       "    Hair  Eye   Sex   \n",
       "1   Black Brown Male  \n",
       "2   Black Brown Male  \n",
       "3   Black Brown Male  \n",
       "4   Black Brown Male  \n",
       "5   Black Brown Male  \n",
       "6   Black Brown Male  \n",
       "7   Black Brown Male  \n",
       "8   Black Brown Male  \n",
       "9   Black Brown Male  \n",
       "10  Black Brown Male  \n",
       "11  Black Brown Male  \n",
       "12  Black Brown Male  \n",
       "13  Black Brown Male  \n",
       "14  Black Brown Male  \n",
       "15  Black Brown Male  \n",
       "16  Black Brown Male  \n",
       "17  Black Brown Male  \n",
       "18  Black Brown Male  \n",
       "19  Black Brown Male  \n",
       "20  Black Brown Male  \n",
       "21  Black Brown Male  \n",
       "22  Black Brown Male  \n",
       "23  Black Brown Male  \n",
       "24  Black Brown Male  \n",
       "25  Black Brown Male  \n",
       "26  Black Brown Male  \n",
       "27  Black Brown Male  \n",
       "28  Black Brown Male  \n",
       "29  Black Brown Male  \n",
       "30  Black Brown Male  \n",
       "⋮   ⋮     ⋮     ⋮     \n",
       "563 Black Green Female\n",
       "564 Brown Green Female\n",
       "565 Brown Green Female\n",
       "566 Brown Green Female\n",
       "567 Brown Green Female\n",
       "568 Brown Green Female\n",
       "569 Brown Green Female\n",
       "570 Brown Green Female\n",
       "571 Brown Green Female\n",
       "572 Brown Green Female\n",
       "573 Brown Green Female\n",
       "574 Brown Green Female\n",
       "575 Brown Green Female\n",
       "576 Brown Green Female\n",
       "577 Brown Green Female\n",
       "578 Red   Green Female\n",
       "579 Red   Green Female\n",
       "580 Red   Green Female\n",
       "581 Red   Green Female\n",
       "582 Red   Green Female\n",
       "583 Red   Green Female\n",
       "584 Red   Green Female\n",
       "585 Blond Green Female\n",
       "586 Blond Green Female\n",
       "587 Blond Green Female\n",
       "588 Blond Green Female\n",
       "589 Blond Green Female\n",
       "590 Blond Green Female\n",
       "591 Blond Green Female\n",
       "592 Blond Green Female"
      ]
     },
     "metadata": {},
     "output_type": "display_data"
    }
   ],
   "source": [
    "hec <- HairEyeColor[rep(1:nrow(HairEyeColor), # rep replicates the values in a vector\n",
    "                        times = HairEyeColor$Freq), 1:3]\n",
    "N <- nrow(hec)\n",
    "rownames(hec) <- NULL\n",
    "hec"
   ]
  },
  {
   "cell_type": "code",
   "execution_count": 55,
   "metadata": {},
   "outputs": [
    {
     "data": {
      "text/html": [
       "25.2635135135135"
      ],
      "text/latex": [
       "25.2635135135135"
      ],
      "text/markdown": [
       "25.2635135135135"
      ],
      "text/plain": [
       "[1] 25.26351"
      ]
     },
     "metadata": {},
     "output_type": "display_data"
    }
   ],
   "source": [
    "set.seed(343)\n",
    "\n",
    "hec <- within(hec, {\n",
    "  Y0 <- rnorm(n = N,mean = (2*as.numeric(Hair) + -4*as.numeric(Eye) + -6*as.numeric(Sex)), sd = 5)\n",
    "  Y1 <- Y0 + 6*as.numeric(Hair) + 4*as.numeric(Eye) + 2*as.numeric(Sex)\n",
    "})\n",
    "\n",
    "with(hec, mean(Y1 - Y0))"
   ]
  },
  {
   "cell_type": "code",
   "execution_count": 56,
   "metadata": {},
   "outputs": [
    {
     "name": "stderr",
     "output_type": "stream",
     "text": [
      "Loading required package: randomizr\n",
      "\n"
     ]
    },
    {
     "data": {
      "text/plain": [
       "Z\n",
       "  0   1 \n",
       "301 291 "
      ]
     },
     "metadata": {},
     "output_type": "display_data"
    }
   ],
   "source": [
    "if (!require(\"randomizr\")) install.packages(\"randomizr\")\n",
    "library(randomizr)\n",
    "Z <- simple_ra(N = N)\n",
    "table(Z)"
   ]
  },
  {
   "cell_type": "code",
   "execution_count": 57,
   "metadata": {},
   "outputs": [
    {
     "data": {
      "text/plain": [
       "Z\n",
       "  0   1 \n",
       "402 190 "
      ]
     },
     "metadata": {},
     "output_type": "display_data"
    }
   ],
   "source": [
    "Z <- simple_ra(N = N, prob = 0.30)\n",
    "table(Z)"
   ]
  },
  {
   "cell_type": "code",
   "execution_count": 58,
   "metadata": {},
   "outputs": [
    {
     "data": {
      "text/plain": [
       "Z\n",
       " T1  T2  T3 \n",
       "191 215 186 "
      ]
     },
     "metadata": {},
     "output_type": "display_data"
    }
   ],
   "source": [
    "Z <- simple_ra(N = N, num_arms = 3)\n",
    "table(Z)"
   ]
  },
  {
   "cell_type": "code",
   "execution_count": 59,
   "metadata": {},
   "outputs": [
    {
     "data": {
      "text/plain": [
       "Z\n",
       "  control   placebo treatment \n",
       "      118       119       355 "
      ]
     },
     "metadata": {},
     "output_type": "display_data"
    }
   ],
   "source": [
    "Z <- simple_ra(N = N, prob_each = c(.2, .2, .6),\n",
    "               conditions=c(\"control\", \"placebo\", \"treatment\"))\n",
    "table(Z)"
   ]
  },
  {
   "cell_type": "markdown",
   "metadata": {},
   "source": [
    "<h3><a id=\"3_2\">3.2 Estimation</a></h3>\n",
    "<h4><a id=\"3_2_1\">3.2.1 Sampling distributions and properties of estimators</a></h4>\n",
    "\n",
    "Using R for Sampling Distributions<br/>\n",
    "http://pages.stat.wisc.edu/~yandell/st571/R/append5.pdf<br/>\n",
    "https://stats.idre.ucla.edu/r/modules/probabilities-and-distributions/\n",
    "\n",
    "Random Sampling and the Distribution of Sample Averages<br/>\n",
    "https://www.econometrics-with-r.org/2-2-RSATDOSA.html"
   ]
  },
  {
   "cell_type": "markdown",
   "metadata": {},
   "source": [
    "<u>Sampling distributions</u>\n",
    "\n",
    "R has many functions that will generate a random sample from common distributions:\n",
    "\n",
    "<ul>\n",
    "    <li>runif</li>\n",
    "    <li>rpois</li>\n",
    "    <li>rmvnorm</li>\n",
    "    <li>rnbinom</li>\n",
    "    <li>rbinom</li>\n",
    "    <li>rbeta</li>\n",
    "    <li>rchisq</li>\n",
    "    <li>rexp</li>\n",
    "    <li>rgamma</li>\n",
    "    <li>rlogis</li>\n",
    "    <li>rstab</li>\n",
    "    <li>rt</li>\n",
    "    <li>rgeom</li>\n",
    "    <li>rhyper</li>\n",
    "    <li>rwilcox</li>\n",
    "    <li>rweibull</li>\n",
    "</ul>"
   ]
  },
  {
   "cell_type": "code",
   "execution_count": 60,
   "metadata": {},
   "outputs": [
    {
     "data": {
      "text/html": [
       "<style>\n",
       ".list-inline {list-style: none; margin:0; padding: 0}\n",
       ".list-inline>li {display: inline-block}\n",
       ".list-inline>li:not(:last-child)::after {content: \"\\00b7\"; padding: 0 .5ex}\n",
       "</style>\n",
       "<ol class=list-inline><li>-1.38507061859438</li><li>0.0383231810219006</li><li>-0.763030162361974</li><li>0.212306135525839</li><li>1.42553796686779</li><li>0.744479822333976</li><li>0.70022940298623</li><li>-0.229354613451726</li><li>0.197093861895352</li><li>1.20715377387226</li><li>0.318336726424769</li><li>-1.42379885362755</li><li>-0.405090858049187</li><li>0.995386565684023</li><li>0.958817787640257</li><li>0.918087896319951</li><li>-0.15096960188161</li><li>-1.2230687888662</li><li>-0.868824288637794</li><li>-1.04248536490429</li><li>-1.10363778306687</li><li>0.444185061636591</li><li>-0.204950612247723</li><li>1.67563243314833</li><li>-0.13132224993043</li><li>-0.199882977931185</li><li>0.0549124154321237</li><li>-0.682165488545169</li><li>-0.727704148142662</li><li>-0.861904285940337</li><li>-0.037523114994036</li><li>-1.63142324023619</li><li>0.17716659588745</li><li>-0.0125007990781764</li><li>-0.394317126425896</li><li>0.351562931221001</li><li>0.878767562719921</li><li>0.204654080230588</li><li>-0.887380710391725</li><li>-0.477216058294548</li><li>-0.267740953354693</li><li>1.58585916315174</li><li>0.0469005946979619</li><li>0.356496777244958</li><li>-0.121380005320371</li><li>-0.0360918420993955</li><li>-0.981147486726793</li><li>-0.434259827652925</li><li>-0.0674843552917436</li><li>0.981894565963953</li><li>-0.462052391294992</li><li>-0.225099282643978</li><li>-0.846447800261891</li><li>0.0730463193588501</li><li>-0.275036419546149</li><li>-0.386426357258024</li><li>-0.0462031414403301</li><li>-0.825893721836378</li><li>-0.854034237745702</li><li>0.118736809402656</li><li>0.283596905517313</li><li>1.93008646624827</li><li>-1.14052761804783</li><li>-1.32211824286642</li><li>1.228831605395</li><li>-0.548456032355871</li><li>-0.126007492134246</li><li>0.687718721631207</li><li>0.705200375971499</li><li>0.801478429090865</li><li>-0.462883179163639</li><li>-0.884554984100816</li><li>-1.63092757342003</li><li>0.562230587919655</li><li>-0.325891834626624</li><li>0.24137562009856</li><li>1.08586909945727</li><li>1.90706161466008</li><li>0.812927449301863</li><li>0.494888787113185</li><li>-0.0951477635173799</li><li>1.1387804995013</li><li>0.502314628861913</li><li>-0.515414054024931</li><li>-2.46839046708471</li><li>-0.872552743725931</li><li>0.964088079895252</li><li>0.910796248707817</li><li>1.92580883744669</li><li>-0.302906947921293</li><li>-1.0547070501127</li><li>0.418116085183897</li><li>0.701272821932615</li><li>0.246758282351839</li><li>0.464295161386731</li><li>-0.395468187701008</li><li>0.713070305154749</li><li>1.18501255632763</li><li>-1.91114928810344</li><li>1.11493056406232</li></ol>\n"
      ],
      "text/latex": [
       "\\begin{enumerate*}\n",
       "\\item -1.38507061859438\n",
       "\\item 0.0383231810219006\n",
       "\\item -0.763030162361974\n",
       "\\item 0.212306135525839\n",
       "\\item 1.42553796686779\n",
       "\\item 0.744479822333976\n",
       "\\item 0.70022940298623\n",
       "\\item -0.229354613451726\n",
       "\\item 0.197093861895352\n",
       "\\item 1.20715377387226\n",
       "\\item 0.318336726424769\n",
       "\\item -1.42379885362755\n",
       "\\item -0.405090858049187\n",
       "\\item 0.995386565684023\n",
       "\\item 0.958817787640257\n",
       "\\item 0.918087896319951\n",
       "\\item -0.15096960188161\n",
       "\\item -1.2230687888662\n",
       "\\item -0.868824288637794\n",
       "\\item -1.04248536490429\n",
       "\\item -1.10363778306687\n",
       "\\item 0.444185061636591\n",
       "\\item -0.204950612247723\n",
       "\\item 1.67563243314833\n",
       "\\item -0.13132224993043\n",
       "\\item -0.199882977931185\n",
       "\\item 0.0549124154321237\n",
       "\\item -0.682165488545169\n",
       "\\item -0.727704148142662\n",
       "\\item -0.861904285940337\n",
       "\\item -0.037523114994036\n",
       "\\item -1.63142324023619\n",
       "\\item 0.17716659588745\n",
       "\\item -0.0125007990781764\n",
       "\\item -0.394317126425896\n",
       "\\item 0.351562931221001\n",
       "\\item 0.878767562719921\n",
       "\\item 0.204654080230588\n",
       "\\item -0.887380710391725\n",
       "\\item -0.477216058294548\n",
       "\\item -0.267740953354693\n",
       "\\item 1.58585916315174\n",
       "\\item 0.0469005946979619\n",
       "\\item 0.356496777244958\n",
       "\\item -0.121380005320371\n",
       "\\item -0.0360918420993955\n",
       "\\item -0.981147486726793\n",
       "\\item -0.434259827652925\n",
       "\\item -0.0674843552917436\n",
       "\\item 0.981894565963953\n",
       "\\item -0.462052391294992\n",
       "\\item -0.225099282643978\n",
       "\\item -0.846447800261891\n",
       "\\item 0.0730463193588501\n",
       "\\item -0.275036419546149\n",
       "\\item -0.386426357258024\n",
       "\\item -0.0462031414403301\n",
       "\\item -0.825893721836378\n",
       "\\item -0.854034237745702\n",
       "\\item 0.118736809402656\n",
       "\\item 0.283596905517313\n",
       "\\item 1.93008646624827\n",
       "\\item -1.14052761804783\n",
       "\\item -1.32211824286642\n",
       "\\item 1.228831605395\n",
       "\\item -0.548456032355871\n",
       "\\item -0.126007492134246\n",
       "\\item 0.687718721631207\n",
       "\\item 0.705200375971499\n",
       "\\item 0.801478429090865\n",
       "\\item -0.462883179163639\n",
       "\\item -0.884554984100816\n",
       "\\item -1.63092757342003\n",
       "\\item 0.562230587919655\n",
       "\\item -0.325891834626624\n",
       "\\item 0.24137562009856\n",
       "\\item 1.08586909945727\n",
       "\\item 1.90706161466008\n",
       "\\item 0.812927449301863\n",
       "\\item 0.494888787113185\n",
       "\\item -0.0951477635173799\n",
       "\\item 1.1387804995013\n",
       "\\item 0.502314628861913\n",
       "\\item -0.515414054024931\n",
       "\\item -2.46839046708471\n",
       "\\item -0.872552743725931\n",
       "\\item 0.964088079895252\n",
       "\\item 0.910796248707817\n",
       "\\item 1.92580883744669\n",
       "\\item -0.302906947921293\n",
       "\\item -1.0547070501127\n",
       "\\item 0.418116085183897\n",
       "\\item 0.701272821932615\n",
       "\\item 0.246758282351839\n",
       "\\item 0.464295161386731\n",
       "\\item -0.395468187701008\n",
       "\\item 0.713070305154749\n",
       "\\item 1.18501255632763\n",
       "\\item -1.91114928810344\n",
       "\\item 1.11493056406232\n",
       "\\end{enumerate*}\n"
      ],
      "text/markdown": [
       "1. -1.38507061859438\n",
       "2. 0.0383231810219006\n",
       "3. -0.763030162361974\n",
       "4. 0.212306135525839\n",
       "5. 1.42553796686779\n",
       "6. 0.744479822333976\n",
       "7. 0.70022940298623\n",
       "8. -0.229354613451726\n",
       "9. 0.197093861895352\n",
       "10. 1.20715377387226\n",
       "11. 0.318336726424769\n",
       "12. -1.42379885362755\n",
       "13. -0.405090858049187\n",
       "14. 0.995386565684023\n",
       "15. 0.958817787640257\n",
       "16. 0.918087896319951\n",
       "17. -0.15096960188161\n",
       "18. -1.2230687888662\n",
       "19. -0.868824288637794\n",
       "20. -1.04248536490429\n",
       "21. -1.10363778306687\n",
       "22. 0.444185061636591\n",
       "23. -0.204950612247723\n",
       "24. 1.67563243314833\n",
       "25. -0.13132224993043\n",
       "26. -0.199882977931185\n",
       "27. 0.0549124154321237\n",
       "28. -0.682165488545169\n",
       "29. -0.727704148142662\n",
       "30. -0.861904285940337\n",
       "31. -0.037523114994036\n",
       "32. -1.63142324023619\n",
       "33. 0.17716659588745\n",
       "34. -0.0125007990781764\n",
       "35. -0.394317126425896\n",
       "36. 0.351562931221001\n",
       "37. 0.878767562719921\n",
       "38. 0.204654080230588\n",
       "39. -0.887380710391725\n",
       "40. -0.477216058294548\n",
       "41. -0.267740953354693\n",
       "42. 1.58585916315174\n",
       "43. 0.0469005946979619\n",
       "44. 0.356496777244958\n",
       "45. -0.121380005320371\n",
       "46. -0.0360918420993955\n",
       "47. -0.981147486726793\n",
       "48. -0.434259827652925\n",
       "49. -0.0674843552917436\n",
       "50. 0.981894565963953\n",
       "51. -0.462052391294992\n",
       "52. -0.225099282643978\n",
       "53. -0.846447800261891\n",
       "54. 0.0730463193588501\n",
       "55. -0.275036419546149\n",
       "56. -0.386426357258024\n",
       "57. -0.0462031414403301\n",
       "58. -0.825893721836378\n",
       "59. -0.854034237745702\n",
       "60. 0.118736809402656\n",
       "61. 0.283596905517313\n",
       "62. 1.93008646624827\n",
       "63. -1.14052761804783\n",
       "64. -1.32211824286642\n",
       "65. 1.228831605395\n",
       "66. -0.548456032355871\n",
       "67. -0.126007492134246\n",
       "68. 0.687718721631207\n",
       "69. 0.705200375971499\n",
       "70. 0.801478429090865\n",
       "71. -0.462883179163639\n",
       "72. -0.884554984100816\n",
       "73. -1.63092757342003\n",
       "74. 0.562230587919655\n",
       "75. -0.325891834626624\n",
       "76. 0.24137562009856\n",
       "77. 1.08586909945727\n",
       "78. 1.90706161466008\n",
       "79. 0.812927449301863\n",
       "80. 0.494888787113185\n",
       "81. -0.0951477635173799\n",
       "82. 1.1387804995013\n",
       "83. 0.502314628861913\n",
       "84. -0.515414054024931\n",
       "85. -2.46839046708471\n",
       "86. -0.872552743725931\n",
       "87. 0.964088079895252\n",
       "88. 0.910796248707817\n",
       "89. 1.92580883744669\n",
       "90. -0.302906947921293\n",
       "91. -1.0547070501127\n",
       "92. 0.418116085183897\n",
       "93. 0.701272821932615\n",
       "94. 0.246758282351839\n",
       "95. 0.464295161386731\n",
       "96. -0.395468187701008\n",
       "97. 0.713070305154749\n",
       "98. 1.18501255632763\n",
       "99. -1.91114928810344\n",
       "100. 1.11493056406232\n",
       "\n",
       "\n"
      ],
      "text/plain": [
       "  [1] -1.38507062  0.03832318 -0.76303016  0.21230614  1.42553797  0.74447982\n",
       "  [7]  0.70022940 -0.22935461  0.19709386  1.20715377  0.31833673 -1.42379885\n",
       " [13] -0.40509086  0.99538657  0.95881779  0.91808790 -0.15096960 -1.22306879\n",
       " [19] -0.86882429 -1.04248536 -1.10363778  0.44418506 -0.20495061  1.67563243\n",
       " [25] -0.13132225 -0.19988298  0.05491242 -0.68216549 -0.72770415 -0.86190429\n",
       " [31] -0.03752311 -1.63142324  0.17716660 -0.01250080 -0.39431713  0.35156293\n",
       " [37]  0.87876756  0.20465408 -0.88738071 -0.47721606 -0.26774095  1.58585916\n",
       " [43]  0.04690059  0.35649678 -0.12138001 -0.03609184 -0.98114749 -0.43425983\n",
       " [49] -0.06748436  0.98189457 -0.46205239 -0.22509928 -0.84644780  0.07304632\n",
       " [55] -0.27503642 -0.38642636 -0.04620314 -0.82589372 -0.85403424  0.11873681\n",
       " [61]  0.28359691  1.93008647 -1.14052762 -1.32211824  1.22883161 -0.54845603\n",
       " [67] -0.12600749  0.68771872  0.70520038  0.80147843 -0.46288318 -0.88455498\n",
       " [73] -1.63092757  0.56223059 -0.32589183  0.24137562  1.08586910  1.90706161\n",
       " [79]  0.81292745  0.49488879 -0.09514776  1.13878050  0.50231463 -0.51541405\n",
       " [85] -2.46839047 -0.87255274  0.96408808  0.91079625  1.92580884 -0.30290695\n",
       " [91] -1.05470705  0.41811609  0.70127282  0.24675828  0.46429516 -0.39546819\n",
       " [97]  0.71307031  1.18501256 -1.91114929  1.11493056"
      ]
     },
     "metadata": {},
     "output_type": "display_data"
    },
    {
     "data": {
      "image/png": "[encoded data removed]",
      "text/plain": [
       "Plot with title “Histogram of norm”"
      ]
     },
     "metadata": {
      "image/png": {
       "height": 420,
       "width": 420
      }
     },
     "output_type": "display_data"
    }
   ],
   "source": [
    "set.seed(124)\n",
    "norm <- rnorm(100)\n",
    "norm\n",
    "hist(norm, breaks=10)"
   ]
  },
  {
   "cell_type": "code",
   "execution_count": 61,
   "metadata": {},
   "outputs": [
    {
     "data": {
      "text/html": [
       "<style>\n",
       ".list-inline {list-style: none; margin:0; padding: 0}\n",
       ".list-inline>li {display: inline-block}\n",
       ".list-inline>li:not(:last-child)::after {content: \"\\00b7\"; padding: 0 .5ex}\n",
       "</style>\n",
       "<ol class=list-inline><li>-1.38507061859438</li><li>0.0383231810219006</li><li>-0.763030162361974</li><li>0.212306135525839</li><li>1.42553796686779</li><li>0.744479822333976</li><li>0.70022940298623</li><li>-0.229354613451726</li><li>0.197093861895352</li><li>1.20715377387226</li></ol>\n"
      ],
      "text/latex": [
       "\\begin{enumerate*}\n",
       "\\item -1.38507061859438\n",
       "\\item 0.0383231810219006\n",
       "\\item -0.763030162361974\n",
       "\\item 0.212306135525839\n",
       "\\item 1.42553796686779\n",
       "\\item 0.744479822333976\n",
       "\\item 0.70022940298623\n",
       "\\item -0.229354613451726\n",
       "\\item 0.197093861895352\n",
       "\\item 1.20715377387226\n",
       "\\end{enumerate*}\n"
      ],
      "text/markdown": [
       "1. -1.38507061859438\n",
       "2. 0.0383231810219006\n",
       "3. -0.763030162361974\n",
       "4. 0.212306135525839\n",
       "5. 1.42553796686779\n",
       "6. 0.744479822333976\n",
       "7. 0.70022940298623\n",
       "8. -0.229354613451726\n",
       "9. 0.197093861895352\n",
       "10. 1.20715377387226\n",
       "\n",
       "\n"
      ],
      "text/plain": [
       " [1] -1.38507062  0.03832318 -0.76303016  0.21230614  1.42553797  0.74447982\n",
       " [7]  0.70022940 -0.22935461  0.19709386  1.20715377"
      ]
     },
     "metadata": {},
     "output_type": "display_data"
    }
   ],
   "source": [
    "norm[1:10]"
   ]
  },
  {
   "cell_type": "code",
   "execution_count": 62,
   "metadata": {},
   "outputs": [
    {
     "data": {
      "text/html": [
       "0.883840931622979"
      ],
      "text/latex": [
       "0.883840931622979"
      ],
      "text/markdown": [
       "0.883840931622979"
      ],
      "text/plain": [
       "[1] 0.8838409"
      ]
     },
     "metadata": {},
     "output_type": "display_data"
    }
   ],
   "source": [
    "sd(norm)"
   ]
  },
  {
   "cell_type": "code",
   "execution_count": 63,
   "metadata": {},
   "outputs": [
    {
     "data": {
      "text/html": [
       "1.51771146329693"
      ],
      "text/latex": [
       "1.51771146329693"
      ],
      "text/markdown": [
       "1.51771146329693"
      ],
      "text/plain": [
       "[1] 1.517711"
      ]
     },
     "metadata": {},
     "output_type": "display_data"
    },
    {
     "data": {
      "text/html": [
       "4.52464405883821"
      ],
      "text/latex": [
       "4.52464405883821"
      ],
      "text/markdown": [
       "4.52464405883821"
      ],
      "text/plain": [
       "[1] 4.524644"
      ]
     },
     "metadata": {},
     "output_type": "display_data"
    },
    {
     "data": {
      "image/png": "[encoded data removed]",
      "text/plain": [
       "Plot with title “Histogram of norm”"
      ]
     },
     "metadata": {
      "image/png": {
       "height": 420,
       "width": 420
      }
     },
     "output_type": "display_data"
    }
   ],
   "source": [
    "norm <- rnorm(100, 2, 5)\n",
    "hist(norm)\n",
    "mean(norm)\n",
    "sd(norm)\n"
   ]
  },
  {
   "cell_type": "markdown",
   "metadata": {},
   "source": [
    "<u>Sampling from the Poisson distribution</u>"
   ]
  },
  {
   "cell_type": "code",
   "execution_count": 64,
   "metadata": {},
   "outputs": [
    {
     "data": {
      "text/plain": [
       "pois\n",
       "  2   3   4   5   6   7   8   9  10  11  12  13  14  15  16  17  18  19  20  21 \n",
       "  2   7  22  38  51  89 109 117 106 122 106  76  65  35  27  11   8   5   2   1 \n",
       " 22 \n",
       "  1 "
      ]
     },
     "metadata": {},
     "output_type": "display_data"
    },
    {
     "data": {
      "text/html": [
       "10.3933683683683"
      ],
      "text/latex": [
       "10.3933683683683"
      ],
      "text/markdown": [
       "10.3933683683683"
      ],
      "text/plain": [
       "[1] 10.39337"
      ]
     },
     "metadata": {},
     "output_type": "display_data"
    },
    {
     "data": {
      "image/png": "[encoded data removed]",
      "text/plain": [
       "Plot with title “Histogram of pois”"
      ]
     },
     "metadata": {
      "image/png": {
       "height": 420,
       "width": 420
      }
     },
     "output_type": "display_data"
    }
   ],
   "source": [
    "pois <- rpois(1000, lambda = 10) # why does this generate integers?\n",
    "hist(pois, breaks=10)\n",
    "table(pois)\n",
    "var(pois)"
   ]
  },
  {
   "cell_type": "markdown",
   "metadata": {},
   "source": [
    "<u>Properties of estimators</u>\n",
    "\n",
    "http://www.math.ucsd.edu/~eariasca/R_companion/properties-of-estimators-and-tests.html\n",
    "\n",
    "Should the sample mean or median be used to estimate the parameter?\n",
    "\n",
    "The sample mean is somewhat better than the sample median (in terms of mean squared error).\n",
    "\n",
    "<a href=\"https://en.wikipedia.org/wiki/Mean_squared_error\">Mean squared error</a>"
   ]
  },
  {
   "cell_type": "code",
   "execution_count": 65,
   "metadata": {},
   "outputs": [
    {
     "name": "stdout",
     "output_type": "stream",
     "text": [
      " [1]    2    4    8   16   32   64  128  256  512 1024\n"
     ]
    },
    {
     "data": {
      "image/png": "[encoded data removed]",
      "text/plain": [
       "plot without title"
      ]
     },
     "metadata": {
      "image/png": {
       "height": 420,
       "width": 420
      }
     },
     "output_type": "display_data"
    }
   ],
   "source": [
    "q = 10\n",
    "n_grid = 2^(1:q) # sample sizes\n",
    "print(n_grid, quotes = FALSE)\n",
    "B = 1e3 # replicates\n",
    "mean_error = numeric(q)\n",
    "#print(mean_error)\n",
    "median_error = numeric(q)\n",
    "#print(median_error)\n",
    "for (k in 1:q) {\n",
    "    n = n_grid[k]\n",
    "    mean_out = numeric(B)\n",
    "    median_out = numeric(B)\n",
    "    for (b in 1:B) {\n",
    "        x = rnorm(n) # normal sample\n",
    "        mean_out[b] = mean(x) # sample mean \n",
    "        #print(mean_out[b])\n",
    "        median_out[b] = median(x) # sample median \n",
    "        #print(median_out[b])\n",
    "    }\n",
    "    mean_error[k] = mean(mean_out^2) # MSE for the sample mean ]\n",
    "    #print(mean_error[k])\n",
    "    median_error[k] = mean(median_out^2) # MSE for the sample median\n",
    "    #print(median_error[k])\n",
    "}\n",
    "\n",
    "matplot(n_grid, \n",
    "        cbind(mean_error, median_error), \n",
    "        log = \"xy\", \n",
    "        type = \"b\", \n",
    "        lty = 1, \n",
    "        pch = 15, \n",
    "        lwd = 2, \n",
    "        col = 2:3, \n",
    "        xlab = \"sample size\", \n",
    "        ylab = \"(estimated) mean squared error\")\n",
    "\n",
    "legend(\"topright\", \n",
    "       legend = c(\"sample mean\", \"sample median\"), \n",
    "       lty = 1, \n",
    "       pch = 15, \n",
    "       lwd = 2, \n",
    "       col = 2:3)"
   ]
  },
  {
   "cell_type": "markdown",
   "metadata": {},
   "source": [
    "<h4><a id=\"3_2_2\">3.2.2 Confidence intervals (Single proportion, single mean, two proportions, two means, and paired means)</a></h4>"
   ]
  },
  {
   "cell_type": "markdown",
   "metadata": {},
   "source": [
    "https://en.wikipedia.org/wiki/Confidence_interval\n",
    "\n",
    "https://rcompanion.org/rcompanion/c_04.html"
   ]
  },
  {
   "cell_type": "code",
   "execution_count": 66,
   "metadata": {},
   "outputs": [],
   "source": [
    "lizard = c(6.2, 6.6, 7.1, 7.4, 7.6, 7.9, 8, 8.3, 8.4, 8.5, 8.6,\n",
    "    + 8.8, 8.8, 9.1, 9.2, 9.4, 9.4, 9.7, 9.9, 10.2, 10.4, 10.8,\n",
    "    + 11.3, 11.9)\n"
   ]
  },
  {
   "cell_type": "code",
   "execution_count": 67,
   "metadata": {},
   "outputs": [
    {
     "data": {
      "text/plain": [
       "\n",
       "\tOne Sample t-test\n",
       "\n",
       "data:  lizard\n",
       "t = 30.477, df = 23, p-value < 2.2e-16\n",
       "alternative hypothesis: true mean is not equal to 0\n",
       "95 percent confidence interval:\n",
       " 8.292017 9.499649\n",
       "sample estimates:\n",
       "mean of x \n",
       " 8.895833 \n"
      ]
     },
     "metadata": {},
     "output_type": "display_data"
    }
   ],
   "source": [
    "t.test(lizard)"
   ]
  },
  {
   "cell_type": "code",
   "execution_count": 68,
   "metadata": {},
   "outputs": [
    {
     "data": {
      "text/plain": [
       "\n",
       "\tOne Sample t-test\n",
       "\n",
       "data:  lizard\n",
       "t = 30.477, df = 23, p-value < 2.2e-16\n",
       "alternative hypothesis: true mean is not equal to 0\n",
       "90 percent confidence interval:\n",
       " 8.395575 9.396092\n",
       "sample estimates:\n",
       "mean of x \n",
       " 8.895833 \n"
      ]
     },
     "metadata": {},
     "output_type": "display_data"
    }
   ],
   "source": [
    "t.test(lizard, conf.level = 0.9)"
   ]
  },
  {
   "cell_type": "markdown",
   "metadata": {},
   "source": [
    "<u>Single proportion</u>\n",
    "\n",
    "You can find the <b>confidence interval</b> (CI) for a population <b>proportion</b> to show the statistical probability that a characteristic (for instance, the mean) is likely to occur within the population, plus or minus a margin or error. The result is called a <b>confidence interval</b> for the population <b>proportion</b>, p."
   ]
  },
  {
   "cell_type": "code",
   "execution_count": 69,
   "metadata": {},
   "outputs": [
    {
     "data": {
      "text/plain": [
       "\n",
       "\tExact binomial test\n",
       "\n",
       "data:  2 and 20\n",
       "number of successes = 2, number of trials = 20, p-value = 0.0004025\n",
       "alternative hypothesis: true probability of success is not equal to 0.5\n",
       "95 percent confidence interval:\n",
       " 0.01234853 0.31698271\n",
       "sample estimates:\n",
       "probability of success \n",
       "                   0.1 \n"
      ]
     },
     "metadata": {},
     "output_type": "display_data"
    }
   ],
   "source": [
    "binom.test(2, 20, 0.5,\n",
    "           alternative=\"two.sided\",\n",
    "           conf.level=0.95)"
   ]
  },
  {
   "cell_type": "code",
   "execution_count": 70,
   "metadata": {},
   "outputs": [
    {
     "data": {
      "text/plain": [
       "\n",
       "\tOne Sample t-test\n",
       "\n",
       "data:  Data$Fish\n",
       "t = 6.5449, df = 8, p-value = 0.0001794\n",
       "alternative hypothesis: true mean is not equal to 0\n",
       "95 percent confidence interval:\n",
       " 45.33665 94.66335\n",
       "sample estimates:\n",
       "mean of x \n",
       "       70 \n"
      ]
     },
     "metadata": {},
     "output_type": "display_data"
    }
   ],
   "source": [
    "Input =(\"\n",
    "Stream                     Fish\n",
    " Mill_Creek_1                76\n",
    " Mill_Creek_2               102\n",
    " North_Branch_Rock_Creek_1   12\n",
    " North_Branch_Rock_Creek_2   39\n",
    " Rock_Creek_1                55\n",
    " Rock_Creek_2                93\n",
    " Rock_Creek_3                98\n",
    " Rock_Creek_4                53\n",
    " Turkey_Branch              102\n",
    "\")\n",
    "\n",
    "Data = read.table(textConnection(Input),header=TRUE)\n",
    "t.test(Data$Fish,\n",
    "       conf.level=0.95)  "
   ]
  },
  {
   "cell_type": "markdown",
   "metadata": {},
   "source": [
    "<u>Two proportions</u>\n",
    "\n",
    "Confidence Intervals for the Difference Between Two Population Proportions or Means<br/>\n",
    "https://online.stat.psu.edu/stat100/lesson/9/9.3"
   ]
  },
  {
   "cell_type": "markdown",
   "metadata": {},
   "source": [
    "https://www.r-tutor.com/elementary-statistics/inference-about-two-populations/population-mean-between-two-independent-samples"
   ]
  },
  {
   "cell_type": "code",
   "execution_count": 71,
   "metadata": {},
   "outputs": [
    {
     "name": "stderr",
     "output_type": "stream",
     "text": [
      "\n",
      "Attaching package: ‘MASS’\n",
      "\n",
      "\n",
      "The following object is masked from ‘package:EnvStats’:\n",
      "\n",
      "    boxcox\n",
      "\n",
      "\n"
     ]
    },
    {
     "data": {
      "text/html": [
       "<table>\n",
       "<caption>A data.frame: 6 × 5</caption>\n",
       "<thead>\n",
       "\t<tr><th></th><th scope=col>Eth</th><th scope=col>Sex</th><th scope=col>Age</th><th scope=col>Lrn</th><th scope=col>Days</th></tr>\n",
       "\t<tr><th></th><th scope=col>&lt;fct&gt;</th><th scope=col>&lt;fct&gt;</th><th scope=col>&lt;fct&gt;</th><th scope=col>&lt;fct&gt;</th><th scope=col>&lt;int&gt;</th></tr>\n",
       "</thead>\n",
       "<tbody>\n",
       "\t<tr><th scope=row>1</th><td>A</td><td>M</td><td>F0</td><td>SL</td><td> 2</td></tr>\n",
       "\t<tr><th scope=row>2</th><td>A</td><td>M</td><td>F0</td><td>SL</td><td>11</td></tr>\n",
       "\t<tr><th scope=row>3</th><td>A</td><td>M</td><td>F0</td><td>SL</td><td>14</td></tr>\n",
       "\t<tr><th scope=row>4</th><td>A</td><td>M</td><td>F0</td><td>AL</td><td> 5</td></tr>\n",
       "\t<tr><th scope=row>5</th><td>A</td><td>M</td><td>F0</td><td>AL</td><td> 5</td></tr>\n",
       "\t<tr><th scope=row>6</th><td>A</td><td>M</td><td>F0</td><td>AL</td><td>13</td></tr>\n",
       "</tbody>\n",
       "</table>\n"
      ],
      "text/latex": [
       "A data.frame: 6 × 5\n",
       "\\begin{tabular}{r|lllll}\n",
       "  & Eth & Sex & Age & Lrn & Days\\\\\n",
       "  & <fct> & <fct> & <fct> & <fct> & <int>\\\\\n",
       "\\hline\n",
       "\t1 & A & M & F0 & SL &  2\\\\\n",
       "\t2 & A & M & F0 & SL & 11\\\\\n",
       "\t3 & A & M & F0 & SL & 14\\\\\n",
       "\t4 & A & M & F0 & AL &  5\\\\\n",
       "\t5 & A & M & F0 & AL &  5\\\\\n",
       "\t6 & A & M & F0 & AL & 13\\\\\n",
       "\\end{tabular}\n"
      ],
      "text/markdown": [
       "\n",
       "A data.frame: 6 × 5\n",
       "\n",
       "| <!--/--> | Eth &lt;fct&gt; | Sex &lt;fct&gt; | Age &lt;fct&gt; | Lrn &lt;fct&gt; | Days &lt;int&gt; |\n",
       "|---|---|---|---|---|---|\n",
       "| 1 | A | M | F0 | SL |  2 |\n",
       "| 2 | A | M | F0 | SL | 11 |\n",
       "| 3 | A | M | F0 | SL | 14 |\n",
       "| 4 | A | M | F0 | AL |  5 |\n",
       "| 5 | A | M | F0 | AL |  5 |\n",
       "| 6 | A | M | F0 | AL | 13 |\n",
       "\n"
      ],
      "text/plain": [
       "  Eth Sex Age Lrn Days\n",
       "1 A   M   F0  SL   2  \n",
       "2 A   M   F0  SL  11  \n",
       "3 A   M   F0  SL  14  \n",
       "4 A   M   F0  AL   5  \n",
       "5 A   M   F0  AL   5  \n",
       "6 A   M   F0  AL  13  "
      ]
     },
     "metadata": {},
     "output_type": "display_data"
    }
   ],
   "source": [
    "library(MASS) \n",
    "head(quine) "
   ]
  },
  {
   "cell_type": "code",
   "execution_count": 72,
   "metadata": {},
   "outputs": [
    {
     "data": {
      "text/plain": [
       "   \n",
       "     F  M\n",
       "  A 38 31\n",
       "  N 42 35"
      ]
     },
     "metadata": {},
     "output_type": "display_data"
    }
   ],
   "source": [
    "table(quine$Eth, quine$Sex) "
   ]
  },
  {
   "cell_type": "code",
   "execution_count": 73,
   "metadata": {},
   "outputs": [
    {
     "data": {
      "text/plain": [
       "\n",
       "\t2-sample test for equality of proportions without continuity\n",
       "\tcorrection\n",
       "\n",
       "data:  table(quine$Eth, quine$Sex)\n",
       "X-squared = 0.0040803, df = 1, p-value = 0.9491\n",
       "alternative hypothesis: two.sided\n",
       "95 percent confidence interval:\n",
       " -0.1564218  0.1669620\n",
       "sample estimates:\n",
       "   prop 1    prop 2 \n",
       "0.5507246 0.5454545 \n"
      ]
     },
     "metadata": {},
     "output_type": "display_data"
    }
   ],
   "source": [
    "prop.test(table(quine$Eth, quine$Sex), correct=FALSE) "
   ]
  },
  {
   "cell_type": "code",
   "execution_count": 74,
   "metadata": {},
   "outputs": [
    {
     "data": {
      "text/html": [
       "<style>\n",
       ".list-inline {list-style: none; margin:0; padding: 0}\n",
       ".list-inline>li {display: inline-block}\n",
       ".list-inline>li:not(:last-child)::after {content: \"\\00b7\"; padding: 0 .5ex}\n",
       "</style>\n",
       "<ol class=list-inline><li>21</li><li>21</li><li>22.8</li><li>21.4</li><li>18.7</li><li>18.1</li><li>14.3</li><li>24.4</li><li>22.8</li><li>19.2</li><li>17.8</li><li>16.4</li><li>17.3</li><li>15.2</li><li>10.4</li><li>10.4</li><li>14.7</li><li>32.4</li><li>30.4</li><li>33.9</li><li>21.5</li><li>15.5</li><li>15.2</li><li>13.3</li><li>19.2</li><li>27.3</li><li>26</li><li>30.4</li><li>15.8</li><li>19.7</li><li>15</li><li>21.4</li></ol>\n"
      ],
      "text/latex": [
       "\\begin{enumerate*}\n",
       "\\item 21\n",
       "\\item 21\n",
       "\\item 22.8\n",
       "\\item 21.4\n",
       "\\item 18.7\n",
       "\\item 18.1\n",
       "\\item 14.3\n",
       "\\item 24.4\n",
       "\\item 22.8\n",
       "\\item 19.2\n",
       "\\item 17.8\n",
       "\\item 16.4\n",
       "\\item 17.3\n",
       "\\item 15.2\n",
       "\\item 10.4\n",
       "\\item 10.4\n",
       "\\item 14.7\n",
       "\\item 32.4\n",
       "\\item 30.4\n",
       "\\item 33.9\n",
       "\\item 21.5\n",
       "\\item 15.5\n",
       "\\item 15.2\n",
       "\\item 13.3\n",
       "\\item 19.2\n",
       "\\item 27.3\n",
       "\\item 26\n",
       "\\item 30.4\n",
       "\\item 15.8\n",
       "\\item 19.7\n",
       "\\item 15\n",
       "\\item 21.4\n",
       "\\end{enumerate*}\n"
      ],
      "text/markdown": [
       "1. 21\n",
       "2. 21\n",
       "3. 22.8\n",
       "4. 21.4\n",
       "5. 18.7\n",
       "6. 18.1\n",
       "7. 14.3\n",
       "8. 24.4\n",
       "9. 22.8\n",
       "10. 19.2\n",
       "11. 17.8\n",
       "12. 16.4\n",
       "13. 17.3\n",
       "14. 15.2\n",
       "15. 10.4\n",
       "16. 10.4\n",
       "17. 14.7\n",
       "18. 32.4\n",
       "19. 30.4\n",
       "20. 33.9\n",
       "21. 21.5\n",
       "22. 15.5\n",
       "23. 15.2\n",
       "24. 13.3\n",
       "25. 19.2\n",
       "26. 27.3\n",
       "27. 26\n",
       "28. 30.4\n",
       "29. 15.8\n",
       "30. 19.7\n",
       "31. 15\n",
       "32. 21.4\n",
       "\n",
       "\n"
      ],
      "text/plain": [
       " [1] 21.0 21.0 22.8 21.4 18.7 18.1 14.3 24.4 22.8 19.2 17.8 16.4 17.3 15.2 10.4\n",
       "[16] 10.4 14.7 32.4 30.4 33.9 21.5 15.5 15.2 13.3 19.2 27.3 26.0 30.4 15.8 19.7\n",
       "[31] 15.0 21.4"
      ]
     },
     "metadata": {},
     "output_type": "display_data"
    }
   ],
   "source": [
    "mtcars$mpg "
   ]
  },
  {
   "cell_type": "code",
   "execution_count": 75,
   "metadata": {},
   "outputs": [
    {
     "data": {
      "text/html": [
       "<style>\n",
       ".list-inline {list-style: none; margin:0; padding: 0}\n",
       ".list-inline>li {display: inline-block}\n",
       ".list-inline>li:not(:last-child)::after {content: \"\\00b7\"; padding: 0 .5ex}\n",
       "</style>\n",
       "<ol class=list-inline><li>1</li><li>1</li><li>1</li><li>0</li><li>0</li><li>0</li><li>0</li><li>0</li><li>0</li><li>0</li><li>0</li><li>0</li><li>0</li><li>0</li><li>0</li><li>0</li><li>0</li><li>1</li><li>1</li><li>1</li><li>0</li><li>0</li><li>0</li><li>0</li><li>0</li><li>1</li><li>1</li><li>1</li><li>1</li><li>1</li><li>1</li><li>1</li></ol>\n"
      ],
      "text/latex": [
       "\\begin{enumerate*}\n",
       "\\item 1\n",
       "\\item 1\n",
       "\\item 1\n",
       "\\item 0\n",
       "\\item 0\n",
       "\\item 0\n",
       "\\item 0\n",
       "\\item 0\n",
       "\\item 0\n",
       "\\item 0\n",
       "\\item 0\n",
       "\\item 0\n",
       "\\item 0\n",
       "\\item 0\n",
       "\\item 0\n",
       "\\item 0\n",
       "\\item 0\n",
       "\\item 1\n",
       "\\item 1\n",
       "\\item 1\n",
       "\\item 0\n",
       "\\item 0\n",
       "\\item 0\n",
       "\\item 0\n",
       "\\item 0\n",
       "\\item 1\n",
       "\\item 1\n",
       "\\item 1\n",
       "\\item 1\n",
       "\\item 1\n",
       "\\item 1\n",
       "\\item 1\n",
       "\\end{enumerate*}\n"
      ],
      "text/markdown": [
       "1. 1\n",
       "2. 1\n",
       "3. 1\n",
       "4. 0\n",
       "5. 0\n",
       "6. 0\n",
       "7. 0\n",
       "8. 0\n",
       "9. 0\n",
       "10. 0\n",
       "11. 0\n",
       "12. 0\n",
       "13. 0\n",
       "14. 0\n",
       "15. 0\n",
       "16. 0\n",
       "17. 0\n",
       "18. 1\n",
       "19. 1\n",
       "20. 1\n",
       "21. 0\n",
       "22. 0\n",
       "23. 0\n",
       "24. 0\n",
       "25. 0\n",
       "26. 1\n",
       "27. 1\n",
       "28. 1\n",
       "29. 1\n",
       "30. 1\n",
       "31. 1\n",
       "32. 1\n",
       "\n",
       "\n"
      ],
      "text/plain": [
       " [1] 1 1 1 0 0 0 0 0 0 0 0 0 0 0 0 0 0 1 1 1 0 0 0 0 0 1 1 1 1 1 1 1"
      ]
     },
     "metadata": {},
     "output_type": "display_data"
    }
   ],
   "source": [
    "mtcars$am "
   ]
  },
  {
   "cell_type": "code",
   "execution_count": 76,
   "metadata": {},
   "outputs": [
    {
     "data": {
      "text/html": [
       "<style>\n",
       ".list-inline {list-style: none; margin:0; padding: 0}\n",
       ".list-inline>li {display: inline-block}\n",
       ".list-inline>li:not(:last-child)::after {content: \"\\00b7\"; padding: 0 .5ex}\n",
       "</style>\n",
       "<ol class=list-inline><li>21.4</li><li>18.7</li><li>18.1</li><li>14.3</li><li>24.4</li><li>22.8</li><li>19.2</li><li>17.8</li><li>16.4</li><li>17.3</li><li>15.2</li><li>10.4</li><li>10.4</li><li>14.7</li><li>21.5</li><li>15.5</li><li>15.2</li><li>13.3</li><li>19.2</li></ol>\n"
      ],
      "text/latex": [
       "\\begin{enumerate*}\n",
       "\\item 21.4\n",
       "\\item 18.7\n",
       "\\item 18.1\n",
       "\\item 14.3\n",
       "\\item 24.4\n",
       "\\item 22.8\n",
       "\\item 19.2\n",
       "\\item 17.8\n",
       "\\item 16.4\n",
       "\\item 17.3\n",
       "\\item 15.2\n",
       "\\item 10.4\n",
       "\\item 10.4\n",
       "\\item 14.7\n",
       "\\item 21.5\n",
       "\\item 15.5\n",
       "\\item 15.2\n",
       "\\item 13.3\n",
       "\\item 19.2\n",
       "\\end{enumerate*}\n"
      ],
      "text/markdown": [
       "1. 21.4\n",
       "2. 18.7\n",
       "3. 18.1\n",
       "4. 14.3\n",
       "5. 24.4\n",
       "6. 22.8\n",
       "7. 19.2\n",
       "8. 17.8\n",
       "9. 16.4\n",
       "10. 17.3\n",
       "11. 15.2\n",
       "12. 10.4\n",
       "13. 10.4\n",
       "14. 14.7\n",
       "15. 21.5\n",
       "16. 15.5\n",
       "17. 15.2\n",
       "18. 13.3\n",
       "19. 19.2\n",
       "\n",
       "\n"
      ],
      "text/plain": [
       " [1] 21.4 18.7 18.1 14.3 24.4 22.8 19.2 17.8 16.4 17.3 15.2 10.4 10.4 14.7 21.5\n",
       "[16] 15.5 15.2 13.3 19.2"
      ]
     },
     "metadata": {},
     "output_type": "display_data"
    }
   ],
   "source": [
    "L = mtcars$am == 0 \n",
    "mpg.auto = mtcars[L,]$mpg\n",
    "mpg.auto"
   ]
  },
  {
   "cell_type": "code",
   "execution_count": 77,
   "metadata": {},
   "outputs": [
    {
     "data": {
      "text/html": [
       "<style>\n",
       ".list-inline {list-style: none; margin:0; padding: 0}\n",
       ".list-inline>li {display: inline-block}\n",
       ".list-inline>li:not(:last-child)::after {content: \"\\00b7\"; padding: 0 .5ex}\n",
       "</style>\n",
       "<ol class=list-inline><li>21</li><li>21</li><li>22.8</li><li>32.4</li><li>30.4</li><li>33.9</li><li>27.3</li><li>26</li><li>30.4</li><li>15.8</li><li>19.7</li><li>15</li><li>21.4</li></ol>\n"
      ],
      "text/latex": [
       "\\begin{enumerate*}\n",
       "\\item 21\n",
       "\\item 21\n",
       "\\item 22.8\n",
       "\\item 32.4\n",
       "\\item 30.4\n",
       "\\item 33.9\n",
       "\\item 27.3\n",
       "\\item 26\n",
       "\\item 30.4\n",
       "\\item 15.8\n",
       "\\item 19.7\n",
       "\\item 15\n",
       "\\item 21.4\n",
       "\\end{enumerate*}\n"
      ],
      "text/markdown": [
       "1. 21\n",
       "2. 21\n",
       "3. 22.8\n",
       "4. 32.4\n",
       "5. 30.4\n",
       "6. 33.9\n",
       "7. 27.3\n",
       "8. 26\n",
       "9. 30.4\n",
       "10. 15.8\n",
       "11. 19.7\n",
       "12. 15\n",
       "13. 21.4\n",
       "\n",
       "\n"
      ],
      "text/plain": [
       " [1] 21.0 21.0 22.8 32.4 30.4 33.9 27.3 26.0 30.4 15.8 19.7 15.0 21.4"
      ]
     },
     "metadata": {},
     "output_type": "display_data"
    }
   ],
   "source": [
    "mpg.manual = mtcars[!L,]$mpg \n",
    "mpg.manual "
   ]
  },
  {
   "cell_type": "code",
   "execution_count": 78,
   "metadata": {},
   "outputs": [
    {
     "data": {
      "text/plain": [
       "\n",
       "\tWelch Two Sample t-test\n",
       "\n",
       "data:  mpg.auto and mpg.manual\n",
       "t = -3.7671, df = 18.332, p-value = 0.001374\n",
       "alternative hypothesis: true difference in means is not equal to 0\n",
       "95 percent confidence interval:\n",
       " -11.280194  -3.209684\n",
       "sample estimates:\n",
       "mean of x mean of y \n",
       " 17.14737  24.39231 \n"
      ]
     },
     "metadata": {},
     "output_type": "display_data"
    }
   ],
   "source": [
    "t.test(mpg.auto, mpg.manual) "
   ]
  },
  {
   "cell_type": "code",
   "execution_count": 79,
   "metadata": {},
   "outputs": [
    {
     "data": {
      "text/plain": [
       "\n",
       "\tWelch Two Sample t-test\n",
       "\n",
       "data:  mpg by am\n",
       "t = -3.7671, df = 18.332, p-value = 0.001374\n",
       "alternative hypothesis: true difference in means is not equal to 0\n",
       "95 percent confidence interval:\n",
       " -11.280194  -3.209684\n",
       "sample estimates:\n",
       "mean in group 0 mean in group 1 \n",
       "       17.14737        24.39231 \n"
      ]
     },
     "metadata": {},
     "output_type": "display_data"
    }
   ],
   "source": [
    "t.test(mpg ~ am, data=mtcars) "
   ]
  },
  {
   "cell_type": "markdown",
   "metadata": {},
   "source": [
    "<u>Paired means</u>\n",
    "\n",
    "http://www.sthda.com/english/wiki/paired-samples-t-test-in-r"
   ]
  },
  {
   "cell_type": "code",
   "execution_count": 80,
   "metadata": {},
   "outputs": [
    {
     "data": {
      "text/html": [
       "<table>\n",
       "<caption>A data.frame: 20 × 2</caption>\n",
       "<thead>\n",
       "\t<tr><th scope=col>group</th><th scope=col>weight</th></tr>\n",
       "\t<tr><th scope=col>&lt;fct&gt;</th><th scope=col>&lt;dbl&gt;</th></tr>\n",
       "</thead>\n",
       "<tbody>\n",
       "\t<tr><td>before</td><td>200.1</td></tr>\n",
       "\t<tr><td>before</td><td>190.9</td></tr>\n",
       "\t<tr><td>before</td><td>192.7</td></tr>\n",
       "\t<tr><td>before</td><td>213.0</td></tr>\n",
       "\t<tr><td>before</td><td>241.4</td></tr>\n",
       "\t<tr><td>before</td><td>196.9</td></tr>\n",
       "\t<tr><td>before</td><td>172.2</td></tr>\n",
       "\t<tr><td>before</td><td>185.5</td></tr>\n",
       "\t<tr><td>before</td><td>205.2</td></tr>\n",
       "\t<tr><td>before</td><td>193.7</td></tr>\n",
       "\t<tr><td>after </td><td>392.9</td></tr>\n",
       "\t<tr><td>after </td><td>393.2</td></tr>\n",
       "\t<tr><td>after </td><td>345.1</td></tr>\n",
       "\t<tr><td>after </td><td>393.0</td></tr>\n",
       "\t<tr><td>after </td><td>434.0</td></tr>\n",
       "\t<tr><td>after </td><td>427.9</td></tr>\n",
       "\t<tr><td>after </td><td>422.0</td></tr>\n",
       "\t<tr><td>after </td><td>383.9</td></tr>\n",
       "\t<tr><td>after </td><td>392.3</td></tr>\n",
       "\t<tr><td>after </td><td>352.2</td></tr>\n",
       "</tbody>\n",
       "</table>\n"
      ],
      "text/latex": [
       "A data.frame: 20 × 2\n",
       "\\begin{tabular}{ll}\n",
       " group & weight\\\\\n",
       " <fct> & <dbl>\\\\\n",
       "\\hline\n",
       "\t before & 200.1\\\\\n",
       "\t before & 190.9\\\\\n",
       "\t before & 192.7\\\\\n",
       "\t before & 213.0\\\\\n",
       "\t before & 241.4\\\\\n",
       "\t before & 196.9\\\\\n",
       "\t before & 172.2\\\\\n",
       "\t before & 185.5\\\\\n",
       "\t before & 205.2\\\\\n",
       "\t before & 193.7\\\\\n",
       "\t after  & 392.9\\\\\n",
       "\t after  & 393.2\\\\\n",
       "\t after  & 345.1\\\\\n",
       "\t after  & 393.0\\\\\n",
       "\t after  & 434.0\\\\\n",
       "\t after  & 427.9\\\\\n",
       "\t after  & 422.0\\\\\n",
       "\t after  & 383.9\\\\\n",
       "\t after  & 392.3\\\\\n",
       "\t after  & 352.2\\\\\n",
       "\\end{tabular}\n"
      ],
      "text/markdown": [
       "\n",
       "A data.frame: 20 × 2\n",
       "\n",
       "| group &lt;fct&gt; | weight &lt;dbl&gt; |\n",
       "|---|---|\n",
       "| before | 200.1 |\n",
       "| before | 190.9 |\n",
       "| before | 192.7 |\n",
       "| before | 213.0 |\n",
       "| before | 241.4 |\n",
       "| before | 196.9 |\n",
       "| before | 172.2 |\n",
       "| before | 185.5 |\n",
       "| before | 205.2 |\n",
       "| before | 193.7 |\n",
       "| after  | 392.9 |\n",
       "| after  | 393.2 |\n",
       "| after  | 345.1 |\n",
       "| after  | 393.0 |\n",
       "| after  | 434.0 |\n",
       "| after  | 427.9 |\n",
       "| after  | 422.0 |\n",
       "| after  | 383.9 |\n",
       "| after  | 392.3 |\n",
       "| after  | 352.2 |\n",
       "\n"
      ],
      "text/plain": [
       "   group  weight\n",
       "1  before 200.1 \n",
       "2  before 190.9 \n",
       "3  before 192.7 \n",
       "4  before 213.0 \n",
       "5  before 241.4 \n",
       "6  before 196.9 \n",
       "7  before 172.2 \n",
       "8  before 185.5 \n",
       "9  before 205.2 \n",
       "10 before 193.7 \n",
       "11 after  392.9 \n",
       "12 after  393.2 \n",
       "13 after  345.1 \n",
       "14 after  393.0 \n",
       "15 after  434.0 \n",
       "16 after  427.9 \n",
       "17 after  422.0 \n",
       "18 after  383.9 \n",
       "19 after  392.3 \n",
       "20 after  352.2 "
      ]
     },
     "metadata": {},
     "output_type": "display_data"
    }
   ],
   "source": [
    "# Data in two numeric vectors\n",
    "# ++++++++++++++++++++++++++\n",
    "# Weight of the mice before treatment\n",
    "before <-c(200.1, 190.9, 192.7, 213, 241.4, 196.9, 172.2, 185.5, 205.2, 193.7)\n",
    "# Weight of the mice after treatment\n",
    "after <-c(392.9, 393.2, 345.1, 393, 434, 427.9, 422, 383.9, 392.3, 352.2)\n",
    "# Create a data frame\n",
    "my_data <- data.frame( \n",
    "                group = rep(c(\"before\", \"after\"), each = 10),\n",
    "                weight = c(before,  after)\n",
    "                )\n",
    "my_data"
   ]
  },
  {
   "cell_type": "code",
   "execution_count": 81,
   "metadata": {},
   "outputs": [
    {
     "name": "stderr",
     "output_type": "stream",
     "text": [
      "Loading required package: dplyr\n",
      "\n",
      "\n",
      "Attaching package: ‘dplyr’\n",
      "\n",
      "\n",
      "The following object is masked from ‘package:MASS’:\n",
      "\n",
      "    select\n",
      "\n",
      "\n",
      "The following objects are masked from ‘package:stats’:\n",
      "\n",
      "    filter, lag\n",
      "\n",
      "\n",
      "The following objects are masked from ‘package:base’:\n",
      "\n",
      "    intersect, setdiff, setequal, union\n",
      "\n",
      "\n",
      "`summarise()` ungrouping output (override with `.groups` argument)\n",
      "\n"
     ]
    },
    {
     "data": {
      "text/html": [
       "<table>\n",
       "<caption>A tibble: 2 × 4</caption>\n",
       "<thead>\n",
       "\t<tr><th scope=col>group</th><th scope=col>count</th><th scope=col>mean</th><th scope=col>sd</th></tr>\n",
       "\t<tr><th scope=col>&lt;fct&gt;</th><th scope=col>&lt;int&gt;</th><th scope=col>&lt;dbl&gt;</th><th scope=col>&lt;dbl&gt;</th></tr>\n",
       "</thead>\n",
       "<tbody>\n",
       "\t<tr><td>after </td><td>10</td><td>393.65</td><td>29.39801</td></tr>\n",
       "\t<tr><td>before</td><td>10</td><td>199.16</td><td>18.47354</td></tr>\n",
       "</tbody>\n",
       "</table>\n"
      ],
      "text/latex": [
       "A tibble: 2 × 4\n",
       "\\begin{tabular}{llll}\n",
       " group & count & mean & sd\\\\\n",
       " <fct> & <int> & <dbl> & <dbl>\\\\\n",
       "\\hline\n",
       "\t after  & 10 & 393.65 & 29.39801\\\\\n",
       "\t before & 10 & 199.16 & 18.47354\\\\\n",
       "\\end{tabular}\n"
      ],
      "text/markdown": [
       "\n",
       "A tibble: 2 × 4\n",
       "\n",
       "| group &lt;fct&gt; | count &lt;int&gt; | mean &lt;dbl&gt; | sd &lt;dbl&gt; |\n",
       "|---|---|---|---|\n",
       "| after  | 10 | 393.65 | 29.39801 |\n",
       "| before | 10 | 199.16 | 18.47354 |\n",
       "\n"
      ],
      "text/plain": [
       "  group  count mean   sd      \n",
       "1 after  10    393.65 29.39801\n",
       "2 before 10    199.16 18.47354"
      ]
     },
     "metadata": {},
     "output_type": "display_data"
    }
   ],
   "source": [
    "if (!require(\"dplyr\")) install.packages(\"dplyr\")\n",
    "group_by(my_data, group) %>%\n",
    "  summarise(\n",
    "    count = n(),\n",
    "    mean = mean(weight, na.rm = TRUE),\n",
    "    sd = sd(weight, na.rm = TRUE)\n",
    "  )"
   ]
  },
  {
   "cell_type": "code",
   "execution_count": 82,
   "metadata": {},
   "outputs": [],
   "source": [
    "#if(!require(devtools)) install.packages(\"devtools\")\n",
    "#devtools::install_github(\"kassambara/ggpubr\")\n",
    "#if(!require('ggpubr')) install.packages('ggpubr')"
   ]
  },
  {
   "cell_type": "code",
   "execution_count": 83,
   "metadata": {},
   "outputs": [],
   "source": [
    "# Plot weight by group and color by group\n",
    "#library(\"ggpubr\")\n",
    "#ggboxplot(my_data, x = \"group\", y = \"weight\", \n",
    "#          color = \"group\", palette = c(\"#00AFBB\", \"#E7B800\"),\n",
    "#          order = c(\"before\", \"after\"),\n",
    "#          ylab = \"Weight\", xlab = \"Groups\")"
   ]
  },
  {
   "cell_type": "markdown",
   "metadata": {},
   "source": [
    "TODO: Finish paired means section"
   ]
  },
  {
   "cell_type": "markdown",
   "metadata": {},
   "source": [
    "<h3><a id=\"3_3\">3.3 Tests of Hypotheses</a></h3>\n",
    "<h4><a id=\"3_3_1\">3.3.1 General Principles: Type I and Type II errors, significance level, power</a></h4>"
   ]
  },
  {
   "cell_type": "markdown",
   "metadata": {},
   "source": [
    "<u>Type I and Type II error</u>\n",
    "\n",
    "A <b>type I error</b> is the rejection of a true null hypotehsis, also known as a \"false positive\" finding or conclusion; example: \"an innocent person is convicted.\" \n",
    "\n",
    "A <b>type II error</b> is the non-rejection of a false null hypothesis, also know as a \"false negative\"; example: \"an innocent person is convicted.\"\n",
    "\n",
    "http://www.sethspielman.org/courses/geog5023/r_examples/Type_I_and_II_Errors.html\n",
    "\n"
   ]
  },
  {
   "cell_type": "code",
   "execution_count": 84,
   "metadata": {},
   "outputs": [
    {
     "data": {
      "text/plain": [
       "   Min. 1st Qu.  Median    Mean 3rd Qu.    Max. \n",
       "  41.27   82.39   94.61   95.57  106.88  140.06 "
      ]
     },
     "metadata": {},
     "output_type": "display_data"
    }
   ],
   "source": [
    "#Create a population with mean=100 and sd=20\n",
    "pop <- rnorm(10000, mean = 100, sd = 20)\n",
    "\n",
    "# Take two random samples from the population\n",
    "samp1 <- sample(pop, 100, repl = F)\n",
    "samp2 <- sample(pop, 100, repl = F)\n",
    "\n",
    "# the samples should be similar but not the same\n",
    "summary(samp1)"
   ]
  },
  {
   "cell_type": "code",
   "execution_count": 85,
   "metadata": {},
   "outputs": [
    {
     "data": {
      "text/plain": [
       "   Min. 1st Qu.  Median    Mean 3rd Qu.    Max. \n",
       "  51.43   83.21   97.25   96.61  108.16  158.63 "
      ]
     },
     "metadata": {},
     "output_type": "display_data"
    }
   ],
   "source": [
    "summary(samp2)"
   ]
  },
  {
   "cell_type": "code",
   "execution_count": 86,
   "metadata": {},
   "outputs": [
    {
     "data": {
      "text/plain": [
       "\n",
       "\tWelch Two Sample t-test\n",
       "\n",
       "data:  samp1 and samp2\n",
       "t = -0.36922, df = 197.93, p-value = 0.7124\n",
       "alternative hypothesis: true difference in means is not equal to 0\n",
       "95 percent confidence interval:\n",
       " -6.606637  4.522868\n",
       "sample estimates:\n",
       "mean of x mean of y \n",
       " 95.57191  96.61379 \n"
      ]
     },
     "metadata": {},
     "output_type": "display_data"
    }
   ],
   "source": [
    "# test the sample means\n",
    "test.result <- t.test(samp1, samp2)\n",
    "test.result"
   ]
  },
  {
   "cell_type": "code",
   "execution_count": 87,
   "metadata": {},
   "outputs": [],
   "source": [
    "numTests <- 1000  #number of t-test\n",
    "alphaSet = c(0.001, 0.01, 0.05, 0.1, 0.2)  #set of alpha values to test\n",
    "\n",
    "#A data.frame with three columns \"err\", \"p-value\", \"alpha\" full of NAs\n",
    "sigTests <- data.frame(err = NA, pValue = NA, alpha = NA)\n",
    "\n",
    "counter <- 1 #keeps track of row numbers in the output table\n",
    "for (i in 1:numTests) {\n",
    "    for (alpha in alphaSet) {\n",
    "        # take two samples from the same population\n",
    "        samp1 <- sample(pop, 100, repl = F)\n",
    "        samp2 <- sample(pop, 100, repl = F)\n",
    "        # test sample means\n",
    "        test.result <- t.test(samp1, samp2)\n",
    "        # recored results of test\n",
    "        if (test.result$p.value < alpha) {\n",
    "            sigTests[counter, 1] <- 1\n",
    "            sigTests[counter, 2] <- test.result$p.value\n",
    "            sigTests[counter, 3] <- alpha\n",
    "        } else {\n",
    "            sigTests[counter, 1] <- 0\n",
    "            sigTests[counter, 2] <- test.result$p.value\n",
    "            sigTests[counter, 3] <- alpha\n",
    "        }\n",
    "        counter <- counter + 1 #move to the next row\n",
    "    }\n",
    "}"
   ]
  },
  {
   "cell_type": "code",
   "execution_count": 88,
   "metadata": {},
   "outputs": [
    {
     "data": {
      "text/html": [
       "<table>\n",
       "<caption>A data.frame: 5 × 2</caption>\n",
       "<thead>\n",
       "\t<tr><th scope=col>sigTests$alpha</th><th scope=col>sigTests$err</th></tr>\n",
       "\t<tr><th scope=col>&lt;dbl&gt;</th><th scope=col>&lt;dbl&gt;</th></tr>\n",
       "</thead>\n",
       "<tbody>\n",
       "\t<tr><td>0.001</td><td>  0</td></tr>\n",
       "\t<tr><td>0.010</td><td> 15</td></tr>\n",
       "\t<tr><td>0.050</td><td> 41</td></tr>\n",
       "\t<tr><td>0.100</td><td> 87</td></tr>\n",
       "\t<tr><td>0.200</td><td>225</td></tr>\n",
       "</tbody>\n",
       "</table>\n"
      ],
      "text/latex": [
       "A data.frame: 5 × 2\n",
       "\\begin{tabular}{ll}\n",
       " sigTests\\$alpha & sigTests\\$err\\\\\n",
       " <dbl> & <dbl>\\\\\n",
       "\\hline\n",
       "\t 0.001 &   0\\\\\n",
       "\t 0.010 &  15\\\\\n",
       "\t 0.050 &  41\\\\\n",
       "\t 0.100 &  87\\\\\n",
       "\t 0.200 & 225\\\\\n",
       "\\end{tabular}\n"
      ],
      "text/markdown": [
       "\n",
       "A data.frame: 5 × 2\n",
       "\n",
       "| sigTests$alpha &lt;dbl&gt; | sigTests$err &lt;dbl&gt; |\n",
       "|---|---|\n",
       "| 0.001 |   0 |\n",
       "| 0.010 |  15 |\n",
       "| 0.050 |  41 |\n",
       "| 0.100 |  87 |\n",
       "| 0.200 | 225 |\n",
       "\n"
      ],
      "text/plain": [
       "  sigTests$alpha sigTests$err\n",
       "1 0.001            0         \n",
       "2 0.010           15         \n",
       "3 0.050           41         \n",
       "4 0.100           87         \n",
       "5 0.200          225         "
      ]
     },
     "metadata": {},
     "output_type": "display_data"
    }
   ],
   "source": [
    "aggregate(sigTests$err ~ sigTests$alpha, FUN = sum)  #produce results of experiment"
   ]
  },
  {
   "cell_type": "code",
   "execution_count": 89,
   "metadata": {},
   "outputs": [
    {
     "data": {
      "text/html": [
       "<table>\n",
       "<caption>A data.frame: 5 × 2</caption>\n",
       "<thead>\n",
       "\t<tr><th scope=col>sigTests$alpha</th><th scope=col>sigTests$err</th></tr>\n",
       "\t<tr><th scope=col>&lt;dbl&gt;</th><th scope=col>&lt;dbl&gt;</th></tr>\n",
       "</thead>\n",
       "<tbody>\n",
       "\t<tr><td>0.001</td><td>412</td></tr>\n",
       "\t<tr><td>0.010</td><td>149</td></tr>\n",
       "\t<tr><td>0.050</td><td> 62</td></tr>\n",
       "\t<tr><td>0.100</td><td> 34</td></tr>\n",
       "\t<tr><td>0.200</td><td> 25</td></tr>\n",
       "</tbody>\n",
       "</table>\n"
      ],
      "text/latex": [
       "A data.frame: 5 × 2\n",
       "\\begin{tabular}{ll}\n",
       " sigTests\\$alpha & sigTests\\$err\\\\\n",
       " <dbl> & <dbl>\\\\\n",
       "\\hline\n",
       "\t 0.001 & 412\\\\\n",
       "\t 0.010 & 149\\\\\n",
       "\t 0.050 &  62\\\\\n",
       "\t 0.100 &  34\\\\\n",
       "\t 0.200 &  25\\\\\n",
       "\\end{tabular}\n"
      ],
      "text/markdown": [
       "\n",
       "A data.frame: 5 × 2\n",
       "\n",
       "| sigTests$alpha &lt;dbl&gt; | sigTests$err &lt;dbl&gt; |\n",
       "|---|---|\n",
       "| 0.001 | 412 |\n",
       "| 0.010 | 149 |\n",
       "| 0.050 |  62 |\n",
       "| 0.100 |  34 |\n",
       "| 0.200 |  25 |\n",
       "\n"
      ],
      "text/plain": [
       "  sigTests$alpha sigTests$err\n",
       "1 0.001          412         \n",
       "2 0.010          149         \n",
       "3 0.050           62         \n",
       "4 0.100           34         \n",
       "5 0.200           25         "
      ]
     },
     "metadata": {},
     "output_type": "display_data"
    }
   ],
   "source": [
    "numTests <- 1000  #number of t-test\n",
    "difference <- 5  #difference in group means\n",
    "alphaSet = c(0.001, 0.01, 0.05, 0.1, 0.2)  #set of alpha values to test\n",
    "sigTests <- data.frame(err = NA, pValue = NA, alpha = NA)\n",
    "\n",
    "counter <- 1\n",
    "for (i in 1:numTests) {\n",
    "    for (alpha in alphaSet) {\n",
    "        # take two samples from DIFFERENT populations\n",
    "        samp1 <- rnorm(100, mean = 100, sd = 10)\n",
    "        samp2 <- rnorm(100, mean = 100 + difference, sd = 10)\n",
    "        test.result <- t.test(samp1, samp2)\n",
    "        if (test.result$p.value > alpha) { #note the >\n",
    "            sigTests[counter, 1] <- 1\n",
    "            sigTests[counter, 2] <- test.result$p.value\n",
    "            sigTests[counter, 3] <- alpha\n",
    "        } else {\n",
    "            sigTests[counter, 1] <- 0\n",
    "            sigTests[counter, 2] <- test.result$p.value\n",
    "            sigTests[counter, 3] <- alpha\n",
    "        }\n",
    "        counter <- counter + 1\n",
    "    }\n",
    "}\n",
    "\n",
    "#The results below show that when alpha is really low Type II errors become more common.\n",
    "aggregate(sigTests$err ~ sigTests$alpha, FUN = sum)  #produce results of experiment"
   ]
  },
  {
   "cell_type": "markdown",
   "metadata": {},
   "source": [
    "<u>Significance level</u>\n",
    "\n",
    "The <b>significance level</b>, also denoted as alpha or α, is the probability of rejecting the null hypothesis when it is true. For example, a significance level of 0.05 indicates a 5% risk of concluding that a difference exists when there is no actual difference.\n",
    "\n",
    "https://blog.minitab.com/blog/adventures-in-statistics-2/understanding-hypothesis-tests-significance-levels-alpha-and-p-values-in-statistics"
   ]
  },
  {
   "cell_type": "markdown",
   "metadata": {},
   "source": [
    "<u>Power</u>\n",
    "\n",
    "The <b>power</b>, or P-value, of a binary hypothesis test is the probability that it rejects the null hypothesis, when a specific alternative hypothesis is true, i.e. it indicates the probability of avoiding a type II error.\n",
    "\n",
    "When a P value is less than or equal to the significance level, you reject the null hypothesis.\n",
    "\n",
    "High P values: your data are likely with a true null.\n",
    "\n",
    "Low P values: your data are unlikely with a true null.\n",
    "\n",
    "For example, suppose that a vaccine study produced a P value of 0.04. This P value indicates that if the vaccine had no effect, you’d obtain the observed difference or more in 4% of studies due to random sampling error."
   ]
  },
  {
   "cell_type": "code",
   "execution_count": 90,
   "metadata": {},
   "outputs": [
    {
     "data": {
      "text/html": [
       "4.47213595499958"
      ],
      "text/latex": [
       "4.47213595499958"
      ],
      "text/markdown": [
       "4.47213595499958"
      ],
      "text/plain": [
       "[1] 4.472136"
      ]
     },
     "metadata": {},
     "output_type": "display_data"
    },
    {
     "data": {
      "text/html": [
       "7.74421643104407e-06"
      ],
      "text/latex": [
       "7.74421643104407e-06"
      ],
      "text/markdown": [
       "7.74421643104407e-06"
      ],
      "text/plain": [
       "[1] 7.744216e-06"
      ]
     },
     "metadata": {},
     "output_type": "display_data"
    }
   ],
   "source": [
    "a <- 5\n",
    "s <- 2\n",
    "n <- 20\n",
    "xbar <- 7\n",
    "z <- (xbar-a)/(s/sqrt(n))\n",
    "z\n",
    "2*pnorm(-abs(z))\n"
   ]
  },
  {
   "cell_type": "markdown",
   "metadata": {},
   "source": [
    "<h4><a id=\"3_3_2\">3.3.2 Tests for single populations (z-test for proportion, t-test for mean)</a></h4>\n",
    "    \n",
    "<u>z-test for proportion</u>\n",
    "\n",
    "A <b>z-test</b> is a statistical test used to determine whether two population means are different when the variances are known and the sample size is large. \n",
    "\n",
    "A z-statistic, or z-score, is a number representing how many standard deviations above or below the mean population a score derived from a z-test is.\n",
    "\n",
    "The z score is the square root of the chi square."
   ]
  },
  {
   "cell_type": "code",
   "execution_count": 91,
   "metadata": {},
   "outputs": [
    {
     "data": {
      "text/plain": [
       "\n",
       "\t2-sample test for equality of proportions without continuity\n",
       "\tcorrection\n",
       "\n",
       "data:  c(27, 53) out of c(89, 552)\n",
       "X-squared = 30.17, df = 1, p-value = 3.959e-08\n",
       "alternative hypothesis: two.sided\n",
       "95 percent confidence interval:\n",
       " 0.1087366 0.3059760\n",
       "sample estimates:\n",
       "    prop 1     prop 2 \n",
       "0.30337079 0.09601449 \n"
      ]
     },
     "metadata": {},
     "output_type": "display_data"
    },
    {
     "data": {
      "text/html": [
       "<strong>X-squared:</strong> 5.49268071540014"
      ],
      "text/latex": [
       "\\textbf{X-squared:} 5.49268071540014"
      ],
      "text/markdown": [
       "**X-squared:** 5.49268071540014"
      ],
      "text/plain": [
       "X-squared \n",
       " 5.492681 "
      ]
     },
     "metadata": {},
     "output_type": "display_data"
    }
   ],
   "source": [
    "ztest <- prop.test(c(27, 53), n = c(89, 552), correct = F)\n",
    "ztest\n",
    "sqrt(ztest$statistic)\n"
   ]
  },
  {
   "cell_type": "code",
   "execution_count": 92,
   "metadata": {},
   "outputs": [
    {
     "data": {
      "text/plain": [
       "\n",
       "\t2-sample test for equality of proportions with continuity correction\n",
       "\n",
       "data:  c(490, 400) out of c(500, 500)\n",
       "X-squared = 80.909, df = 1, p-value < 2.2e-16\n",
       "alternative hypothesis: two.sided\n",
       "95 percent confidence interval:\n",
       " 0.1408536 0.2191464\n",
       "sample estimates:\n",
       "prop 1 prop 2 \n",
       "  0.98   0.80 \n"
      ]
     },
     "metadata": {},
     "output_type": "display_data"
    }
   ],
   "source": [
    "res <- prop.test(x = c(490, 400), n = c(500, 500))\n",
    "# Printing the results\n",
    "res "
   ]
  },
  {
   "cell_type": "code",
   "execution_count": 93,
   "metadata": {},
   "outputs": [
    {
     "data": {
      "text/plain": [
       "\n",
       "\t2-sample test for equality of proportions with continuity correction\n",
       "\n",
       "data:  c(490, 400) out of c(500, 500)\n",
       "X-squared = 80.909, df = 1, p-value = 1\n",
       "alternative hypothesis: less\n",
       "95 percent confidence interval:\n",
       " -1.0000000  0.2131742\n",
       "sample estimates:\n",
       "prop 1 prop 2 \n",
       "  0.98   0.80 \n"
      ]
     },
     "metadata": {},
     "output_type": "display_data"
    }
   ],
   "source": [
    "prop.test(x = c(490, 400), n = c(500, 500),\n",
    "           alternative = \"less\")"
   ]
  },
  {
   "cell_type": "code",
   "execution_count": 94,
   "metadata": {},
   "outputs": [
    {
     "data": {
      "text/plain": [
       "\n",
       "\t2-sample test for equality of proportions with continuity correction\n",
       "\n",
       "data:  c(490, 400) out of c(500, 500)\n",
       "X-squared = 80.909, df = 1, p-value < 2.2e-16\n",
       "alternative hypothesis: greater\n",
       "95 percent confidence interval:\n",
       " 0.1468258 1.0000000\n",
       "sample estimates:\n",
       "prop 1 prop 2 \n",
       "  0.98   0.80 \n"
      ]
     },
     "metadata": {},
     "output_type": "display_data"
    }
   ],
   "source": [
    "prop.test(x = c(490, 400), n = c(500, 500),\n",
    "              alternative = \"greater\")"
   ]
  },
  {
   "cell_type": "markdown",
   "metadata": {},
   "source": [
    "<u>t-test for mean</u>\n",
    "\n",
    "One of the most common tests in statistics is the t-test, used to determine whether the means of two groups are equal to each other.\n",
    "\n",
    "https://statistics.berkeley.edu/computing/r-t-tests"
   ]
  },
  {
   "cell_type": "code",
   "execution_count": 95,
   "metadata": {},
   "outputs": [
    {
     "data": {
      "text/html": [
       "<style>\n",
       ".list-inline {list-style: none; margin:0; padding: 0}\n",
       ".list-inline>li {display: inline-block}\n",
       ".list-inline>li:not(:last-child)::after {content: \"\\00b7\"; padding: 0 .5ex}\n",
       "</style>\n",
       "<ol class=list-inline><li>'statistic'</li><li>'parameter'</li><li>'p.value'</li><li>'conf.int'</li><li>'estimate'</li><li>'null.value'</li><li>'stderr'</li><li>'alternative'</li><li>'method'</li><li>'data.name'</li></ol>\n"
      ],
      "text/latex": [
       "\\begin{enumerate*}\n",
       "\\item 'statistic'\n",
       "\\item 'parameter'\n",
       "\\item 'p.value'\n",
       "\\item 'conf.int'\n",
       "\\item 'estimate'\n",
       "\\item 'null.value'\n",
       "\\item 'stderr'\n",
       "\\item 'alternative'\n",
       "\\item 'method'\n",
       "\\item 'data.name'\n",
       "\\end{enumerate*}\n"
      ],
      "text/markdown": [
       "1. 'statistic'\n",
       "2. 'parameter'\n",
       "3. 'p.value'\n",
       "4. 'conf.int'\n",
       "5. 'estimate'\n",
       "6. 'null.value'\n",
       "7. 'stderr'\n",
       "8. 'alternative'\n",
       "9. 'method'\n",
       "10. 'data.name'\n",
       "\n",
       "\n"
      ],
      "text/plain": [
       " [1] \"statistic\"   \"parameter\"   \"p.value\"     \"conf.int\"    \"estimate\"   \n",
       " [6] \"null.value\"  \"stderr\"      \"alternative\" \"method\"      \"data.name\"  "
      ]
     },
     "metadata": {},
     "output_type": "display_data"
    },
    {
     "data": {
      "text/html": [
       "<strong>t:</strong> 1.05185708215886"
      ],
      "text/latex": [
       "\\textbf{t:} 1.05185708215886"
      ],
      "text/markdown": [
       "**t:** 1.05185708215886"
      ],
      "text/plain": [
       "       t \n",
       "1.051857 "
      ]
     },
     "metadata": {},
     "output_type": "display_data"
    }
   ],
   "source": [
    "x = rnorm(10)\n",
    "y = rnorm(10)\n",
    "ttest = t.test(x,y)\n",
    "names(ttest)\n",
    "ttest$statistic"
   ]
  },
  {
   "cell_type": "code",
   "execution_count": 96,
   "metadata": {},
   "outputs": [
    {
     "data": {
      "text/html": [
       "<style>\n",
       ".list-inline {list-style: none; margin:0; padding: 0}\n",
       ".list-inline>li {display: inline-block}\n",
       ".list-inline>li:not(:last-child)::after {content: \"\\00b7\"; padding: 0 .5ex}\n",
       "</style>\n",
       "<ol class=list-inline><li>-4.19113659692551</li><li>4.40302434795341</li></ol>\n"
      ],
      "text/latex": [
       "\\begin{enumerate*}\n",
       "\\item -4.19113659692551\n",
       "\\item 4.40302434795341\n",
       "\\end{enumerate*}\n"
      ],
      "text/markdown": [
       "1. -4.19113659692551\n",
       "2. 4.40302434795341\n",
       "\n",
       "\n"
      ],
      "text/plain": [
       "[1] -4.191137  4.403024"
      ]
     },
     "metadata": {},
     "output_type": "display_data"
    },
    {
     "data": {
      "image/png": "[encoded data removed]",
      "text/plain": [
       "Plot with title “Histogram of ts”"
      ]
     },
     "metadata": {
      "image/png": {
       "height": 420,
       "width": 420
      }
     },
     "output_type": "display_data"
    }
   ],
   "source": [
    "ts = replicate(1000, t.test(rnorm(10), rnorm(10))$statistic)\n",
    "#ts\n",
    "hist(ts)\n",
    "range(ts)"
   ]
  },
  {
   "cell_type": "code",
   "execution_count": 97,
   "metadata": {},
   "outputs": [
    {
     "data": {
      "image/png": "[encoded data removed]",
      "text/plain": [
       "plot without title"
      ]
     },
     "metadata": {
      "image/png": {
       "height": 420,
       "width": 420
      }
     },
     "output_type": "display_data"
    }
   ],
   "source": [
    "pts = seq(-4.5,4.5,length=100)\n",
    "plot(pts, dt(pts, df=18), col='red', type='l')\n",
    "lines(density(ts))"
   ]
  },
  {
   "cell_type": "code",
   "execution_count": 98,
   "metadata": {},
   "outputs": [
    {
     "ename": "ERROR",
     "evalue": "Error in parse(text = x, srcfile = src): <text>:1:19: unexpected symbol\n1: quantile-quantile plot\n                      ^\n",
     "output_type": "error",
     "traceback": [
      "Error in parse(text = x, srcfile = src): <text>:1:19: unexpected symbol\n1: quantile-quantile plot\n                      ^\nTraceback:\n"
     ]
    }
   ],
   "source": [
    "quantile-quantile plot"
   ]
  },
  {
   "cell_type": "code",
   "execution_count": null,
   "metadata": {},
   "outputs": [],
   "source": [
    "qqplot(ts, rt(1000, df=18))\n",
    "abline(0,1)"
   ]
  },
  {
   "cell_type": "markdown",
   "metadata": {},
   "source": [
    "<h4><a id=\"3_3_3\">3.3.3 Test for difference in means</a></h4>"
   ]
  },
  {
   "cell_type": "markdown",
   "metadata": {},
   "source": [
    "See t-test for mean section (?)"
   ]
  },
  {
   "cell_type": "markdown",
   "metadata": {},
   "source": [
    "<h4><a id=\"3_3_4\">3.3.4 Test for paired difference in means</a></h4>\n",
    "\n",
    "TODO (covered already?)"
   ]
  },
  {
   "cell_type": "markdown",
   "metadata": {},
   "source": [
    "<h4><a id=\"3_3_5\">3.3.5 Analysis of Variance</a></h4>\n",
    "\n",
    "https://en.wikipedia.org/wiki/Analysis_of_variance\n",
    "\n",
    "https://www.scribbr.com/statistics/anova-in-r/\n",
    "\n",
    "In ANOVA, we want to make sure that the variation within each group being compared is similar across all groups. We can check this after fitting the model.\n",
    "\n",
    "ANOVA tests whether any of the group means are different from the overall mean of the data by checking the variance of each individual group against the overall variance of the data. "
   ]
  },
  {
   "cell_type": "code",
   "execution_count": null,
   "metadata": {},
   "outputs": [],
   "source": [
    "# install.packages(c(\"ggplot2\", \"ggpubr\", \"tidyverse\", \"broom\", \"AICcmodavg\"))"
   ]
  },
  {
   "cell_type": "code",
   "execution_count": null,
   "metadata": {},
   "outputs": [],
   "source": [
    "library(ggplot2)\n",
    "library(ggpubr)\n",
    "library(tidyverse)\n",
    "library(broom)\n",
    "library(AICcmodavg)"
   ]
  },
  {
   "cell_type": "code",
   "execution_count": null,
   "metadata": {},
   "outputs": [],
   "source": [
    "crop.data <- read.csv(\"data/crop.data.csv\", header=TRUE, colClass=c(\"factor\", \"factor\", \"factor\", \"numeric\"))"
   ]
  },
  {
   "cell_type": "code",
   "execution_count": null,
   "metadata": {},
   "outputs": [],
   "source": [
    "#crop.data\n",
    "summary(crop.data)"
   ]
  },
  {
   "cell_type": "code",
   "execution_count": null,
   "metadata": {},
   "outputs": [],
   "source": [
    "hist(crop.data$yield)"
   ]
  },
  {
   "cell_type": "markdown",
   "metadata": {},
   "source": [
    "<u>Two-way ANOVA</u>"
   ]
  },
  {
   "cell_type": "code",
   "execution_count": null,
   "metadata": {},
   "outputs": [],
   "source": [
    "one.way <- aov(yield ~ fertilizer, data=crop.data)\n",
    "summary(one.way)"
   ]
  },
  {
   "cell_type": "code",
   "execution_count": null,
   "metadata": {},
   "outputs": [],
   "source": [
    "two.way <- aov(yield ~ fertilizer + density, data = crop.data)\n",
    "summary(two.way)"
   ]
  },
  {
   "cell_type": "markdown",
   "metadata": {},
   "source": [
    "<h4><a id=\"3_3_6\">3.3.6 Chi-squared test of association (independence)</a></h4>\n",
    "\n",
    "The <b>chi-square test for association</b> is used to determine if there is any association between two categorical variables. It is really hypothesis test of independence. The null hypothesis is that the two variables are not associated, i.e. independent.\n",
    "\n",
    "This test uses a contingency table to analyze the data. A <b>contingency table</b> (also known as a cross-tabulation, crosstab, or two-way table) is an arrangement in which data is classified according to two categorical variables. The categories for one variable appear in the rows, and the categories for the other variable appear in columns. Each variable must have two or more categories. Each cell reflects the total count of cases for a specific pair of categories."
   ]
  },
  {
   "cell_type": "markdown",
   "metadata": {},
   "source": [
    "Good example of chi-squared tests in R\n",
    "\n",
    "http://www.sthda.com/english/wiki/chi-square-test-of-independence-in-r\n",
    "\n",
    "https://libguides.library.kent.edu/spss/chisquare"
   ]
  },
  {
   "cell_type": "code",
   "execution_count": null,
   "metadata": {},
   "outputs": [],
   "source": [
    "file_path <- \"http://www.sthda.com/sthda/RDoc/data/housetasks.txt\"\n",
    "housetasks <- read.delim(file_path, row.names = 1)"
   ]
  },
  {
   "cell_type": "code",
   "execution_count": null,
   "metadata": {},
   "outputs": [],
   "source": [
    "head(housetasks)\n",
    "housetasks"
   ]
  },
  {
   "cell_type": "code",
   "execution_count": null,
   "metadata": {},
   "outputs": [],
   "source": [
    "library(\"gplots\")"
   ]
  },
  {
   "cell_type": "code",
   "execution_count": null,
   "metadata": {},
   "outputs": [],
   "source": [
    "dt <- as.table(as.matrix(housetasks))\n"
   ]
  },
  {
   "cell_type": "code",
   "execution_count": null,
   "metadata": {},
   "outputs": [],
   "source": [
    "print(dt)"
   ]
  },
  {
   "cell_type": "code",
   "execution_count": null,
   "metadata": {},
   "outputs": [],
   "source": [
    "balloonplot(t(dt), main=\"housetasks\", xlab=\"\", ylab=\"\", label=FALSE, show.margins=FALSE)"
   ]
  },
  {
   "cell_type": "code",
   "execution_count": null,
   "metadata": {},
   "outputs": [],
   "source": [
    "library(\"graphics\")"
   ]
  },
  {
   "cell_type": "code",
   "execution_count": null,
   "metadata": {},
   "outputs": [],
   "source": [
    "mosaicplot(dt, shade=TRUE, las=2, main=\"housetasks\")"
   ]
  },
  {
   "cell_type": "code",
   "execution_count": null,
   "metadata": {},
   "outputs": [],
   "source": [
    "if (!require(\"vcd\")) install.packages(\"vcd\")\n"
   ]
  },
  {
   "cell_type": "code",
   "execution_count": null,
   "metadata": {},
   "outputs": [],
   "source": [
    "library(\"vcd\")"
   ]
  },
  {
   "cell_type": "code",
   "execution_count": null,
   "metadata": {},
   "outputs": [],
   "source": [
    "assoc(head(dt, 5), shade=TRUE, las=3)"
   ]
  },
  {
   "cell_type": "markdown",
   "metadata": {},
   "source": [
    "<u>Compute chi-square test in R</u>"
   ]
  },
  {
   "cell_type": "code",
   "execution_count": null,
   "metadata": {},
   "outputs": [],
   "source": [
    "chisq <- chisq.test(housetasks)\n",
    "chisq"
   ]
  },
  {
   "cell_type": "code",
   "execution_count": null,
   "metadata": {},
   "outputs": [],
   "source": [
    "chisq$observed\n"
   ]
  },
  {
   "cell_type": "code",
   "execution_count": null,
   "metadata": {},
   "outputs": [],
   "source": [
    "round(chisq$expected, 2)"
   ]
  },
  {
   "cell_type": "code",
   "execution_count": null,
   "metadata": {},
   "outputs": [],
   "source": [
    "round(chisq$residuals, 3)\n"
   ]
  },
  {
   "cell_type": "code",
   "execution_count": null,
   "metadata": {},
   "outputs": [],
   "source": [
    "library(corrplot)"
   ]
  },
  {
   "cell_type": "code",
   "execution_count": null,
   "metadata": {},
   "outputs": [],
   "source": [
    "corrplot(chisq$residuals, is.cor=FALSE)"
   ]
  },
  {
   "cell_type": "markdown",
   "metadata": {},
   "source": [
    "Positive residuals are in blue. Positive values in cells specify an atttraction (positive association) between the corresponding row and column variables.\n",
    "\n",
    "Negative residuals are in red. This implies a repulsion (negative association) between the corresponding row and column variables."
   ]
  },
  {
   "cell_type": "code",
   "execution_count": null,
   "metadata": {},
   "outputs": [],
   "source": [
    "contrib <- 100*chisq$residuals^2/chisq$statistic\n",
    "round(contrib, 3)"
   ]
  },
  {
   "cell_type": "code",
   "execution_count": null,
   "metadata": {},
   "outputs": [],
   "source": [
    "corrplot(contrib, is.cor=FALSE)"
   ]
  },
  {
   "cell_type": "code",
   "execution_count": null,
   "metadata": {},
   "outputs": [],
   "source": [
    "# ????\n",
    "chisq$p.value\n",
    "chisq$estimate"
   ]
  },
  {
   "cell_type": "markdown",
   "metadata": {},
   "source": [
    "<h4><a id=\"3_3_7\">3.3.7 Simple regression (Computation of the least squares regression line, inferences on the slope of the line)</a></h4>"
   ]
  },
  {
   "cell_type": "markdown",
   "metadata": {},
   "source": [
    "<b>Linear regression</b> is used to predict the value of an outcome variable Y based on one or more input predictor variables X. The aim is to establish a linear relationship (a mathematical formula) between the predictor variable(s) and the response variable, so that, we can use the formula to estimate the value of the reponse Y, when only the predictors are known.\n",
    "\n",
    "<u>Linear regression in R</u>\n",
    "\n",
    "http://r-statistics.co/Linear-Regression.html"
   ]
  },
  {
   "cell_type": "markdown",
   "metadata": {},
   "source": [
    "This mathematical equation can be generalized as:\n",
    "\n",
    "Y = β1 + β2X + ϵ\n",
    "\n",
    "where, β1 is the intercept and β2 is the slope. Collectively, they are called regression coefficients. ϵ is the error term, the part of Y the regression model is unable to explain."
   ]
  },
  {
   "cell_type": "markdown",
   "metadata": {},
   "source": [
    "![](files/linear-regression-small.png)"
   ]
  },
  {
   "cell_type": "code",
   "execution_count": null,
   "metadata": {},
   "outputs": [],
   "source": [
    "head(cars)"
   ]
  },
  {
   "cell_type": "code",
   "execution_count": null,
   "metadata": {},
   "outputs": [],
   "source": [
    "scatter.smooth(x=cars$speed, y=cars$dist, main=\"Dist ~ Speed\")"
   ]
  },
  {
   "cell_type": "code",
   "execution_count": null,
   "metadata": {},
   "outputs": [],
   "source": [
    "par(mfrow=c(1, 2))\n",
    "boxplot(cars$speed, main=\"Speed\", sub=paste(\"Outlier rows: \", boxplot.stats(cars$speed)$out))\n",
    "boxplot(cars$dist, main=\"Distance\", sub=paste(\"Outlier rows: \", boxplot.stats(cars$dist)$out))"
   ]
  },
  {
   "cell_type": "code",
   "execution_count": null,
   "metadata": {},
   "outputs": [],
   "source": [
    "library(e1071)"
   ]
  },
  {
   "cell_type": "code",
   "execution_count": null,
   "metadata": {},
   "outputs": [],
   "source": [
    "par(mfrow=c(1, 2))\n",
    "plot(density(cars$speed), main=\"Density Plot: Speed\", ylab=\"Frequency\", sub=paste(\"Skewness:\", round(e1071::skewness(cars$speed), 2)))\n",
    "polygon(density(cars$speed), col=\"red\")\n",
    "plot(density(cars$dist), main=\"Density Plot: Distance\", ylab=\"Frequency\", sub=paste(\"Skewness:\", round(e1071::skewness(cars$dist), 2)))\n",
    "polygon(density(cars$dist), col=\"red\")"
   ]
  },
  {
   "cell_type": "code",
   "execution_count": null,
   "metadata": {},
   "outputs": [],
   "source": [
    "# compute correlation (closer to one means strong relationship and closer to zero is weak)\n",
    "# -0.2 < x < 0.2 suggests that Y is unexplained by the predictor\n",
    "cor(cars$speed, cars$dist)"
   ]
  },
  {
   "cell_type": "code",
   "execution_count": null,
   "metadata": {},
   "outputs": [],
   "source": [
    "<u>Build Linear Model</u>"
   ]
  },
  {
   "cell_type": "code",
   "execution_count": null,
   "metadata": {},
   "outputs": [],
   "source": [
    "linearMod <- lm(dist ~ speed, data=cars)\n",
    "print(linearMod)"
   ]
  },
  {
   "cell_type": "code",
   "execution_count": null,
   "metadata": {},
   "outputs": [],
   "source": [
    "summary(linearMod)"
   ]
  },
  {
   "cell_type": "code",
   "execution_count": null,
   "metadata": {},
   "outputs": [],
   "source": [
    "# create training and test data\n",
    "set.seed(100)\n",
    "trainingRowIndex <- sample(1:nrow(cars), 0.8*nrow(cars))\n",
    "trainingData <- cars[trainingRowIndex, ]\n",
    "testData <- cars[-trainingRowIndex, ]\n",
    "nrow(trainingData)\n",
    "nrow(testData)"
   ]
  },
  {
   "cell_type": "code",
   "execution_count": null,
   "metadata": {},
   "outputs": [],
   "source": [
    "lmMod <- lm(dist ~ speed, data=trainingData)\n",
    "distPred <- predict(lmMod, testData)"
   ]
  },
  {
   "cell_type": "code",
   "execution_count": null,
   "metadata": {},
   "outputs": [],
   "source": [
    "summary(lmMod)"
   ]
  },
  {
   "cell_type": "code",
   "execution_count": null,
   "metadata": {},
   "outputs": [],
   "source": [
    "summary(distPred)"
   ]
  },
  {
   "cell_type": "code",
   "execution_count": null,
   "metadata": {},
   "outputs": [],
   "source": [
    "AIC(lmMod)"
   ]
  },
  {
   "cell_type": "code",
   "execution_count": null,
   "metadata": {},
   "outputs": [],
   "source": [
    "actual_preds <- data.frame(cbind(actusl=testData$dist, predicteds=distPred))\n",
    "correlation_accuracy <- cor(actual_preds)\n",
    "head(actual_preds)"
   ]
  },
  {
   "cell_type": "markdown",
   "metadata": {},
   "source": [
    "<u>k-Fold Cross Validation</u>"
   ]
  },
  {
   "cell_type": "code",
   "execution_count": null,
   "metadata": {},
   "outputs": [],
   "source": [
    "if (!require(\"DAAG\")) install.packages(\"DAAG\")\n",
    "library(\"DAAG\")"
   ]
  },
  {
   "cell_type": "markdown",
   "metadata": {},
   "source": [
    "CVlm function\n",
    "    \n",
    "https://www.rdocumentation.org/packages/DAAG/versions/1.24/topics/CVlm"
   ]
  },
  {
   "cell_type": "code",
   "execution_count": null,
   "metadata": {},
   "outputs": [],
   "source": [
    "cvResults <- suppressWarnings(CVlm(data=cars, form.lm=dist ~ speed, m=5, dots=FALSE, seed=29, \n",
    "                                   legend.pos=\"topleft\",  printit=FALSE, \n",
    "                                   main=\"Small symbols are predicted values while bigger ones are actuals.\"));  # performs the CV\n",
    "attr(cvResults, 'ms')  # => 251.2783 mean squared error"
   ]
  },
  {
   "cell_type": "markdown",
   "metadata": {},
   "source": [
    "<h4><a id=\"3_3_8\">3.3.8 Correlation (Pearson correlation coefficient, coefficient of determination)</a></h4>"
   ]
  },
  {
   "cell_type": "markdown",
   "metadata": {},
   "source": [
    "A <b>correlation test</b> is used to evaluate the association between two or more variables.\n",
    "\n",
    "<u>Correlation test between two variables in R</u>\n",
    "\n",
    "http://www.sthda.com/english/wiki/correlation-test-between-two-variables-in-r"
   ]
  },
  {
   "cell_type": "code",
   "execution_count": null,
   "metadata": {},
   "outputs": [],
   "source": [
    "if (!require(\"ggpubr\")) install.packages(\"ggpubr\")\n",
    "library(\"ggpubr\")"
   ]
  },
  {
   "cell_type": "code",
   "execution_count": null,
   "metadata": {},
   "outputs": [],
   "source": [
    "my_data = mtcars\n",
    "head(my_data, 6)\n",
    "#cor(x, y, method = c(\"pearson\", \"kendall\", \"spearman\"))\n",
    "#cor.test(x, y, method=c(\"pearson\", \"kendall\", \"spearman\"))"
   ]
  },
  {
   "cell_type": "code",
   "execution_count": null,
   "metadata": {},
   "outputs": [],
   "source": [
    "library(\"ggpubr\")\n",
    "ggscatter(my_data, x = \"mpg\", y = \"wt\", \n",
    "          add = \"reg.line\", conf.int = TRUE, \n",
    "          cor.coef = TRUE, cor.method = \"pearson\",\n",
    "          xlab = \"Miles/(US) gallon\", ylab = \"Weight (1000 lbs)\")"
   ]
  },
  {
   "cell_type": "code",
   "execution_count": null,
   "metadata": {},
   "outputs": [],
   "source": [
    "res <- cor.test(my_data$wt, my_data$mpg, \n",
    "                    method = \"pearson\")\n",
    "res"
   ]
  },
  {
   "cell_type": "markdown",
   "metadata": {},
   "source": [
    "<u>Coefficient of determination</u>\n",
    "\n",
    "The <b>coefficient of determination</b>, denoted R^2 or r^2 and pronounced \"R squared\", is the proportion of the variance in the dependent variable that is predictable from the independent variable(s)."
   ]
  },
  {
   "cell_type": "code",
   "execution_count": null,
   "metadata": {},
   "outputs": [],
   "source": [
    "# from LM in prior section\n",
    "summary(lmMod)$r.squared"
   ]
  },
  {
   "cell_type": "code",
   "execution_count": null,
   "metadata": {},
   "outputs": [],
   "source": []
  }
 ],
 "metadata": {
  "kernelspec": {
   "display_name": "R",
   "language": "R",
   "name": "ir"
  },
  "language_info": {
   "codemirror_mode": "r",
   "file_extension": ".r",
   "mimetype": "text/x-r-source",
   "name": "R",
   "pygments_lexer": "r",
   "version": "3.6.3"
  }
 },
 "nbformat": 4,
 "nbformat_minor": 4
}
