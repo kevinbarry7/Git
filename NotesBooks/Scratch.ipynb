{
 "cells": [
  {
   "cell_type": "markdown",
   "metadata": {},
   "source": [
    "<b>Linear Regression</b>\n",
    "\n",
    "Use <a href=\"http://scikit-learn.org/stable/auto_examples/linear_model/plot_ols.html\">linear regression</a> of one input variable to predict another.\n",
    "\n",
    "The X data must first be <a href=\"https://docs.scipy.org/doc/numpy/reference/generated/numpy.reshape.html#numpy.reshape\">reshaped</a>.\n",
    "\n",
    "Print the coefficient values, MSE and variance score (1 is perfect).\n",
    "\n",
    "Plot the input X and y values against the prediction line."
   ]
  },
  {
   "cell_type": "code",
   "execution_count": null,
   "metadata": {},
   "outputs": [],
   "source": [
    "# linear regression example (from Iris dataset which is really for classification!!!)\n",
    "\n",
    "from sklearn import linear_model\n",
    "\n",
    "# Use 'sepal length (cm)' as the input variable.\n",
    "# This needs to be reshaped into a list of N samples,\n",
    "# and each entry of the list is another list containing the \n",
    "# input variable value.\n",
    "X = df['sepal length (cm)'].values.reshape(-1, 1)\n",
    "\n",
    "# This is another way to get a properly shaped X array.\n",
    "#X = iris.data[:, np.newaxis, 0]\n",
    "\n",
    "# Use 'petal length (cm)' as the response variable.\n",
    "# This just needs to be a list or array of the correct length.\n",
    "y = df['petal length (cm)'].values\n",
    "\n",
    "# Use a simple linear regression model.\n",
    "regr = linear_model.LinearRegression()\n",
    "\n",
    "# Fit the data.\n",
    "fitted = regr.fit(X, y)\n",
    "\n",
    "# The coefficients\n",
    "print('Coefficients: \\n', regr.coef_)\n",
    "# The mean square error\n",
    "print(\"Residual sum of squares: %.2f\"\n",
    "      % np.mean((regr.predict(X) - y) ** 2))\n",
    "# Explained variance score: 1 is perfect prediction\n",
    "print('Variance score: %.2f' % regr.score(X, y))\n",
    "\n",
    "# Print X vs y and prediction.\n",
    "plt.scatter(X, y, color='black')\n",
    "plt.plot(X, regr.predict(X), color='blue', linewidth=3)\n",
    "plt.show()"
   ]
  },
  {
   "cell_type": "code",
   "execution_count": null,
   "metadata": {},
   "outputs": [],
   "source": [
    "# Example - Select the nth column.\n",
    "df.iloc[:, 0]"
   ]
  },
  {
   "cell_type": "markdown",
   "metadata": {},
   "source": [
    "plot classifiers<br/>\n",
    "http://scikit-learn.org/stable/auto_examples/classification/plot_classifier_comparison.html\n",
    "\n",
    "https://matplotlib.org/users/dflt_style_changes.html\n",
    "\n",
    "https://matplotlib.org/users/tight_layout_guide.html"
   ]
  },
  {
   "cell_type": "markdown",
   "metadata": {},
   "source": [
    "ML datasets\n",
    "\n",
    "http://archive.ics.uci.edu/ml/datasets.html"
   ]
  },
  {
   "cell_type": "markdown",
   "metadata": {},
   "source": [
    "subplots demo\n",
    "\n",
    "https://matplotlib.org/examples/pylab_examples/subplots_demo.html"
   ]
  },
  {
   "cell_type": "markdown",
   "metadata": {},
   "source": [
    "figure title\n",
    "\n",
    "https://matplotlib.org/gallery/subplots_axes_and_figures/figure_title.html"
   ]
  },
  {
   "cell_type": "markdown",
   "metadata": {},
   "source": [
    "figure size\n",
    "\n",
    "https://stackoverflow.com/questions/332289/how-do-you-change-the-size-of-figures-drawn-with-matplotlib"
   ]
  },
  {
   "cell_type": "markdown",
   "metadata": {},
   "source": [
    "artist API tutorial\n",
    "\n",
    "https://matplotlib.org/users/artists.html"
   ]
  },
  {
   "cell_type": "markdown",
   "metadata": {},
   "source": [
    "plotting an image from a matrix\n",
    "\n",
    "https://matplotlib.org/api/_as_gen/matplotlib.pyplot.imshow.html"
   ]
  },
  {
   "cell_type": "code",
   "execution_count": null,
   "metadata": {},
   "outputs": [],
   "source": []
  }
 ],
 "metadata": {
  "kernelspec": {
   "display_name": "Python 3",
   "language": "python",
   "name": "python3"
  },
  "language_info": {
   "codemirror_mode": {
    "name": "ipython",
    "version": 3
   },
   "file_extension": ".py",
   "mimetype": "text/x-python",
   "name": "python",
   "nbconvert_exporter": "python",
   "pygments_lexer": "ipython3",
   "version": "3.6.4"
  }
 },
 "nbformat": 4,
 "nbformat_minor": 2
}
